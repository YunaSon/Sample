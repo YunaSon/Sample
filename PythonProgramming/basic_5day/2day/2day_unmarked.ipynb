{
 "cells": [
  {
   "cell_type": "markdown",
   "metadata": {},
   "source": [
    "\n",
    "# 1day\n",
    "\n",
    "## 배운 내용\n",
    "\n",
    "- 변수선언\n",
    "- 자료형\n",
    "    - number: int, float\n",
    "    - boolean\n",
    "    - string\n",
    "    - list (stack)\n",
    "    - tuple \n",
    "    - dictionary\n",
    "    - set\n",
    "\n",
    "\n",
    "    - 기타:collections모듈\n",
    "    https://docs.python.org/3.8/library/collections.html\n",
    "\n",
    "\n",
    "## 배운 개념\n",
    "\n",
    "- 변수 선언 메모리 자원을 이용하는것. \n",
    "- 크게는 자료형안에 들어가지만 자료형 안에 자료구조로 구분하기도 함.  \n",
    "    - 자료구조(data structure) or container or collection \n",
    "        - 배열(array), 해시(hash)-연관배열 \n",
    "- 동적 타이핑이란?\n",
    "- 형변환:\n",
    "    - 리터럴(literal)\n",
    "    - int(), float(), list(), tuple(), dict(), set()\n",
    "\n",
    "\n",
    "- 패킹(packing)과 언패킹(unpacking)\n",
    "    - 기본적으로 튜플값으로 패킹된다. \n",
    "    - *: 갯수가 다른 겂을 패킹 할때 \n",
    "\n",
    "- []대괄호 (연산자?) : 값에 접근\n",
    "    - 슬라이싱, 인덱싱, 오프셋 : 문자열, 리트스, 튜플\n",
    "    - 키값 : 딕셔너리\n",
    "\n",
    "- 기타 연관 메소드\n",
    "    - 사칙연산: +,-,*,**, /,//,%\n",
    "    - 문자열과 list에 대해서는 : +, *\n",
    "    - string: .upper(), .lower(), .strip(), .replace(), .find(), .join(), .split()\n",
    "    - list: .append(), .extend(), .insert(), .pop(), .remove(), .replace(), .sort(), .reverse()\n",
    "    - dictionary: .keys(), ,values(), .items()\n",
    "    - set: .union(), intersection()\n",
    "\n",
    "- 내장함수(built-in function)\n",
    "    - type()\n",
    "    - len()\n",
    "    - print()\n",
    "    - input()\n",
    "    - 형변환 함수들: int(), float(), str(), list(), tuple(), \n",
    "    - sum(), max(), min()\n",
    "    - range()\n",
    "    - sorted() (*list의 .sort())\n",
    "    - zip()\n",
    "    - enumerate()"
   ]
  },
  {
   "cell_type": "code",
   "execution_count": 7,
   "metadata": {},
   "outputs": [],
   "source": [
    "# unpacking, packing에서 언급하지 않은 이야기. "
   ]
  },
  {
   "cell_type": "code",
   "execution_count": 8,
   "metadata": {},
   "outputs": [],
   "source": [
    "#*a, b = 1, 2, 3"
   ]
  },
  {
   "cell_type": "markdown",
   "metadata": {},
   "source": [
    "## 코드 구조: \"코드를 어떻게 구조화 하는지\" - 코드를 여러줄 작성하는것. \n",
    "\n",
    "### Intro\n",
    "\n",
    "1. 들여쓰기(indentation)\n",
    "    - 스페이스 4번, 탭 1번\n",
    "    - (*간혹 스페이스 2번)\n",
    "\n",
    "- 다른 언어들은 코드를 구조화 할 때 중활호({}), 세미콜론과 같은 문장으로 구분한다.\n",
    "\n",
    "- 자바스크립트와 파이썬 비교. \n",
    "```\n",
    "var a;\n",
    "a = 7;\n",
    "console.log(a);\n",
    ">>> 7\n",
    "\n",
    "let b = 8;\n",
    "console.log(b);\n",
    ">>> 8\n",
    "```\n",
    "\n",
    "```\n",
    "while <조건> {<문장>;}\n",
    "```\n",
    "\n",
    "```\n",
    "while <조건>:\n",
    "    <문장>\n",
    "```\n",
    "\n",
    "```\n",
    "while (count < 3) {\n",
    "   console.log(count);\n",
    "   count++;}\n",
    "```\n",
    "\n",
    "\n",
    "- 파이썬은 들여쓰기로 구분한다. \n",
    "\n",
    "2. 주석: #\n",
    "- 여러줄 주석: command + /\n",
    "3. 독스트링: ''' ''', \"\"\" \"\"\"\n",
    "    - shift + enter\n",
    "\n",
    "\n",
    "### (유명한) 문장(statement)\n",
    "1. 할당문 : <변수명> = <exp>\n",
    "2. 반복문 : for문, while문\n",
    "    - continue, break\n",
    "3. 조건문 : if문, else문, elif문\n",
    "4. 예외 처리문: try, except, raise\n",
    "\n",
    "### 산술 연산자\n",
    "+, -, *, /, //, %, \n",
    "\n",
    "### 비교 연산자\n",
    "==, !=, <, <=, >, >=, in\n",
    "\n",
    "### 논리 연산자\n",
    "- and, &\n",
    "- or, |\n",
    "\n",
    "### False값\n",
    "null, 0, 0.0, '', [], (), {}, set{}\n",
    "\n",
    "\n",
    "## 코드의 재사용(reuse):\n",
    "- 함수 \n",
    "```\n",
    "def 함수이름():\n",
    "    <코드>\n",
    "```\n",
    "\n",
    "- 선언(정의)하기 (define)\n",
    "- 호출하기 (call) : 실제로 사용할때. "
   ]
  },
  {
   "cell_type": "code",
   "execution_count": 1,
   "metadata": {},
   "outputs": [],
   "source": [
    "# 주석, 들여쓰기 연습 "
   ]
  },
  {
   "cell_type": "markdown",
   "metadata": {},
   "source": [
    "## 반복문\n",
    "\n",
    "## for문: 순회하다.\n",
    "iterable의 데이터를 하나씩 꺼내서 value에 대입시킨후 code를 수행합니다. code는 iteralbe의 갯수 만큼 실행됩니다.\n",
    "```\n",
    "for <value> in <iterable> :\n",
    "    <code>\n",
    "```\n",
    "\n",
    "순회하다(iterable): \n",
    "\n",
    "- iterable 의 의미는 member를 하나씩 차례로 반환 가능한 object를 말한다. \n",
    "- iterable 의 예로는 sequence type인 list, str, tuple과 sequence type은 아니지만 set, dictionary가 대표적이다. \n",
    "\n",
    "- 숫자(int, float)는 순회할까?\n",
    "- boolean은 순회 할까?"
   ]
  },
  {
   "cell_type": "code",
   "execution_count": 9,
   "metadata": {},
   "outputs": [],
   "source": [
    "ls = [0, 1, 2, 3, 4]\n",
    "\n",
    "\n",
    "#for 문"
   ]
  },
  {
   "cell_type": "code",
   "execution_count": 10,
   "metadata": {},
   "outputs": [],
   "source": [
    "#indentation\n",
    "\n",
    "#print(\"program start\")\n",
    "for i in range(3):\n",
    "    pass\n"
   ]
  },
  {
   "cell_type": "markdown",
   "metadata": {},
   "source": [
    "## 예제1. 다음 문장의 앞글자만 대문자로 변환해 보기\n",
    "\n",
    "- data = 'Simple is better than complex'\n",
    "- result = 'Simple Is Better Than Complex'"
   ]
  },
  {
   "cell_type": "code",
   "execution_count": null,
   "metadata": {},
   "outputs": [],
   "source": []
  },
  {
   "cell_type": "code",
   "execution_count": 12,
   "metadata": {},
   "outputs": [
    {
     "name": "stdout",
     "output_type": "stream",
     "text": [
      "america\n",
      "korea\n",
      "japan\n",
      "swiss\n"
     ]
    }
   ],
   "source": [
    "country_number = {\"america\":1, \"korea\":82, \"japan\": 81, 'swiss':42}\n",
    "\n",
    "for i in country_number:\n",
    "    print(i)"
   ]
  },
  {
   "cell_type": "markdown",
   "metadata": {},
   "source": [
    "## Q1. grades데이터의 평균을 계산해 보자. \n",
    "- 딕셔너리의 for문\n",
    "- 힌트: .values()\n",
    "\n",
    "```grades = {'science':90, 'korea':70, 'english':55}```\n"
   ]
  },
  {
   "cell_type": "code",
   "execution_count": null,
   "metadata": {},
   "outputs": [],
   "source": []
  },
  {
   "cell_type": "markdown",
   "metadata": {},
   "source": [
    "## 반복문\n",
    "\n",
    "### 2. while\n",
    "\n",
    "condition이 True이면 while 안쪽의 code가 실행 후 다시 condition을 확인하여 True이면 code를 실행을 반복합니다.\n",
    "condition이 False가 될때까지 code가 반복적으로 실행됩니다.\n",
    "\n",
    "```\n",
    "while <condition>:\n",
    "  <code>\n",
    "```\n",
    "* while 은 잘못사용하면 무한루프에 빠지기 때문에 주의해서 사용해야 합니다."
   ]
  },
  {
   "cell_type": "code",
   "execution_count": 3,
   "metadata": {
    "tags": [
     "outputPrepend",
     "outputPrepend",
     "outputPrepend",
     "outputPrepend",
     "outputPrepend",
     "outputPrepend",
     "outputPrepend",
     "outputPrepend",
     "outputPrepend",
     "outputPrepend",
     "outputPrepend",
     "outputPrepend",
     "outputPrepend",
     "outputPrepend",
     "outputPrepend",
     "outputPrepend",
     "outputPrepend"
    ]
   },
   "outputs": [],
   "source": [
    "c = 0\n",
    "while c == 10:\n",
    "    print('c')"
   ]
  },
  {
   "cell_type": "code",
   "execution_count": 13,
   "metadata": {},
   "outputs": [
    {
     "ename": "IndentationError",
     "evalue": "expected an indented block (<ipython-input-13-4d90747b9f67>, line 4)",
     "output_type": "error",
     "traceback": [
      "\u001b[0;36m  File \u001b[0;32m\"<ipython-input-13-4d90747b9f67>\"\u001b[0;36m, line \u001b[0;32m4\u001b[0m\n\u001b[0;31m    print('c')\u001b[0m\n\u001b[0m        ^\u001b[0m\n\u001b[0;31mIndentationError\u001b[0m\u001b[0;31m:\u001b[0m expected an indented block\n"
     ]
    }
   ],
   "source": [
    "c = 0\n",
    "while c == 10:\n",
    "    #pass\n",
    "print('c')"
   ]
  },
  {
   "cell_type": "code",
   "execution_count": null,
   "metadata": {},
   "outputs": [],
   "source": [
    "## 올바른 indentation"
   ]
  },
  {
   "cell_type": "code",
   "execution_count": null,
   "metadata": {},
   "outputs": [],
   "source": []
  },
  {
   "cell_type": "markdown",
   "metadata": {
    "slideshow": {
     "slide_type": "slide"
    }
   },
   "source": [
    "## 조건문\n",
    "1. if\n",
    "2. else\n",
    "3. elif"
   ]
  },
  {
   "cell_type": "markdown",
   "metadata": {
    "slideshow": {
     "slide_type": "slide"
    }
   },
   "source": [
    "### 1. if\n",
    "- 조건에 따라서 코드를 실행시키고 싶을때 사용합니다.\n",
    "- condition이 True이면 code_1이 실행 됩니다.\n",
    "```\n",
    "if <condition>:\n",
    "    <code_1>\n",
    "```"
   ]
  },
  {
   "cell_type": "markdown",
   "metadata": {
    "slideshow": {
     "slide_type": "slide"
    }
   },
   "source": [
    "True가 되는 조건은 뭘까?\n",
    "\n",
    "True 값....?"
   ]
  },
  {
   "cell_type": "code",
   "execution_count": null,
   "metadata": {},
   "outputs": [],
   "source": [
    "## 논리 연산자 예제 "
   ]
  },
  {
   "cell_type": "code",
   "execution_count": null,
   "metadata": {},
   "outputs": [],
   "source": [
    "## 비교 연산자 예제 "
   ]
  },
  {
   "cell_type": "code",
   "execution_count": 4,
   "metadata": {},
   "outputs": [],
   "source": [
    "## False가 되는 값?"
   ]
  },
  {
   "cell_type": "code",
   "execution_count": null,
   "metadata": {},
   "outputs": [],
   "source": []
  },
  {
   "cell_type": "code",
   "execution_count": 1,
   "metadata": {},
   "outputs": [
    {
     "name": "stdout",
     "output_type": "stream",
     "text": [
      "if\n",
      "end\n"
     ]
    }
   ],
   "source": [
    "## state변수 입력 \n",
    "\n"
   ]
  },
  {
   "cell_type": "markdown",
   "metadata": {
    "slideshow": {
     "slide_type": "slide"
    }
   },
   "source": [
    "### 2. else\n",
    "condition이 False이면 code_2 가 실행됩니다.\n",
    "```\n",
    "if <condition>:\n",
    "    <code_1>\n",
    "else:\n",
    "    <code_2>\n",
    "```"
   ]
  },
  {
   "cell_type": "code",
   "execution_count": 3,
   "metadata": {
    "slideshow": {
     "slide_type": "slide"
    }
   },
   "outputs": [
    {
     "name": "stdout",
     "output_type": "stream",
     "text": [
      "else\n"
     ]
    }
   ],
   "source": [
    "state = False\n",
    "if state:\n",
    "    print(\"if\")\n",
    "else:\n",
    "    print(\"else\")"
   ]
  },
  {
   "cell_type": "markdown",
   "metadata": {
    "slideshow": {
     "slide_type": "slide"
    }
   },
   "source": [
    "### 3. elif\n",
    "condition_1이 False이면 condition_2를 확인하여 condition_2가 True이면 code_2 가 실행됩니다.\n",
    "```\n",
    "if <condition_1>:\n",
    "    <code_1>\n",
    "elif <condition_2>:\n",
    "    <code_2>\n",
    "else:\n",
    "    <code_3>\n",
    "```"
   ]
  },
  {
   "cell_type": "code",
   "execution_count": 5,
   "metadata": {
    "slideshow": {
     "slide_type": "slide"
    }
   },
   "outputs": [],
   "source": [
    "# 비교 연산자 사용\n"
   ]
  },
  {
   "cell_type": "code",
   "execution_count": 5,
   "metadata": {},
   "outputs": [
    {
     "name": "stdout",
     "output_type": "stream",
     "text": [
      "a == b\n"
     ]
    }
   ],
   "source": []
  },
  {
   "cell_type": "code",
   "execution_count": 6,
   "metadata": {
    "slideshow": {
     "slide_type": "slide"
    }
   },
   "outputs": [
    {
     "name": "stdout",
     "output_type": "stream",
     "text": [
      "a == b\n"
     ]
    }
   ],
   "source": []
  },
  {
   "cell_type": "code",
   "execution_count": 7,
   "metadata": {},
   "outputs": [
    {
     "name": "stdout",
     "output_type": "stream",
     "text": [
      "code 2\n"
     ]
    }
   ],
   "source": [
    "# 논리 연산자 사용\n",
    "a, b = 10, 20\n",
    "if a < 20 and b < 10:\n",
    "    print(\"code 1\")\n",
    "else:\n",
    "    print(\"code 2\")"
   ]
  },
  {
   "cell_type": "markdown",
   "metadata": {
    "slideshow": {
     "slide_type": "skip"
    }
   },
   "source": [
    "## Q2\n",
    "- 숫자를 입력받아 짝수이면 even, 홀수이면 odd를 출력하는 코드를 작성하세요.\n",
    "- 결과\n",
    "```\n",
    "insert number : 13\n",
    "odd\n",
    "```"
   ]
  },
  {
   "cell_type": "markdown",
   "metadata": {},
   "source": [
    "## break, continue\n",
    "\n",
    "\n",
    "### break: 어떤 일이 일어날 때까지 반복하고 싶지만 언제 일어날지 확실하지 않다면, 무한루프속에 break를 쓴다. (혹은, fora문안에 쓰기도 한다. ) \n",
    "### continue: 반복문을 중단하고 싶지 않지만 어떤 경우를 건너 띄고 싶을때"
   ]
  },
  {
   "cell_type": "code",
   "execution_count": 21,
   "metadata": {},
   "outputs": [
    {
     "name": "stdout",
     "output_type": "stream",
     "text": [
      "0\n",
      "1\n",
      "2\n",
      "3\n",
      "4\n",
      "5\n",
      "6\n",
      "7\n",
      "8\n",
      "9\n"
     ]
    }
   ],
   "source": [
    "for i in range(10):\n",
    "    print(i)"
   ]
  },
  {
   "cell_type": "code",
   "execution_count": null,
   "metadata": {},
   "outputs": [],
   "source": []
  },
  {
   "cell_type": "code",
   "execution_count": null,
   "metadata": {},
   "outputs": [],
   "source": []
  },
  {
   "cell_type": "code",
   "execution_count": null,
   "metadata": {},
   "outputs": [],
   "source": []
  },
  {
   "cell_type": "code",
   "execution_count": null,
   "metadata": {},
   "outputs": [],
   "source": []
  },
  {
   "cell_type": "markdown",
   "metadata": {},
   "source": [
    "### 예제: 한도가 50000인 카드를 금액을 초과할 때 까지 사용할 수 있는 코드를 작성. 만약 금액을 초과하면 사용이 불가해야 한다. \n",
    "\n",
    "card = 50000\n",
    "cost = 0\n",
    "balance = card - cost\n",
    "\n",
    "while문 동작\n",
    "    - 조건: 카드의 잔액이 0보다 클때.\n",
    "    - 카드 한도 초과시 c\n",
    "    "
   ]
  },
  {
   "cell_type": "code",
   "execution_count": null,
   "metadata": {},
   "outputs": [],
   "source": []
  },
  {
   "cell_type": "code",
   "execution_count": null,
   "metadata": {},
   "outputs": [],
   "source": []
  },
  {
   "cell_type": "markdown",
   "metadata": {},
   "source": [
    "## 함수: 코드의 재사용(reuse):\n",
    "\n",
    "- 함수 \n",
    "```\n",
    "def 함수이름():\n",
    "    <코드>\n",
    "```\n",
    "\n",
    "- 선언(정의)하기 (define)\n",
    "- 호출하기 (call) : 실제로 사용할때"
   ]
  },
  {
   "cell_type": "code",
   "execution_count": 57,
   "metadata": {},
   "outputs": [],
   "source": [
    "### 함수\n",
    "\n",
    "def greeting():\n",
    "    print(\"good morning\")\n",
    "    print(\"good afternoon\")\n",
    "    print(\"good bye\")"
   ]
  },
  {
   "cell_type": "code",
   "execution_count": 58,
   "metadata": {},
   "outputs": [
    {
     "name": "stdout",
     "output_type": "stream",
     "text": [
      "good morning\n",
      "good afternoon\n",
      "good bye\n"
     ]
    }
   ],
   "source": [
    "greeting()"
   ]
  },
  {
   "cell_type": "markdown",
   "metadata": {},
   "source": [
    "## 간이 프로그램\n",
    "\n",
    "- 프로그램명: 적금 계산\n",
    "\n",
    "- 입력: \n",
    "    - 원금: \n",
    "    - 연간 이자율: 소수점으로 나타낸 1년동안의 비율\n",
    "\n",
    "- 출력:\n",
    "    - 10년 후의 이자 비율\n"
   ]
  },
  {
   "cell_type": "code",
   "execution_count": 14,
   "metadata": {},
   "outputs": [],
   "source": [
    "def main():\n",
    "    # 안내 메시지를 출력한다. \n",
    "    # 원금 액수를 입력 받는다.\n",
    "    # 연간 이자율을 입력 받는다\n",
    "    # 10년이므로, 10회 반복한다. \n",
    "    # 반복한 값을 출력한다. \n",
    "    pass"
   ]
  },
  {
   "cell_type": "code",
   "execution_count": 7,
   "metadata": {},
   "outputs": [],
   "source": [
    "def main():\n",
    "    print(\"예금 가입을 축하합니다. \")\n",
    "    balance = 0\n",
    "    #10회 반복 한다. \n",
    "    print(balance)"
   ]
  },
  {
   "cell_type": "code",
   "execution_count": 15,
   "metadata": {},
   "outputs": [],
   "source": [
    "#반복문\n"
   ]
  },
  {
   "cell_type": "code",
   "execution_count": 8,
   "metadata": {},
   "outputs": [],
   "source": [
    "def main():\n",
    "    return "
   ]
  },
  {
   "cell_type": "code",
   "execution_count": 11,
   "metadata": {},
   "outputs": [],
   "source": [
    "def main():\n",
    "    balance \n",
    "    return (\"10년 후 금액은: \",balance, \"원 입니다.\")"
   ]
  },
  {
   "cell_type": "code",
   "execution_count": 12,
   "metadata": {},
   "outputs": [
    {
     "ename": "NameError",
     "evalue": "name 'balance' is not defined",
     "output_type": "error",
     "traceback": [
      "\u001b[0;31m---------------------------------------------------------------------------\u001b[0m",
      "\u001b[0;31mNameError\u001b[0m                                 Traceback (most recent call last)",
      "\u001b[0;32m<ipython-input-12-263240bbee7e>\u001b[0m in \u001b[0;36m<module>\u001b[0;34m\u001b[0m\n\u001b[0;32m----> 1\u001b[0;31m \u001b[0mmain\u001b[0m\u001b[0;34m(\u001b[0m\u001b[0;34m)\u001b[0m\u001b[0;34m\u001b[0m\u001b[0;34m\u001b[0m\u001b[0m\n\u001b[0m",
      "\u001b[0;32m<ipython-input-11-f6e76a291518>\u001b[0m in \u001b[0;36mmain\u001b[0;34m()\u001b[0m\n\u001b[1;32m      1\u001b[0m \u001b[0;32mdef\u001b[0m \u001b[0mmain\u001b[0m\u001b[0;34m(\u001b[0m\u001b[0;34m)\u001b[0m\u001b[0;34m:\u001b[0m\u001b[0;34m\u001b[0m\u001b[0;34m\u001b[0m\u001b[0m\n\u001b[0;32m----> 2\u001b[0;31m     \u001b[0;32mreturn\u001b[0m \u001b[0;34m(\u001b[0m\u001b[0;34m\"10년 후 금액은: \"\u001b[0m\u001b[0;34m,\u001b[0m\u001b[0mbalance\u001b[0m\u001b[0;34m,\u001b[0m \u001b[0;34m\"원 입니다.\"\u001b[0m\u001b[0;34m)\u001b[0m\u001b[0;34m\u001b[0m\u001b[0;34m\u001b[0m\u001b[0m\n\u001b[0m",
      "\u001b[0;31mNameError\u001b[0m: name 'balance' is not defined"
     ]
    }
   ],
   "source": [
    "main()"
   ]
  },
  {
   "cell_type": "code",
   "execution_count": null,
   "metadata": {},
   "outputs": [],
   "source": []
  },
  {
   "cell_type": "markdown",
   "metadata": {
    "slideshow": {
     "slide_type": "skip"
    }
   },
   "source": [
    "## 평균 계산하기\n",
    "\n",
    "사용자 숫자들을 입력 받아 그 숫자들의 평균을 계산해 보겠습니다. \n",
    "\n",
    "1. 평균은 숫자들의 합을 총 숫자의 개수로 나눈 값이죠. 일단 숫자들의 합을 total 숫자의 개수는 count로 변수명을 정하고 0으로 초기값을 할당 합니다. \n",
    "\n",
    "2. 사용자 입력 숫자는 `input` 함수를 사용합니다. 숫자를 입력하지 않으면 종료 합니다. \n",
    "\n",
    "3. while문으로 조건 지정 반복문을 설정합니다. 숫자를 입력하지 않으면 종료 한다고 했으니, 조건은 input함수에서 받은 값이 \"\"이 되면 `False`가 되서 `while문`을 빠져나오게 코딩하면 되겠네요. \n",
    "\n",
    "4. `while문`이 `True`이면 count와 total이 갱신 됩니다. count는 1씩 증가하니 증감연산자를 사용하고 total은 total에 input으로 받은 숫자를 더해 줍니다. \n",
    "\n",
    "주의! `input`함수의 return의 자료형은 `str`이니 `float`으로 형변환 하는 것을 잊지 마세요! \n",
    "\n",
    "완성 코드 입니다."
   ]
  },
  {
   "cell_type": "code",
   "execution_count": 9,
   "metadata": {},
   "outputs": [
    {
     "name": "stdout",
     "output_type": "stream",
     "text": [
      "average is 26.0\n"
     ]
    }
   ],
   "source": []
  },
  {
   "cell_type": "code",
   "execution_count": 14,
   "metadata": {},
   "outputs": [],
   "source": [
    "def main():\n",
    "    avg = None\n",
    "    print(\"average is\", avg)"
   ]
  },
  {
   "cell_type": "markdown",
   "metadata": {},
   "source": [
    "$$\\sum_{i=0}^n]x$$"
   ]
  },
  {
   "cell_type": "markdown",
   "metadata": {},
   "source": [
    "## 평균, 표준편차, 중앙값 계산"
   ]
  },
  {
   "cell_type": "code",
   "execution_count": 18,
   "metadata": {},
   "outputs": [],
   "source": [
    "# 숫자를 배열로 저장\n",
    "def numbers():\n",
    "    X = []\n",
    "    #코드 입력\n",
    "    return X"
   ]
  },
  {
   "cell_type": "code",
   "execution_count": 19,
   "metadata": {},
   "outputs": [],
   "source": [
    "# 리스트를 활용한 시그마의 표현 \n",
    "\n",
    "X = []\n",
    "total = 0.0\n",
    "for i in range(len(X)):\n",
    "    total = total +X[i]"
   ]
  },
  {
   "cell_type": "code",
   "execution_count": 19,
   "metadata": {},
   "outputs": [],
   "source": [
    "# 중앙값\n",
    "\n",
    "# nums = numbers()\n",
    "\n",
    "def median(nums): \n",
    "    nums \n",
    "    return nums"
   ]
  },
  {
   "cell_type": "code",
   "execution_count": 21,
   "metadata": {},
   "outputs": [],
   "source": [
    "# 표준편차와 평균\n",
    "\n",
    "nums = numbers()\n",
    "\n",
    "def means(nums):\n",
    "    total = 0.0\n",
    "    for i in range(len(nums)):\n",
    "        total = total + nums[i]\n",
    "    return total / len(nums)"
   ]
  },
  {
   "cell_type": "code",
   "execution_count": 22,
   "metadata": {},
   "outputs": [],
   "source": [
    "nums = numbers()\n",
    "avg = means(nums)\n",
    "\n",
    "def std_dev(nums, avg):\n",
    "   texp = 0.0\n",
    "   for i in range(len(nums)):\n",
    "       texp = texp + (nums[i] - avg)**2\n",
    "   return (texp/len(nums)-1) ** 0.5"
   ]
  },
  {
   "cell_type": "code",
   "execution_count": null,
   "metadata": {},
   "outputs": [],
   "source": [
    "def main():\n",
    "    nums = numbers()\n",
    "    med = median(nums)\n",
    "    avg = means(nums)\n",
    "    std = std_dev(nums, avg)\n",
    "    print(\"당신이 입력한 숫자{}의 \".format(nums))\n",
    "    print(\"중앙값은{}, 평균은{}, 표준편차는{} 입니다.\".format(med, avg, std))"
   ]
  },
  {
   "cell_type": "markdown",
   "metadata": {},
   "source": [
    "### **6. 전체 코드 : main()함수**\n",
    "\n",
    "위에 구현한 코드를 순서대로 구현해 보겠습니다. \n",
    "\n",
    "- 우리가 구현하고자 하는 값은 사용자가 입력한 숫자들에 대한 평균값, 중앙값, 표준편차 입니다.\n",
    "- 우선 사용자가 입력한 숫자를 배열(리스트)로 만듭니다.\n",
    "- 각 숫자들의 평균값과 중앙값을 구합니다.\n",
    "- 각 숫자들의 표준편차를 구합니다."
   ]
  },
  {
   "cell_type": "code",
   "execution_count": 25,
   "metadata": {},
   "outputs": [],
   "source": [
    "#static.py\n",
    "\n",
    "def numbers():\n",
    "    X = []\n",
    "    number = input(\"Enter a number (<Enter key> to quit)\") \n",
    "    while number !=\"\":\n",
    "        x = float(number)\n",
    "        X.append(x)\n",
    "        number = input(\"Enter a number (<Enter key> to quit)\")\n",
    "    return X\n",
    "\n",
    "def median(nums): \n",
    "    nums.sort()\n",
    "    size = len(nums)\n",
    "    p = size // 2\n",
    "    if size % 2 == 0:\n",
    "        pr = p\n",
    "        pl = p-1\n",
    "        mid= float((nums[pl]+nums[pr])/2)\n",
    "    else:\n",
    "        mid = nums[p]\n",
    "    return mid\n",
    "\n",
    "def means(nums):\n",
    "    total = 0.0\n",
    "    for i in range(len(nums)):\n",
    "        total = total + nums[i]\n",
    "    return total / len(nums)\n",
    "\n",
    "def std_dev(nums, avg):\n",
    "   texp = 0.0\n",
    "   for i in range(len(nums)):\n",
    "       texp = texp + (nums[i] - avg)**2\n",
    "   return (texp/len(nums)-1) ** 0.5\n",
    "\n",
    "\n",
    "def main():\n",
    "    nums = numbers()\n",
    "    med = median(nums)\n",
    "    avg = means(nums)\n",
    "    std = std_dev(nums, avg)\n",
    "    print(\"당신이 입력한 숫자{}의 \".format(nums))\n",
    "    print(\"중앙값은{}, 평균은{}, 표준편차는{} 입니다.\".format(med, avg, std))\n",
    "\n",
    "# if __name__ == '__main__':\n",
    "#     main()"
   ]
  },
  {
   "cell_type": "code",
   "execution_count": 26,
   "metadata": {},
   "outputs": [
    {
     "name": "stdout",
     "output_type": "stream",
     "text": [
      "당신이 입력한 숫자[10.0, 20.0, 30.0, 40.0, 44.0]의 \n",
      "중앙값은30.0, 평균은28.8, 표준편차는12.52038338071163 입니다.\n"
     ]
    }
   ],
   "source": [
    "main()"
   ]
  },
  {
   "cell_type": "markdown",
   "metadata": {},
   "source": [
    "### Q2 로또 번호 랜덤 추출 \n",
    "\n",
    "1~45까지의 숫자중 6자리를 랜덤으로 출력합니다.\n",
    "\n",
    "중복이 있으면 안됨니다.\n",
    "\n",
    "결과 예시\n",
    "\n",
    "result = [1,3,44,2,25,10]"
   ]
  },
  {
   "cell_type": "code",
   "execution_count": 30,
   "metadata": {},
   "outputs": [
    {
     "data": {
      "text/plain": [
       "5"
      ]
     },
     "execution_count": 30,
     "metadata": {},
     "output_type": "execute_result"
    }
   ],
   "source": [
    "import random\n",
    "\n",
    "r = random.randint(1, 10)\n",
    "r"
   ]
  },
  {
   "cell_type": "code",
   "execution_count": 37,
   "metadata": {},
   "outputs": [
    {
     "data": {
      "text/plain": [
       "5"
      ]
     },
     "execution_count": 37,
     "metadata": {},
     "output_type": "execute_result"
    }
   ],
   "source": []
  },
  {
   "cell_type": "markdown",
   "metadata": {},
   "source": [
    "## Q2. 다음 문자열을 공백을 제거하고 각 단어의 앞글자를 대문자로 변환하여 출력하세요\n",
    "\n",
    "- question = \"hello my name is python\"\n",
    "- result = \"HelloMyNameIsPython\""
   ]
  },
  {
   "cell_type": "code",
   "execution_count": null,
   "metadata": {},
   "outputs": [],
   "source": []
  },
  {
   "cell_type": "markdown",
   "metadata": {},
   "source": [
    "## Q3. 다음 생년월일을 연장자 순으로 정렬하세요.\n",
    "\n",
    "- question = ```[880219, 900212, 850322, 850821, 791203, 920411, 940321]```\n",
    "- result 예시: ```[791203, 850322, 850821, 880219, 900212, 920411, 940321]```"
   ]
  },
  {
   "cell_type": "markdown",
   "metadata": {},
   "source": [
    "## Q4. weekend와 weekday 변수를 아래와 같이 선언한 뒤, input함수로 받은 요일에 대해 주말과 주중을 판단하는 코드를 작성하세요\n",
    "\n",
    "- weekend = [\"토\", \"일\"]\n",
    "- weekday = [\"월\", \"화\", \"수\", \"목\", \"금\"]\n",
    "\n",
    "- question = input(\"요일 입력: \")\n",
    "\n",
    "- 결과예시)\n",
    "\n",
    "월 -> 주중\n",
    "토 -> 주말"
   ]
  },
  {
   "cell_type": "code",
   "execution_count": null,
   "metadata": {},
   "outputs": [],
   "source": []
  },
  {
   "cell_type": "markdown",
   "metadata": {},
   "source": [
    "## 파일\n",
    "\n",
    "### 우리는 계속 정보, 데이터를 변수에 저장해 왔다. \n",
    "### 영원히 저장하고 싶으면, 하드 디스크에 저장하고 싶으면 어떻게 해야 할까? "
   ]
  },
  {
   "cell_type": "markdown",
   "metadata": {},
   "source": [
    "\n",
    "파일 객체를 생성해 준다. \n",
    "\n",
    "```f = open('hello.txt','w')```"
   ]
  },
  {
   "cell_type": "code",
   "execution_count": 60,
   "metadata": {},
   "outputs": [
    {
     "data": {
      "text/plain": [
       "_io.TextIOWrapper"
      ]
     },
     "execution_count": 60,
     "metadata": {},
     "output_type": "execute_result"
    }
   ],
   "source": [
    "#파이썬에서 파일을 다룰때 우선 open()을 이용해 파일객체를 만들어 파일을 변수에 저장한 뒤 파일 관련 메서드와 속성을 이용해 파일을 연산한다. \n",
    "\n",
    "f = open(\"hello.txt\", \"w\")\n",
    "\n",
    "#이렇게 파일 객체를 만들면 다음과 같은 파일관련 메서드와 파일 속성을 이용할 수 있다. \n",
    "\n",
    "type(f)"
   ]
  },
  {
   "cell_type": "markdown",
   "metadata": {},
   "source": [
    "f.read() : 파일을 읽는다. \n",
    "\n",
    "f.readline() : 파일을 한줄씩 읽는다. \n",
    "\n",
    "f.readlines() : 파일 안의 모든 줄을 읽어 그 값을 리스트로 반환한다. \n",
    "\n",
    "f.write(str) : 파일에 쓴다. 인자로 str type을 받는다. \n",
    "\n",
    "f.writelines(str) :파일에 인자를 한줄씩 쓴다. \n",
    "\n",
    "f.close() :파일을 닫는다. \n",
    "\n",
    "f.seek(offset) : 새 파일의 위치를 찾는다. \n"
   ]
  },
  {
   "cell_type": "markdown",
   "metadata": {},
   "source": [
    "## 프로그램 예제\n",
    "\n",
    "- 다음과 같이 점수의 배열이 grade 변수명에 저장되어 있다. \n",
    "- grade = ['8.65', '9.12', '8.45', '7.81', '8.05', '7.21', '8.31']\n",
    "\n",
    "코드1. result.txt 파일로 저장한다.\n",
    "\n",
    "코드2. \n",
    "파파일을 읽어 가장 높은 점수를 출력하는 코드를 만든다. \n"
   ]
  },
  {
   "cell_type": "code",
   "execution_count": 20,
   "metadata": {},
   "outputs": [],
   "source": [
    "## 코드1\n",
    "\n",
    "\n",
    "grade = ['8.65', '9.12', '8.45', '7.81', '8.05', '7.21', '8.31']\n"
   ]
  },
  {
   "cell_type": "code",
   "execution_count": 21,
   "metadata": {},
   "outputs": [],
   "source": [
    "## 코드 2"
   ]
  },
  {
   "cell_type": "code",
   "execution_count": null,
   "metadata": {},
   "outputs": [],
   "source": []
  }
 ],
 "metadata": {
  "celltoolbar": "Slideshow",
  "kernelspec": {
   "display_name": "Python 3.7.4 64-bit",
   "language": "python",
   "name": "python37464bit2ca5af9ea4dd4c818af2de9ba3f7b37b"
  },
  "language_info": {
   "codemirror_mode": {
    "name": "ipython",
    "version": 3
   },
   "file_extension": ".py",
   "mimetype": "text/x-python",
   "name": "python",
   "nbconvert_exporter": "python",
   "pygments_lexer": "ipython3",
   "version": "3.8.2"
  }
 },
 "nbformat": 4,
 "nbformat_minor": 2
}
