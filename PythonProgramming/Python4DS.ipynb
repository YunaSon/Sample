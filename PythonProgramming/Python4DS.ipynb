{
 "cells": [
  {
   "cell_type": "markdown",
   "metadata": {},
   "source": [
    "# 파이썬 강의\n",
    "--------------------\n",
    "--------------------\n",
    "\n",
    " - 일정: 6월8일 ~ 9일\n",
    " - 시간: 10시 - 18시 \n"
   ]
  },
  {
   "cell_type": "markdown",
   "metadata": {},
   "source": [
    "# 강의 실습 환경\n",
    "-------------------------------\n",
    "-------------------------------\n",
    "- Anaconda Python 3.7 Jupyter Notebook\n",
    "\n",
    "- https://www.anaconda.com/products/individual#download-section\n"
   ]
  },
  {
   "cell_type": "markdown",
   "metadata": {},
   "source": [
    "# 목차\n",
    "\n",
    "-------------------------------\n",
    "-------------------------------\n",
    "## Day1 (6/8)\n",
    "\n",
    "1. Python Introduction \n",
    "\n",
    "\n",
    "2. Jupyter Notebook 명령어, 설치\n",
    "\n",
    "\n",
    "3. 변수와 자료형 (feat 메모리)\n",
    "- number : int, float\n",
    "- string\n",
    "    - upper(), lower(), strip(), split(), join()\n",
    "- boolean\n",
    "- list, tuple, dict, set\n",
    "    <list 관련 메소드>\n",
    "    - append(), insert(), extend()\n",
    "    - pop(), remove()\n",
    "    - sort(), reverse()\n",
    "    <dict>\n",
    "    - keys(), values(), items()\n",
    "  \n",
    "[]\n",
    "- 시퀀셜(순서가 있는 자료형): string, list, tuple [index]\n",
    "- 딕셔너리: [\"key값\"]\n",
    "    \n",
    "- 내장함수(Python Built in function)...\n",
    "     - 형변환 함수 : int(), float()...\n",
    "     - input()\n",
    "     - print()\n",
    "     - len(), type()\n",
    "     - min(), max(), pow(), sum()\n",
    "     - range()\n",
    "    \n",
    "    \n",
    "4. 파일과 파일처리 (feat 하드디스크)\n",
    "    - f = open() (\"w\", \"r\")\n",
    "    - f.write(), f.read()\n",
    "    - f.close()\n",
    "\n",
    "5. 코드구조\n",
    "    - 들여쓰기(indentation)\n",
    "    - 반복문 (for문, while문)\n",
    "        - for문: iterable한 객체의 원소를 순회한다. \n",
    "            - number, boolean X\n",
    "            - string, list, dict(key값), set, tuple\n",
    "        - while문: 조건이 참인경우 반복.\n",
    "            \n",
    "    - 비교연산자(>,<,==,!=...., in), 논리연산자(and, or)\n",
    "    - 조건문 (if, elif, else)\n",
    "    - break, continue\n",
    "    \n",
    "\n",
    "6. 함수\n",
    "   - 정의한다. 호출한다. \n",
    "   - 정의: \n",
    "    ` \n",
    "    def 함수이름():\n",
    "        pass\n",
    "    `\n",
    "   - 호출:\n",
    "     함수이름()\n",
    "   \n",
    " - 입력: 매개변수(파라미터), 인자(아규먼트)\n",
    " - 출력: 반환값(return)\n",
    " - 매개변수의 유무, 출력값의 유무에 따른 미묘한 차이.\n",
    " - 위치인자(파라미터의 위치), 키워드인자(파라미터의 이름)\n",
    " - 함수랑 프로그램 살짝.                 \n",
    "                 \n",
    "                 \n",
    "                 \n",
    "                 \n",
    "                 \n",
    "7. 변수와 객체 그리고 클래스 Intro \n",
    "\n",
    "-------------------------------\n",
    "## Day2 (6/9)\n",
    "\n",
    "8. 클래스와 객체 지향 프로그래밍\n",
    "\n",
    "    (collections)\n",
    "\n",
    "9. 중간점검\n",
    "\n",
    "10. 파일과 폴더\n",
    "\n",
    "11. NumPy\n",
    "\n",
    "12. Pandas\n",
    "\n",
    "13. 마무리"
   ]
  },
  {
   "cell_type": "markdown",
   "metadata": {},
   "source": [
    "# 상세 목차\n",
    "\n",
    "--------------------------\n",
    "--------------------------"
   ]
  },
  {
   "cell_type": "markdown",
   "metadata": {},
   "source": [
    "## <font color = 'blue'> 1. Python Introduction </font> \n",
    "---------------------\n",
    "\n",
    "https://github.com/YunaSon/Sample/blob/master/PythonProgramming/Python_Introduction.pdf"
   ]
  },
  {
   "cell_type": "markdown",
   "metadata": {},
   "source": [
    "## <font color = 'blue'> 2. Jupyter Notebook 명령어 </font>\n",
    "--------------------------\n",
    "\n",
    "- 쉘\n",
    "    - 편집모드    \n",
    "    - 실행모드\n",
    "\n",
    "- 명령모드(esc, 파란색)\n",
    "    - a (쉘위에 신규 쉘 생성)\n",
    "    - b (쉘 아래에 신규 쉘 생성)\n",
    "    - dd (쉘 삭제)\n",
    "\n",
    "- 편집모드(enter, 녹색)\n",
    "    - 코드: esc + y\n",
    "    - 코드(라인): esc + l \n",
    "    - 마크다운(md): esc + m\n",
    " \n",
    "- 실행: Shift + enter"
   ]
  },
  {
   "cell_type": "markdown",
   "metadata": {},
   "source": [
    "## <font color = 'blue'> 3. 변수와 자료형 (feat 메모리) </font>\n",
    "----------------------\n",
    "\n",
    "1) 파이썬 변수 할당\n",
    "\n",
    "- =(할당 연산자)\n",
    "- 변수명, 값\n",
    "- 메모리 이용, 동적 타이핑, 리터럴이라는 용어\n",
    "\n",
    "2) 자료형\n",
    "- Number: int, float\n",
    "- Boolean\n",
    "- String\n",
    "- list, dict, tuple, set\n",
    "    - collection, container, 자료구조 라는 용어로 엄밀히 한다. \n",
    "- list, tuple, string은 sequential한 자료라고 하기도 한다. \n",
    "\n",
    "3) (산술) 연산자\n",
    "\n",
    "4) 슬라이싱, 인덱싱, (대괄호 연산자)\n",
    "\n",
    "5) 자료형 관련 메소드\n",
    "\n",
    "6) 파이썬 내장 함수\n",
    "\n",
    "https://docs.python.org/3/library/functions.html\n",
    "\n",
    "    - type()\n",
    "    - len()\n",
    "    - 형변환 함수: int(), float(), str(), list(), dict(), set(), tuple()\n",
    "    - min(), max(), sum(), pow()"
   ]
  },
  {
   "cell_type": "markdown",
   "metadata": {},
   "source": [
    "### 변수 할당"
   ]
  },
  {
   "cell_type": "code",
   "execution_count": 13,
   "metadata": {},
   "outputs": [],
   "source": [
    "a = \"3\" "
   ]
  },
  {
   "cell_type": "code",
   "execution_count": 15,
   "metadata": {},
   "outputs": [
    {
     "data": {
      "text/plain": [
       "str"
      ]
     },
     "execution_count": 15,
     "metadata": {},
     "output_type": "execute_result"
    }
   ],
   "source": [
    "type(a)"
   ]
  },
  {
   "cell_type": "code",
   "execution_count": null,
   "metadata": {},
   "outputs": [],
   "source": []
  },
  {
   "cell_type": "code",
   "execution_count": null,
   "metadata": {},
   "outputs": [],
   "source": []
  },
  {
   "cell_type": "code",
   "execution_count": null,
   "metadata": {},
   "outputs": [],
   "source": []
  },
  {
   "cell_type": "code",
   "execution_count": 3,
   "metadata": {},
   "outputs": [
    {
     "name": "stdout",
     "output_type": "stream",
     "text": [
      "hello\n"
     ]
    }
   ],
   "source": [
    "print(\"hello\")"
   ]
  },
  {
   "cell_type": "code",
   "execution_count": null,
   "metadata": {},
   "outputs": [],
   "source": []
  },
  {
   "cell_type": "markdown",
   "metadata": {},
   "source": [
    "### Number\n",
    "\n",
    "- 리터럴(literal)"
   ]
  },
  {
   "cell_type": "code",
   "execution_count": 1,
   "metadata": {},
   "outputs": [],
   "source": [
    "a = 30\n",
    "b = 20"
   ]
  },
  {
   "cell_type": "markdown",
   "metadata": {},
   "source": [
    "### 산술 연산자\n",
    "\n",
    "+, -, *, / , // , %, **"
   ]
  },
  {
   "cell_type": "code",
   "execution_count": 16,
   "metadata": {},
   "outputs": [],
   "source": [
    "c = 'hello'\n",
    "d = 'python'"
   ]
  },
  {
   "cell_type": "code",
   "execution_count": 24,
   "metadata": {},
   "outputs": [
    {
     "ename": "TypeError",
     "evalue": "can't multiply sequence by non-int of type 'str'",
     "output_type": "error",
     "traceback": [
      "\u001b[0;31m---------------------------------------------------------------------------\u001b[0m",
      "\u001b[0;31mTypeError\u001b[0m                                 Traceback (most recent call last)",
      "\u001b[0;32m<ipython-input-24-704f84dd75d8>\u001b[0m in \u001b[0;36m<module>\u001b[0;34m\u001b[0m\n\u001b[0;32m----> 1\u001b[0;31m \u001b[0mc\u001b[0m \u001b[0;34m*\u001b[0m \u001b[0md\u001b[0m\u001b[0;34m\u001b[0m\u001b[0;34m\u001b[0m\u001b[0m\n\u001b[0m",
      "\u001b[0;31mTypeError\u001b[0m: can't multiply sequence by non-int of type 'str'"
     ]
    }
   ],
   "source": []
  },
  {
   "cell_type": "code",
   "execution_count": 743,
   "metadata": {},
   "outputs": [
    {
     "name": "stdout",
     "output_type": "stream",
     "text": [
      "{'america': 'LA', 'korea': 82, 'japan': 81, 'italy': 'rome'}\n"
     ]
    }
   ],
   "source": [
    "print(mydict)"
   ]
  },
  {
   "cell_type": "markdown",
   "metadata": {},
   "source": [
    "### String\n",
    "\n",
    "- .join()\n",
    "- .split()\n",
    "- .upper(): 대문자로 변환하는 함수.\n",
    "- .lower(): 소문자로 변환하는 함수.\n",
    "- .replace('바꿀 문자열', '바뀔문자열'): 문자열 치환.\n",
    "- .strip(): 공백제거하는 함수.\n",
    "- .find('문자열'): 특정 문자열의 위치를 찾는 함수. "
   ]
  },
  {
   "cell_type": "code",
   "execution_count": 25,
   "metadata": {},
   "outputs": [
    {
     "data": {
      "text/plain": [
       "'abcdef'"
      ]
     },
     "execution_count": 25,
     "metadata": {},
     "output_type": "execute_result"
    }
   ],
   "source": [
    "myword = 'abcdef'\n",
    "myword"
   ]
  },
  {
   "cell_type": "code",
   "execution_count": 30,
   "metadata": {},
   "outputs": [],
   "source": [
    "myword2 = \"data science\""
   ]
  },
  {
   "cell_type": "code",
   "execution_count": 34,
   "metadata": {},
   "outputs": [
    {
     "data": {
      "text/plain": [
       "'Data science'"
      ]
     },
     "execution_count": 34,
     "metadata": {},
     "output_type": "execute_result"
    }
   ],
   "source": [
    "myword2.replace('d','D')"
   ]
  },
  {
   "cell_type": "code",
   "execution_count": 39,
   "metadata": {},
   "outputs": [
    {
     "data": {
      "text/plain": [
       "'    python hello   '"
      ]
     },
     "execution_count": 39,
     "metadata": {},
     "output_type": "execute_result"
    }
   ],
   "source": [
    "myword2 = '    python hello   '\n",
    "myword2"
   ]
  },
  {
   "cell_type": "code",
   "execution_count": 42,
   "metadata": {},
   "outputs": [
    {
     "data": {
      "text/plain": [
       "str"
      ]
     },
     "execution_count": 42,
     "metadata": {},
     "output_type": "execute_result"
    }
   ],
   "source": [
    "type(myword2)"
   ]
  },
  {
   "cell_type": "code",
   "execution_count": 748,
   "metadata": {},
   "outputs": [],
   "source": [
    "a = [1,2,3] + [3]"
   ]
  },
  {
   "cell_type": "code",
   "execution_count": 749,
   "metadata": {},
   "outputs": [
    {
     "data": {
      "text/plain": [
       "[1, 2, 3, 3]"
      ]
     },
     "execution_count": 749,
     "metadata": {},
     "output_type": "execute_result"
    }
   ],
   "source": [
    "a"
   ]
  },
  {
   "cell_type": "code",
   "execution_count": 751,
   "metadata": {},
   "outputs": [
    {
     "data": {
      "text/plain": [
       "[1, 2, 3, 3, 1, 2, 3, 3]"
      ]
     },
     "execution_count": 751,
     "metadata": {},
     "output_type": "execute_result"
    }
   ],
   "source": []
  },
  {
   "cell_type": "code",
   "execution_count": null,
   "metadata": {},
   "outputs": [],
   "source": []
  },
  {
   "cell_type": "code",
   "execution_count": 40,
   "metadata": {},
   "outputs": [
    {
     "data": {
      "text/plain": [
       "'python hello'"
      ]
     },
     "execution_count": 40,
     "metadata": {},
     "output_type": "execute_result"
    }
   ],
   "source": [
    "myword2.strip()"
   ]
  },
  {
   "cell_type": "code",
   "execution_count": null,
   "metadata": {},
   "outputs": [],
   "source": []
  },
  {
   "cell_type": "code",
   "execution_count": null,
   "metadata": {},
   "outputs": [],
   "source": []
  },
  {
   "cell_type": "code",
   "execution_count": null,
   "metadata": {},
   "outputs": [],
   "source": []
  },
  {
   "cell_type": "code",
   "execution_count": null,
   "metadata": {},
   "outputs": [],
   "source": []
  },
  {
   "cell_type": "markdown",
   "metadata": {},
   "source": [
    "### 산술 연산자"
   ]
  },
  {
   "cell_type": "code",
   "execution_count": null,
   "metadata": {},
   "outputs": [],
   "source": [
    "# +, -, *, /, //, %, **"
   ]
  },
  {
   "cell_type": "code",
   "execution_count": null,
   "metadata": {},
   "outputs": [],
   "source": []
  },
  {
   "cell_type": "code",
   "execution_count": null,
   "metadata": {},
   "outputs": [],
   "source": []
  },
  {
   "cell_type": "code",
   "execution_count": null,
   "metadata": {},
   "outputs": [],
   "source": []
  },
  {
   "cell_type": "markdown",
   "metadata": {},
   "source": [
    "### [ ] 슬라이스, 인덱싱\n",
    "\n",
    "- 문자열, 리스트, 튜플\n",
    "- []\n",
    "- 특정 위치의 데이터를 선택하는 방법\n",
    "- [index]: 특정 위치 하나의 데이터를 선택\n",
    "- [start:end]: 시작과 끝 구간의 데이터를 선택\n",
    "- [start:end:stride]: 시작과 끝을 범위로 구간별로 선택"
   ]
  },
  {
   "cell_type": "code",
   "execution_count": 45,
   "metadata": {},
   "outputs": [],
   "source": [
    "a = 'hello python'"
   ]
  },
  {
   "cell_type": "code",
   "execution_count": 57,
   "metadata": {},
   "outputs": [
    {
     "data": {
      "text/plain": [
       "'nohtyp olleh'"
      ]
     },
     "execution_count": 57,
     "metadata": {},
     "output_type": "execute_result"
    }
   ],
   "source": [
    "a[::-1]"
   ]
  },
  {
   "cell_type": "code",
   "execution_count": null,
   "metadata": {},
   "outputs": [],
   "source": []
  },
  {
   "cell_type": "code",
   "execution_count": null,
   "metadata": {},
   "outputs": [],
   "source": []
  },
  {
   "cell_type": "code",
   "execution_count": null,
   "metadata": {},
   "outputs": [],
   "source": []
  },
  {
   "cell_type": "markdown",
   "metadata": {},
   "source": [
    "### <font color=orange> Q1. 0~9까지의 문자열 데이터를 짝수만 거꾸로 출력하는 코드 작성하기. </font>\n",
    "\n",
    "\n",
    "입출력 예시\n",
    "\n",
    "`\n",
    "input_data = '0123456789'\n",
    "print(output_data)\n",
    "8642\n",
    "`"
   ]
  },
  {
   "cell_type": "code",
   "execution_count": 5,
   "metadata": {},
   "outputs": [
    {
     "name": "stdout",
     "output_type": "stream",
     "text": [
      "86420\n"
     ]
    }
   ],
   "source": [
    "# A1. code your answer\n",
    "\n",
    "input_data = '0123456789'\n",
    "output_data = input_data[::2]\n",
    "print(output_data[::-1])"
   ]
  },
  {
   "cell_type": "markdown",
   "metadata": {},
   "source": [
    "### <font color=orange> Q2. 다음 문장의 단어 앞글자만 대문자로 바꾸세요. \n",
    "\n",
    "입출력 예시\n",
    "\n",
    "`\n",
    "input_data = 'hello world'\n",
    "print(output_data)\n",
    "Hello World\n",
    "`"
   ]
  },
  {
   "cell_type": "code",
   "execution_count": 12,
   "metadata": {},
   "outputs": [
    {
     "name": "stdout",
     "output_type": "stream",
     "text": [
      "Hello World\n"
     ]
    }
   ],
   "source": [
    "# A2. code our answer\n",
    "## 힌트: .upper(), +, 슬라이스 연산\n",
    "\n",
    "input_data = 'hello world'\n",
    "W1 = input_data[:5] #hello\n",
    "W2 = input_data[6:] #world\n",
    "\n",
    "output_data = W1[0].upper() + W1[1:] + \" \" + W2[0].upper() + W2[1:]\n",
    "\n",
    "print(output_data)"
   ]
  },
  {
   "cell_type": "code",
   "execution_count": null,
   "metadata": {},
   "outputs": [],
   "source": []
  },
  {
   "cell_type": "markdown",
   "metadata": {},
   "source": [
    "### tuple \n",
    "\n",
    "- 불변\n",
    "- Sequential"
   ]
  },
  {
   "cell_type": "code",
   "execution_count": 13,
   "metadata": {},
   "outputs": [],
   "source": [
    "a = (1, 2, 3)"
   ]
  },
  {
   "cell_type": "code",
   "execution_count": 22,
   "metadata": {},
   "outputs": [
    {
     "ename": "TypeError",
     "evalue": "'tuple' object does not support item assignment",
     "output_type": "error",
     "traceback": [
      "\u001b[0;31m---------------------------------------------------------------------------\u001b[0m",
      "\u001b[0;31mTypeError\u001b[0m                                 Traceback (most recent call last)",
      "\u001b[0;32m<ipython-input-22-4dcc2879cb1e>\u001b[0m in \u001b[0;36m<module>\u001b[0;34m\u001b[0m\n\u001b[0;32m----> 1\u001b[0;31m \u001b[0ma\u001b[0m\u001b[0;34m[\u001b[0m\u001b[0;36m2\u001b[0m\u001b[0;34m]\u001b[0m \u001b[0;34m=\u001b[0m \u001b[0;34m'k'\u001b[0m\u001b[0;34m\u001b[0m\u001b[0;34m\u001b[0m\u001b[0m\n\u001b[0m",
      "\u001b[0;31mTypeError\u001b[0m: 'tuple' object does not support item assignment"
     ]
    }
   ],
   "source": []
  },
  {
   "cell_type": "code",
   "execution_count": null,
   "metadata": {},
   "outputs": [],
   "source": []
  },
  {
   "cell_type": "code",
   "execution_count": null,
   "metadata": {},
   "outputs": [],
   "source": []
  },
  {
   "cell_type": "markdown",
   "metadata": {},
   "source": [
    "### unpacking / packing\n",
    "\n",
    "Packing: 파이썬에서는 기본적으로 tuple형태로 패킹 된다. \n",
    "\n",
    "• 패킹(packing): 한 변수에 여러 개의 데이터를 할당하는 것.\n",
    "\n",
    "• 언패킹(unpacking): 한 변수의 데이터를 각각의 변수로 반환하는 것.\n"
   ]
  },
  {
   "cell_type": "code",
   "execution_count": 35,
   "metadata": {},
   "outputs": [],
   "source": [
    "a = 1,2,3"
   ]
  },
  {
   "cell_type": "code",
   "execution_count": 37,
   "metadata": {},
   "outputs": [
    {
     "data": {
      "text/plain": [
       "tuple"
      ]
     },
     "execution_count": 37,
     "metadata": {},
     "output_type": "execute_result"
    }
   ],
   "source": [
    "type(a)"
   ]
  },
  {
   "cell_type": "code",
   "execution_count": null,
   "metadata": {},
   "outputs": [],
   "source": []
  },
  {
   "cell_type": "code",
   "execution_count": null,
   "metadata": {},
   "outputs": [],
   "source": []
  },
  {
   "cell_type": "markdown",
   "metadata": {},
   "source": [
    "### list\n",
    "\n",
    "- 리스트: 시퀀셜한 배열 (순서가있고, 집합)\n",
    "- 리스트는 인덱싱이 가능하다. \n",
    "\n",
    "- .append()\n",
    "- .extend()\n",
    "- .insert()\n",
    "- .pop()\n",
    "- .remove()\n",
    "- .sort()\n",
    "- .reverse()"
   ]
  },
  {
   "cell_type": "code",
   "execution_count": 75,
   "metadata": {},
   "outputs": [],
   "source": [
    "color = ['red', 'white', 'yellow']"
   ]
  },
  {
   "cell_type": "code",
   "execution_count": 54,
   "metadata": {},
   "outputs": [],
   "source": [
    "color.append('black')"
   ]
  },
  {
   "cell_type": "code",
   "execution_count": 55,
   "metadata": {},
   "outputs": [],
   "source": [
    "color.append('blue')"
   ]
  },
  {
   "cell_type": "code",
   "execution_count": 56,
   "metadata": {},
   "outputs": [
    {
     "data": {
      "text/plain": [
       "['red', 'white', 'yellow', 'black', 'blue']"
      ]
     },
     "execution_count": 56,
     "metadata": {},
     "output_type": "execute_result"
    }
   ],
   "source": [
    "color"
   ]
  },
  {
   "cell_type": "code",
   "execution_count": 57,
   "metadata": {},
   "outputs": [
    {
     "data": {
      "text/plain": [
       "'blue'"
      ]
     },
     "execution_count": 57,
     "metadata": {},
     "output_type": "execute_result"
    }
   ],
   "source": [
    "color.pop()"
   ]
  },
  {
   "cell_type": "code",
   "execution_count": 58,
   "metadata": {},
   "outputs": [
    {
     "data": {
      "text/plain": [
       "['red', 'white', 'yellow', 'black']"
      ]
     },
     "execution_count": 58,
     "metadata": {},
     "output_type": "execute_result"
    }
   ],
   "source": [
    "color"
   ]
  },
  {
   "cell_type": "code",
   "execution_count": 59,
   "metadata": {},
   "outputs": [
    {
     "data": {
      "text/plain": [
       "'white'"
      ]
     },
     "execution_count": 59,
     "metadata": {},
     "output_type": "execute_result"
    }
   ],
   "source": [
    "color.pop(1)"
   ]
  },
  {
   "cell_type": "code",
   "execution_count": 60,
   "metadata": {},
   "outputs": [
    {
     "data": {
      "text/plain": [
       "['red', 'yellow', 'black']"
      ]
     },
     "execution_count": 60,
     "metadata": {},
     "output_type": "execute_result"
    }
   ],
   "source": [
    "color"
   ]
  },
  {
   "cell_type": "code",
   "execution_count": 61,
   "metadata": {},
   "outputs": [
    {
     "data": {
      "text/plain": [
       "['red', 'yellow', 'black']"
      ]
     },
     "execution_count": 61,
     "metadata": {},
     "output_type": "execute_result"
    }
   ],
   "source": [
    "color"
   ]
  },
  {
   "cell_type": "code",
   "execution_count": 62,
   "metadata": {},
   "outputs": [],
   "source": [
    "color.remove('yellow')"
   ]
  },
  {
   "cell_type": "code",
   "execution_count": 63,
   "metadata": {},
   "outputs": [
    {
     "data": {
      "text/plain": [
       "['red', 'black']"
      ]
     },
     "execution_count": 63,
     "metadata": {},
     "output_type": "execute_result"
    }
   ],
   "source": [
    "color"
   ]
  },
  {
   "cell_type": "code",
   "execution_count": 64,
   "metadata": {},
   "outputs": [
    {
     "data": {
      "text/plain": [
       "['red', 'black']"
      ]
     },
     "execution_count": 64,
     "metadata": {},
     "output_type": "execute_result"
    }
   ],
   "source": [
    "color"
   ]
  },
  {
   "cell_type": "code",
   "execution_count": 68,
   "metadata": {},
   "outputs": [],
   "source": [
    "color.insert(1,'k')"
   ]
  },
  {
   "cell_type": "code",
   "execution_count": 69,
   "metadata": {},
   "outputs": [
    {
     "data": {
      "text/plain": [
       "['red', 'k', 'yellow', 'black']"
      ]
     },
     "execution_count": 69,
     "metadata": {},
     "output_type": "execute_result"
    }
   ],
   "source": [
    "color"
   ]
  },
  {
   "cell_type": "code",
   "execution_count": 70,
   "metadata": {},
   "outputs": [],
   "source": [
    "color.remove('k')"
   ]
  },
  {
   "cell_type": "code",
   "execution_count": 76,
   "metadata": {},
   "outputs": [
    {
     "data": {
      "text/plain": [
       "['red', 'white', 'yellow']"
      ]
     },
     "execution_count": 76,
     "metadata": {},
     "output_type": "execute_result"
    }
   ],
   "source": [
    "color"
   ]
  },
  {
   "cell_type": "code",
   "execution_count": 77,
   "metadata": {},
   "outputs": [],
   "source": [
    "color.extend(['white'])"
   ]
  },
  {
   "cell_type": "code",
   "execution_count": 78,
   "metadata": {},
   "outputs": [
    {
     "data": {
      "text/plain": [
       "['red', 'white', 'yellow', 'white']"
      ]
     },
     "execution_count": 78,
     "metadata": {},
     "output_type": "execute_result"
    }
   ],
   "source": [
    "color"
   ]
  },
  {
   "cell_type": "code",
   "execution_count": 79,
   "metadata": {},
   "outputs": [],
   "source": [
    "color.append(['black'])"
   ]
  },
  {
   "cell_type": "code",
   "execution_count": 80,
   "metadata": {},
   "outputs": [
    {
     "data": {
      "text/plain": [
       "['red', 'white', 'yellow', 'white', ['black']]"
      ]
     },
     "execution_count": 80,
     "metadata": {},
     "output_type": "execute_result"
    }
   ],
   "source": [
    "color"
   ]
  },
  {
   "cell_type": "code",
   "execution_count": 83,
   "metadata": {},
   "outputs": [
    {
     "data": {
      "text/plain": [
       "['black']"
      ]
     },
     "execution_count": 83,
     "metadata": {},
     "output_type": "execute_result"
    }
   ],
   "source": [
    "color.pop()"
   ]
  },
  {
   "cell_type": "code",
   "execution_count": 84,
   "metadata": {},
   "outputs": [
    {
     "data": {
      "text/plain": [
       "['red', 'white', 'yellow', 'white']"
      ]
     },
     "execution_count": 84,
     "metadata": {},
     "output_type": "execute_result"
    }
   ],
   "source": [
    "color"
   ]
  },
  {
   "cell_type": "code",
   "execution_count": 85,
   "metadata": {},
   "outputs": [],
   "source": [
    "color.sort()"
   ]
  },
  {
   "cell_type": "code",
   "execution_count": 87,
   "metadata": {},
   "outputs": [],
   "source": [
    "color.reverse()"
   ]
  },
  {
   "cell_type": "code",
   "execution_count": 88,
   "metadata": {},
   "outputs": [
    {
     "data": {
      "text/plain": [
       "['yellow', 'white', 'white', 'red']"
      ]
     },
     "execution_count": 88,
     "metadata": {},
     "output_type": "execute_result"
    }
   ],
   "source": [
    "color"
   ]
  },
  {
   "cell_type": "markdown",
   "metadata": {},
   "source": [
    "### String메소드 다시..\n",
    "\n",
    "- split() : string.split(구분자(seperator)), 리스트 형태. \n",
    "- join()"
   ]
  },
  {
   "cell_type": "code",
   "execution_count": 89,
   "metadata": {},
   "outputs": [
    {
     "data": {
      "text/plain": [
       "'hello python and programming'"
      ]
     },
     "execution_count": 89,
     "metadata": {},
     "output_type": "execute_result"
    }
   ],
   "source": [
    "word = \"hello python and programming\"\n",
    "word"
   ]
  },
  {
   "cell_type": "code",
   "execution_count": 95,
   "metadata": {},
   "outputs": [],
   "source": [
    "word_list = word.split()"
   ]
  },
  {
   "cell_type": "code",
   "execution_count": 96,
   "metadata": {},
   "outputs": [
    {
     "data": {
      "text/plain": [
       "['hello', 'python', 'and', 'programming']"
      ]
     },
     "execution_count": 96,
     "metadata": {},
     "output_type": "execute_result"
    }
   ],
   "source": [
    "word_list"
   ]
  },
  {
   "cell_type": "code",
   "execution_count": 99,
   "metadata": {},
   "outputs": [
    {
     "data": {
      "text/plain": [
       "'hello python and programming'"
      ]
     },
     "execution_count": 99,
     "metadata": {},
     "output_type": "execute_result"
    }
   ],
   "source": [
    "\" \".join(word_list)"
   ]
  },
  {
   "cell_type": "code",
   "execution_count": 103,
   "metadata": {},
   "outputs": [
    {
     "data": {
      "text/plain": [
       "'\"'"
      ]
     },
     "execution_count": 103,
     "metadata": {},
     "output_type": "execute_result"
    }
   ],
   "source": []
  },
  {
   "cell_type": "markdown",
   "metadata": {},
   "source": [
    "### <font color='orange'> Q3. 다음 data 문자열을 result의 문자열로 변환 하세요. </font>\n",
    "\n",
    "입출력 예시\n",
    "\n",
    "`\n",
    "input_data = 'Beatiful-is-better-than-agly.' \n",
    "output = 'Beatiful Is Better Than Agly.'\n",
    "`"
   ]
  },
  {
   "cell_type": "code",
   "execution_count": 105,
   "metadata": {},
   "outputs": [
    {
     "data": {
      "text/plain": [
       "['Beatiful', 'is', 'better', 'than', 'agly.']"
      ]
     },
     "execution_count": 105,
     "metadata": {},
     "output_type": "execute_result"
    }
   ],
   "source": [
    "input_data = \"Beatiful-is-better-than-agly.\"\n",
    "\n",
    "input_data.split(\"-\")\n"
   ]
  },
  {
   "cell_type": "code",
   "execution_count": 111,
   "metadata": {},
   "outputs": [
    {
     "data": {
      "text/plain": [
       "'Beatiful Is'"
      ]
     },
     "execution_count": 111,
     "metadata": {},
     "output_type": "execute_result"
    }
   ],
   "source": [
    "mylist = input_data.split(\"-\")\n",
    "\n",
    "k = mylist[0][0].upper() + mylist[0][1:] + \" \" +mylist[1][0].upper()+mylist[1][1:]\n",
    "k"
   ]
  },
  {
   "cell_type": "markdown",
   "metadata": {},
   "source": [
    "### Dictionary\n",
    "\n",
    "- 키와 밸류 {}\n",
    "- keys(), values(), items()\n",
    "- 대괄호 []"
   ]
  },
  {
   "cell_type": "code",
   "execution_count": 125,
   "metadata": {},
   "outputs": [],
   "source": [
    "mydict = {'america':1, 'korea':82, 'japan': 81}"
   ]
  },
  {
   "cell_type": "code",
   "execution_count": 140,
   "metadata": {},
   "outputs": [],
   "source": [
    "mydict['korea'] = 'seoul'"
   ]
  },
  {
   "cell_type": "code",
   "execution_count": 142,
   "metadata": {},
   "outputs": [
    {
     "data": {
      "text/plain": [
       "['america', 'korea', 'japan']"
      ]
     },
     "execution_count": 142,
     "metadata": {},
     "output_type": "execute_result"
    }
   ],
   "source": [
    "k = list(mydict.keys())\n",
    "k "
   ]
  },
  {
   "cell_type": "code",
   "execution_count": 132,
   "metadata": {},
   "outputs": [
    {
     "data": {
      "text/plain": [
       "dict_values([1, 'seoul', 81])"
      ]
     },
     "execution_count": 132,
     "metadata": {},
     "output_type": "execute_result"
    }
   ],
   "source": []
  },
  {
   "cell_type": "code",
   "execution_count": 133,
   "metadata": {},
   "outputs": [
    {
     "data": {
      "text/plain": [
       "dict_items([('america', 1), ('korea', 'seoul'), ('japan', 81)])"
      ]
     },
     "execution_count": 133,
     "metadata": {},
     "output_type": "execute_result"
    }
   ],
   "source": []
  },
  {
   "cell_type": "code",
   "execution_count": null,
   "metadata": {},
   "outputs": [],
   "source": []
  },
  {
   "cell_type": "code",
   "execution_count": null,
   "metadata": {},
   "outputs": [],
   "source": []
  },
  {
   "cell_type": "markdown",
   "metadata": {},
   "source": [
    "### set\n",
    "\n",
    "- dictionary의 키값만 있는 형태\n",
    "- 중복을 허용하지 않는다. \n",
    "- 집합과 유사\n",
    "\n",
    "\n",
    "- s.add(), s.update() 차이\n",
    "\n",
    "- s.intersection()\n",
    "- s.union()\n",
    "- s.difference()"
   ]
  },
  {
   "cell_type": "code",
   "execution_count": 138,
   "metadata": {},
   "outputs": [
    {
     "data": {
      "text/plain": [
       "[1, 2, 3, 4, 4, 4, 4]"
      ]
     },
     "execution_count": 138,
     "metadata": {},
     "output_type": "execute_result"
    }
   ],
   "source": [
    "myset = [1,2,3,4,4,4,4,]\n",
    "myset"
   ]
  },
  {
   "cell_type": "code",
   "execution_count": 139,
   "metadata": {},
   "outputs": [
    {
     "data": {
      "text/plain": [
       "{1, 2, 3, 4}"
      ]
     },
     "execution_count": 139,
     "metadata": {},
     "output_type": "execute_result"
    }
   ],
   "source": [
    "a = set(myset)\n",
    "a"
   ]
  },
  {
   "cell_type": "code",
   "execution_count": null,
   "metadata": {},
   "outputs": [],
   "source": []
  },
  {
   "cell_type": "markdown",
   "metadata": {},
   "source": [
    "## <font color = 'blue'> 4. 파일과 파일처리 (feat 하드 디스크) </font>\n",
    "-----------------\n",
    "1) 파이썬에서 파일을 접근하는 법\n",
    "\n",
    "- \"파일 객체를 만들어 준다\"\n",
    "- \"만드는 방법 open함수 이용\":  `open()`\n",
    "- https://docs.python.org/3/library/functions.html#open\n",
    "\n",
    "(Q1. 파일 객체와 파일은 다른가? 네)\n",
    "\n",
    "2) 파일 관련 메소드\n",
    "\n",
    "- f.read() \n",
    "- f.write()\n",
    "- f.close()\n",
    "\n",
    "3) with 구문 (context 매니저) "
   ]
  },
  {
   "cell_type": "code",
   "execution_count": 153,
   "metadata": {},
   "outputs": [],
   "source": [
    "f = open('python.txt','w')"
   ]
  },
  {
   "cell_type": "code",
   "execution_count": 151,
   "metadata": {},
   "outputs": [],
   "source": [
    "f.write('hello')\n",
    "f.close()"
   ]
  },
  {
   "cell_type": "code",
   "execution_count": 150,
   "metadata": {},
   "outputs": [
    {
     "name": "stdout",
     "output_type": "stream",
     "text": [
      "Concents.md             Python_Introduction.pdf \u001b[34mfig\u001b[m\u001b[m\r\n",
      "\u001b[34mGUI\u001b[m\u001b[m                     \u001b[34mbasic_5day\u001b[m\u001b[m              hello.txt\r\n",
      "Python4DS.ipynb         \u001b[34mcontents\u001b[m\u001b[m\r\n"
     ]
    }
   ],
   "source": [
    "!ls"
   ]
  },
  {
   "cell_type": "code",
   "execution_count": 154,
   "metadata": {},
   "outputs": [
    {
     "name": "stdout",
     "output_type": "stream",
     "text": [
      "Concents.md             Python_Introduction.pdf \u001b[34mfig\u001b[m\u001b[m\r\n",
      "\u001b[34mGUI\u001b[m\u001b[m                     \u001b[34mbasic_5day\u001b[m\u001b[m              hello.txt\r\n",
      "Python4DS.ipynb         \u001b[34mcontents\u001b[m\u001b[m                python.txt\r\n"
     ]
    }
   ],
   "source": [
    "!ls"
   ]
  },
  {
   "cell_type": "code",
   "execution_count": 155,
   "metadata": {},
   "outputs": [],
   "source": [
    "f.close()"
   ]
  },
  {
   "cell_type": "markdown",
   "metadata": {},
   "source": [
    "## <font color = 'skyblue'> 5. 코드 구조 </font>\n",
    "----------------\n",
    "\n",
    "코드 구조: \"코드를 어떻게 구조화 하는지\" - 코드를 여러줄 작성하는것\n",
    "\n",
    "1) 들여쓰기 (indentation)\n",
    "\n",
    "2) 변수 할당문 이라고 하기도 한다. \n",
    "\n",
    "3) 반복문 (for문, while문)\n",
    "\n",
    "- iterable, 순회가능하다는 것의 의미\n",
    "- 논리 연산자\n",
    "\n",
    "4) 조건문 (if, elif, else)\n",
    "\n",
    "- 논리 연산자\n",
    "\n",
    "5) 예외 처리문 (try, except, else, finally)\n",
    "\n",
    "- 가타... raise"
   ]
  },
  {
   "cell_type": "code",
   "execution_count": null,
   "metadata": {},
   "outputs": [],
   "source": []
  },
  {
   "cell_type": "code",
   "execution_count": null,
   "metadata": {},
   "outputs": [],
   "source": []
  },
  {
   "cell_type": "markdown",
   "metadata": {},
   "source": [
    "### 들여쓰기, indentation\n",
    "\n",
    "\n",
    "\n",
    "- 스페이스 4번, 탭 1번 (*간혹 스페이스 2번)\n",
    "\n",
    "- 다른 언어들은 코드를 구조화 할 때 중활호({}), 세미콜론과 같은 문장으로 구분한다.\n",
    "\n",
    "<code>\n",
    "var a; \n",
    "a = 7; \n",
    "console.log(a);\n",
    "\n",
    "while (count < 3) {\n",
    "   console.log(count);\n",
    "   count++;} </code>\n",
    "\n",
    "\n",
    "- 주석: #\n",
    "\n",
    "- 여러줄 주석: command + /\n",
    "\n",
    "- 독스트링: ''' ''', \"\"\" \"\"\""
   ]
  },
  {
   "cell_type": "markdown",
   "metadata": {},
   "source": [
    "### 산술연산자\n",
    "- +, -, *, , * *, /, //, %,\n",
    "\n",
    "### 비교 연산자\n",
    "\n",
    "- ==, !=, <, <=, >, >=, in\n",
    "\n",
    "### 논리 연산자\n",
    "- and, &\n",
    "- or, |\n",
    "\n",
    "\n",
    "### False값\n",
    "null, 0, 0.0, '', [], (), {}, set{}"
   ]
  },
  {
   "cell_type": "code",
   "execution_count": null,
   "metadata": {},
   "outputs": [],
   "source": []
  },
  {
   "cell_type": "code",
   "execution_count": null,
   "metadata": {},
   "outputs": [],
   "source": []
  },
  {
   "cell_type": "code",
   "execution_count": null,
   "metadata": {},
   "outputs": [],
   "source": []
  },
  {
   "cell_type": "markdown",
   "metadata": {},
   "source": [
    "### for문\n",
    "\n",
    "for문: 순회하다.\n",
    "\n",
    "iterable의 데이터를 하나씩 꺼내서 value에 대입시킨후 code를 수행합니다. code는 iteralbe의 갯수 만큼 실행됩니다.\n",
    "\n",
    "문법\n",
    "\n",
    "`\n",
    "for <value> in <iterable> :\n",
    "    <code>\n",
    "`\n",
    "\n",
    "\n",
    "순회하다(iterable):\n",
    "iterable 의 의미는 member를 하나씩 차례로 반환 가능한 object를 말한다.\n",
    "iterable 의 예로는 sequence type인 list, str, tuple과 sequence type은 아니지만 set, dictionary가 대표적이다.\n",
    "\n",
    "숫자(int, float)는 순회할까?\n",
    "\n",
    "boolean은 순회 할까?"
   ]
  },
  {
   "cell_type": "code",
   "execution_count": 159,
   "metadata": {},
   "outputs": [],
   "source": [
    "mystring = 10\n",
    "mylist = [1,2,3,4,5]"
   ]
  },
  {
   "cell_type": "code",
   "execution_count": 166,
   "metadata": {},
   "outputs": [
    {
     "data": {
      "text/plain": [
       "False"
      ]
     },
     "execution_count": 166,
     "metadata": {},
     "output_type": "execute_result"
    }
   ],
   "source": [
    "a = 10 < 3"
   ]
  },
  {
   "cell_type": "code",
   "execution_count": 172,
   "metadata": {},
   "outputs": [
    {
     "name": "stdout",
     "output_type": "stream",
     "text": [
      "h\n",
      "e\n",
      "l\n",
      "l\n",
      "o\n"
     ]
    }
   ],
   "source": []
  },
  {
   "cell_type": "code",
   "execution_count": null,
   "metadata": {},
   "outputs": [],
   "source": []
  },
  {
   "cell_type": "code",
   "execution_count": 167,
   "metadata": {},
   "outputs": [
    {
     "data": {
      "text/plain": [
       "bool"
      ]
     },
     "execution_count": 167,
     "metadata": {},
     "output_type": "execute_result"
    }
   ],
   "source": [
    "type(a)"
   ]
  },
  {
   "cell_type": "code",
   "execution_count": 168,
   "metadata": {},
   "outputs": [
    {
     "ename": "TypeError",
     "evalue": "'bool' object is not iterable",
     "output_type": "error",
     "traceback": [
      "\u001b[0;31m---------------------------------------------------------------------------\u001b[0m",
      "\u001b[0;31mTypeError\u001b[0m                                 Traceback (most recent call last)",
      "\u001b[0;32m<ipython-input-168-c324de4f8f18>\u001b[0m in \u001b[0;36m<module>\u001b[0;34m\u001b[0m\n\u001b[0;32m----> 1\u001b[0;31m \u001b[0;32mfor\u001b[0m \u001b[0mi\u001b[0m \u001b[0;32min\u001b[0m \u001b[0ma\u001b[0m\u001b[0;34m:\u001b[0m\u001b[0;34m\u001b[0m\u001b[0;34m\u001b[0m\u001b[0m\n\u001b[0m\u001b[1;32m      2\u001b[0m     \u001b[0mprint\u001b[0m\u001b[0;34m(\u001b[0m\u001b[0mi\u001b[0m\u001b[0;34m)\u001b[0m\u001b[0;34m\u001b[0m\u001b[0;34m\u001b[0m\u001b[0m\n",
      "\u001b[0;31mTypeError\u001b[0m: 'bool' object is not iterable"
     ]
    }
   ],
   "source": [
    "for i in a:\n",
    "    print(i)"
   ]
  },
  {
   "cell_type": "code",
   "execution_count": 182,
   "metadata": {},
   "outputs": [
    {
     "name": "stdout",
     "output_type": "stream",
     "text": [
      "science\n",
      "korea\n",
      "english\n"
     ]
    }
   ],
   "source": [
    "grades = {'science':90, 'korea':70, 'english':55}\n",
    "\n",
    "for i in grades:\n",
    "    print(i)"
   ]
  },
  {
   "cell_type": "markdown",
   "metadata": {},
   "source": [
    "### <font color='orange'> Q4. grades데이터의 평균을 계산해 보세요. </font>\n",
    "\n",
    "grades = {'science':90, 'korea':70, 'english':55}"
   ]
  },
  {
   "cell_type": "code",
   "execution_count": 196,
   "metadata": {},
   "outputs": [
    {
     "name": "stdout",
     "output_type": "stream",
     "text": [
      "71.66666666666667\n"
     ]
    }
   ],
   "source": [
    "# A4 Enter your code\n",
    "grades = {'science':90, 'korea':70, 'english':55}\n",
    "\n",
    "total = 0\n",
    "size = len(grades.values())\n",
    "\n",
    "for i in grades.values():\n",
    "    total += i\n",
    "\n",
    "avg = total / size\n",
    "print(avg)"
   ]
  },
  {
   "cell_type": "code",
   "execution_count": 191,
   "metadata": {},
   "outputs": [],
   "source": [
    "a = 3"
   ]
  },
  {
   "cell_type": "code",
   "execution_count": 193,
   "metadata": {},
   "outputs": [],
   "source": [
    "a += 5"
   ]
  },
  {
   "cell_type": "code",
   "execution_count": 194,
   "metadata": {},
   "outputs": [
    {
     "data": {
      "text/plain": [
       "8"
      ]
     },
     "execution_count": 194,
     "metadata": {},
     "output_type": "execute_result"
    }
   ],
   "source": [
    "a"
   ]
  },
  {
   "cell_type": "code",
   "execution_count": null,
   "metadata": {},
   "outputs": [],
   "source": []
  },
  {
   "cell_type": "code",
   "execution_count": null,
   "metadata": {},
   "outputs": [],
   "source": []
  },
  {
   "cell_type": "markdown",
   "metadata": {},
   "source": [
    "### while 문\n",
    "\n",
    "\n",
    "- condition이 True이면 while 안쪽의 code가 실행 후 다시 condition을 확인하여 True이면 code를 실행을 반복합니다. \n",
    "- condition이 False가 될때까지 code가 반복적으로 실행됩니다.\n",
    "\n",
    "`\n",
    "while <condition>:\n",
    "  <code>\n",
    "`\n",
    "\n",
    "while 은 잘못사용하면 무한루프에 빠지기 때문에 주의해서 사용해야 합니다.\n"
   ]
  },
  {
   "cell_type": "markdown",
   "metadata": {},
   "source": [
    "### 잠깐! 논리연산자 연습\n",
    "\n",
    "True가 되는 조건은 뭘까?\n",
    "\n",
    "True 값....?\n",
    "\n",
    "- and &\n",
    "- or |"
   ]
  },
  {
   "cell_type": "markdown",
   "metadata": {},
   "source": [
    "### 비교 연산자 연습\n",
    "\n",
    "- ==, !=, <, <=, >, >=, in"
   ]
  },
  {
   "cell_type": "code",
   "execution_count": 211,
   "metadata": {},
   "outputs": [
    {
     "name": "stdout",
     "output_type": "stream",
     "text": [
      "0\n",
      "1\n",
      "2\n",
      "3\n",
      "4\n",
      "5\n",
      "6\n",
      "7\n",
      "8\n",
      "9\n"
     ]
    }
   ],
   "source": [
    "c = 0\n",
    "\n",
    "while c < 10:\n",
    "    print(c)\n",
    "    c += 1 "
   ]
  },
  {
   "cell_type": "code",
   "execution_count": 212,
   "metadata": {},
   "outputs": [
    {
     "name": "stdout",
     "output_type": "stream",
     "text": [
      "10\n"
     ]
    }
   ],
   "source": []
  },
  {
   "cell_type": "code",
   "execution_count": 207,
   "metadata": {},
   "outputs": [
    {
     "data": {
      "text/plain": [
       "False"
      ]
     },
     "execution_count": 207,
     "metadata": {},
     "output_type": "execute_result"
    }
   ],
   "source": []
  },
  {
   "cell_type": "markdown",
   "metadata": {},
   "source": [
    "### 조건문\n",
    "\n",
    "- if\n",
    "- else\n",
    "- elif\n",
    "\n",
    "1. if\n",
    "조건에 따라서 코드를 실행시키고 싶을때 사용합니다.\n",
    "condition이 True이면 code_1이 실행 됩니다.\n",
    "\n",
    "`\n",
    "if <condition>:\n",
    "  <code>\n",
    "`"
   ]
  },
  {
   "cell_type": "code",
   "execution_count": 218,
   "metadata": {},
   "outputs": [],
   "source": [
    "c = 100"
   ]
  },
  {
   "cell_type": "code",
   "execution_count": 216,
   "metadata": {},
   "outputs": [
    {
     "name": "stdout",
     "output_type": "stream",
     "text": [
      "hi\n"
     ]
    }
   ],
   "source": [
    "if c == 10:\n",
    "    print(\"hello\")\n",
    "else:\n",
    "    print('hi')"
   ]
  },
  {
   "cell_type": "code",
   "execution_count": 219,
   "metadata": {},
   "outputs": [
    {
     "name": "stdout",
     "output_type": "stream",
     "text": [
      "good morning\n"
     ]
    }
   ],
   "source": [
    "if c == 10:\n",
    "    print(\"hello\")\n",
    "elif c == 100:\n",
    "    print('good morning')\n",
    "else:\n",
    "    print('hi')"
   ]
  },
  {
   "cell_type": "code",
   "execution_count": null,
   "metadata": {},
   "outputs": [],
   "source": []
  },
  {
   "cell_type": "markdown",
   "metadata": {},
   "source": [
    "#### 조건문 else\n",
    "\n",
    "condition이 False이면 code_2 가 실행됩니다.\n",
    "\n",
    "`\n",
    "if <condition>:\n",
    "    <code_1>\n",
    "else:\n",
    "    <code_2>\n",
    "`"
   ]
  },
  {
   "cell_type": "code",
   "execution_count": null,
   "metadata": {},
   "outputs": [],
   "source": []
  },
  {
   "cell_type": "code",
   "execution_count": null,
   "metadata": {},
   "outputs": [],
   "source": []
  },
  {
   "cell_type": "code",
   "execution_count": null,
   "metadata": {},
   "outputs": [],
   "source": []
  },
  {
   "cell_type": "markdown",
   "metadata": {},
   "source": [
    "#### elif\n",
    "\n",
    "\n",
    "condition_1이 False이면 condition_2를 확인하여 condition_2가 True이면 code_2 가 실행됩니다.\n",
    "\n",
    "`\n",
    "if <condition_1>:\n",
    "    <code_1>\n",
    "elif <condition_2>:\n",
    "    <code_2>\n",
    "else:\n",
    "    <code_3>\n",
    "`"
   ]
  },
  {
   "cell_type": "code",
   "execution_count": null,
   "metadata": {},
   "outputs": [],
   "source": []
  },
  {
   "cell_type": "code",
   "execution_count": 236,
   "metadata": {},
   "outputs": [
    {
     "name": "stdout",
     "output_type": "stream",
     "text": [
      "숫자를 입력하세요100\n"
     ]
    }
   ],
   "source": [
    "k = int(input(\"숫자를 입력하세요\"))"
   ]
  },
  {
   "cell_type": "code",
   "execution_count": 237,
   "metadata": {},
   "outputs": [
    {
     "data": {
      "text/plain": [
       "int"
      ]
     },
     "execution_count": 237,
     "metadata": {},
     "output_type": "execute_result"
    }
   ],
   "source": [
    "type(k)"
   ]
  },
  {
   "cell_type": "markdown",
   "metadata": {},
   "source": [
    "### <font color = 'orange'> Q5 숫자를 입력받아 짝수이면 even, 홀수이면 odd를 출력하는 코드를 작성하세요. </font>\n",
    "\n",
    "- input() 함수 사용"
   ]
  },
  {
   "cell_type": "code",
   "execution_count": 268,
   "metadata": {},
   "outputs": [
    {
     "name": "stdout",
     "output_type": "stream",
     "text": [
      "숫자를 입력해 주세요: 10\n",
      "even\n"
     ]
    }
   ],
   "source": [
    "number = int(input(\"숫자를 입력해 주세요: \"))\n",
    "\n",
    "if number % 2 == 0 :\n",
    "    print(\"even\")\n",
    "else:\n",
    "    print(\"odd\")"
   ]
  },
  {
   "cell_type": "code",
   "execution_count": 261,
   "metadata": {},
   "outputs": [],
   "source": []
  },
  {
   "cell_type": "code",
   "execution_count": 262,
   "metadata": {},
   "outputs": [
    {
     "data": {
      "text/plain": [
       "str"
      ]
     },
     "execution_count": 262,
     "metadata": {},
     "output_type": "execute_result"
    }
   ],
   "source": [
    "type(number)"
   ]
  },
  {
   "cell_type": "code",
   "execution_count": 263,
   "metadata": {},
   "outputs": [
    {
     "data": {
      "text/plain": [
       "10.0"
      ]
     },
     "execution_count": 263,
     "metadata": {},
     "output_type": "execute_result"
    }
   ],
   "source": [
    "float(number)"
   ]
  },
  {
   "cell_type": "code",
   "execution_count": null,
   "metadata": {},
   "outputs": [],
   "source": []
  },
  {
   "cell_type": "markdown",
   "metadata": {},
   "source": [
    "### break, continue\n",
    "\n",
    "- break: 코드를 중단하고 싶을때, break를 쓴다. \n",
    "- continue: 코드를 건너 띄고 싶을 때, continue를 쓴다. "
   ]
  },
  {
   "cell_type": "code",
   "execution_count": 277,
   "metadata": {},
   "outputs": [
    {
     "name": "stdout",
     "output_type": "stream",
     "text": [
      "0\n",
      "1\n",
      "2\n"
     ]
    }
   ],
   "source": [
    "a = range(10)\n",
    "\n",
    "for i in range(10):\n",
    "    if i == 3:\n",
    "        break\n",
    "    print(i)"
   ]
  },
  {
   "cell_type": "code",
   "execution_count": 278,
   "metadata": {},
   "outputs": [
    {
     "name": "stdout",
     "output_type": "stream",
     "text": [
      "hi\n"
     ]
    }
   ],
   "source": [
    "a = 3\n",
    "\n",
    "while a == 3:\n",
    "    print(\"hi\")\n",
    "    break"
   ]
  },
  {
   "cell_type": "code",
   "execution_count": null,
   "metadata": {},
   "outputs": [],
   "source": []
  },
  {
   "cell_type": "code",
   "execution_count": null,
   "metadata": {},
   "outputs": [],
   "source": [
    "b = \"hello\"\n",
    "c = \"python\""
   ]
  },
  {
   "cell_type": "code",
   "execution_count": null,
   "metadata": {},
   "outputs": [],
   "source": []
  },
  {
   "cell_type": "code",
   "execution_count": null,
   "metadata": {},
   "outputs": [],
   "source": []
  },
  {
   "cell_type": "code",
   "execution_count": null,
   "metadata": {},
   "outputs": [],
   "source": []
  },
  {
   "cell_type": "code",
   "execution_count": null,
   "metadata": {},
   "outputs": [],
   "source": []
  },
  {
   "cell_type": "markdown",
   "metadata": {},
   "source": [
    "### <font color = orange> Q6 한도가 50000인 카드를 금액을 초과할 때 까지 사용할 수 있는 코드를 작성. 만약 금액을 초과하면 사용이 불가해야 한다. </font>\n",
    "\n",
    "힌트\n",
    "\n",
    "- card = 50000 \n",
    "- cost = 0 \n",
    "- balance = card - cost\n",
    "\n",
    "\n",
    "- while문 동작\n",
    "- 조건: 카드의 잔액이 0보다 클때.\n",
    "- 카드 한도 초과시 c"
   ]
  },
  {
   "cell_type": "code",
   "execution_count": 283,
   "metadata": {},
   "outputs": [
    {
     "name": "stdout",
     "output_type": "stream",
     "text": [
      "사용 금액을 입력하세요: 60000\n",
      "한도를 초과했습니다.\n"
     ]
    }
   ],
   "source": [
    "card = 50000\n",
    "cost = 0\n",
    "balance = card - cost\n",
    "\n",
    "while cost < 50000:\n",
    "    c = int(input(\"사용 금액을 입력하세요: \"))\n",
    "\n",
    "    if c > balance:\n",
    "        print(\"한도를 초과했습니다.\")\n",
    "        break\n",
    "    \n",
    "    cost += c\n",
    "    balance = card - cost\n",
    "    #print(\"현재 잔액은{} 원 입니다.\".format(blanace))\n",
    "    print(\"현재 잔액은\", balance, \"원 입니다.\")"
   ]
  },
  {
   "cell_type": "code",
   "execution_count": null,
   "metadata": {},
   "outputs": [],
   "source": []
  },
  {
   "cell_type": "code",
   "execution_count": null,
   "metadata": {},
   "outputs": [],
   "source": []
  },
  {
   "cell_type": "code",
   "execution_count": 284,
   "metadata": {},
   "outputs": [
    {
     "name": "stdout",
     "output_type": "stream",
     "text": [
      "사용금액: 20000\n",
      "현재 잔액은30000입니다.\n",
      "사용금액: 10000\n",
      "현재 잔액은20000입니다.\n",
      "사용금액: 100\n",
      "현재 잔액은19900입니다.\n",
      "사용금액: 90000\n",
      "한도를 초과하였습니다.\n"
     ]
    }
   ],
   "source": [
    "card = 50000\n",
    "cost = 0\n",
    "balance = card - cost\n",
    "\n",
    "while cost < 50000:\n",
    "    c = int(input(\"사용금액: \"))\n",
    "\n",
    "    if c > 50000:\n",
    "        print(\"한도를 초과하였습니다.\")\n",
    "        break\n",
    "    \n",
    "    elif c > balance:\n",
    "        print(\"한도를 초과하였습니다.\")\n",
    "        break\n",
    "\n",
    "    cost += c\n",
    "    balance = card - cost\n",
    "    print(\"현재 잔액은{}입니다.\".format(balance))"
   ]
  },
  {
   "cell_type": "markdown",
   "metadata": {},
   "source": [
    "### <font color='orange'> Q7 로또 번호 랜덤 추출 1~45까지의 숫자중 6자리를 랜덤으로 출력합니다. </font>\n",
    "\n",
    "- 중복이 있으면 안됩니다.\n",
    "- 결과 예시\n",
    "\n",
    "result = [1,3,44,2,25,10]"
   ]
  },
  {
   "cell_type": "code",
   "execution_count": 286,
   "metadata": {},
   "outputs": [],
   "source": []
  },
  {
   "cell_type": "code",
   "execution_count": 307,
   "metadata": {},
   "outputs": [],
   "source": [
    "import random\n",
    "\n",
    "result = []\n",
    "\n",
    "while len(result) < 6:\n",
    "    n = random.randint(1, 45)\n",
    "    if n not in result:\n",
    "        result.append(n)"
   ]
  },
  {
   "cell_type": "code",
   "execution_count": 308,
   "metadata": {},
   "outputs": [
    {
     "data": {
      "text/plain": [
       "[8, 22, 37, 4, 6, 27]"
      ]
     },
     "execution_count": 308,
     "metadata": {},
     "output_type": "execute_result"
    }
   ],
   "source": [
    "result"
   ]
  },
  {
   "cell_type": "code",
   "execution_count": null,
   "metadata": {},
   "outputs": [],
   "source": []
  },
  {
   "cell_type": "code",
   "execution_count": null,
   "metadata": {},
   "outputs": [],
   "source": []
  },
  {
   "cell_type": "code",
   "execution_count": null,
   "metadata": {},
   "outputs": [],
   "source": []
  },
  {
   "cell_type": "markdown",
   "metadata": {},
   "source": [
    "### <font color='orange'> Q8. weekend와 weekday 변수를 아래와 같이 선언한 뒤, input함수로 받은 요일에 대해 주말과 주중을 판단하는 코드를 작성하세요</font>\n",
    "\n",
    "- weekend = [\"토\", \"일\"]\n",
    "- weekday = [\"월\", \"화\", \"수\", \"목\", \"금\"]\n",
    "\n",
    "- question = input(\"요일 입력: \")\n",
    "\n",
    "결과예시) 입력:월 출력:주중  // 입력:일, 출력: 주말"
   ]
  },
  {
   "cell_type": "code",
   "execution_count": 313,
   "metadata": {},
   "outputs": [
    {
     "name": "stdout",
     "output_type": "stream",
     "text": [
      "요일을 입력하세요: 일요일\n",
      "잘못 입력하셨습니다. 요일을 한글자만 입력하세요, 예시: 월,화,수,목,금,토,일\n"
     ]
    }
   ],
   "source": [
    "weekend = [\"토\", \"일\"]\n",
    "weekday = [\"월\", \"화\", \"수\", \"목\", \"금\"]\n",
    "\n",
    "question = input(\"요일을 입력하세요: \")\n",
    "\n",
    "if question in weekend:\n",
    "    print(\"주말\")\n",
    "elif question in weekday:\n",
    "    print(\"주중\")\n",
    "else:\n",
    "    print(\"잘못 입력하셨습니다. 요일을 한글자만 입력하세요, 예시: 월,화,수,목,금,토,일\")"
   ]
  },
  {
   "cell_type": "code",
   "execution_count": null,
   "metadata": {},
   "outputs": [],
   "source": []
  },
  {
   "cell_type": "code",
   "execution_count": null,
   "metadata": {},
   "outputs": [],
   "source": []
  },
  {
   "cell_type": "code",
   "execution_count": null,
   "metadata": {},
   "outputs": [],
   "source": []
  },
  {
   "cell_type": "markdown",
   "metadata": {},
   "source": [
    "### 4. 파일 처리 Remind\n",
    "\n",
    "- 다음과 같이 점수의 배열이 grade 변수명에 저장되어 있다.\n",
    "    - grade = ['8.65', '9.12', '8.45', '7.81', '8.05', '7.21', '8.31']\n",
    "\n",
    "\n",
    "\n",
    "- 코드1. result.txt 파일로 저장한다.\n",
    "- 코드2. 파일을 읽어 가장 높은 점수를 출력하는 코드를 만든다."
   ]
  },
  {
   "cell_type": "code",
   "execution_count": 238,
   "metadata": {},
   "outputs": [],
   "source": [
    "## 코드1\n",
    "grade = ['8.65', '9.12', '8.45', '7.81', '8.05', '7.21', '8.31']"
   ]
  },
  {
   "cell_type": "code",
   "execution_count": 322,
   "metadata": {},
   "outputs": [
    {
     "name": "stdout",
     "output_type": "stream",
     "text": [
      "Concents.md             \u001b[34mbasic_5day\u001b[m\u001b[m              python.txt\r\n",
      "\u001b[34mGUI\u001b[m\u001b[m                     \u001b[34mcontents\u001b[m\u001b[m                result.txt\r\n",
      "Python4DS.ipynb         \u001b[34mfig\u001b[m\u001b[m                     result_NEW.txt\r\n",
      "Python_Introduction.pdf hello.txt\r\n"
     ]
    }
   ],
   "source": [
    "!ls"
   ]
  },
  {
   "cell_type": "code",
   "execution_count": 321,
   "metadata": {},
   "outputs": [],
   "source": [
    "## 코드1\n",
    "grade = ['8.65', '9.12', '8.45', '7.81', '8.05', '7.21', '8.31']\n",
    "file = open(\"result_NEW.txt\", \"w\")\n",
    "\n",
    "for i in grade:\n",
    "    data = \"{}\\n\".format(i)\n",
    "    file.write(data)\n",
    "\n",
    "file.close()\n"
   ]
  },
  {
   "cell_type": "code",
   "execution_count": 323,
   "metadata": {},
   "outputs": [
    {
     "name": "stdout",
     "output_type": "stream",
     "text": [
      "8.65\n",
      "\n",
      "9.12\n",
      "\n",
      "8.45\n",
      "\n",
      "7.81\n",
      "\n",
      "8.05\n",
      "\n",
      "7.21\n",
      "\n",
      "8.31\n",
      "\n"
     ]
    }
   ],
   "source": [
    "result_f = open(\"result_NEW.txt\")\n",
    "\n",
    "for i in result_f:\n",
    "    print(i)"
   ]
  },
  {
   "cell_type": "code",
   "execution_count": 324,
   "metadata": {},
   "outputs": [],
   "source": [
    "result_f.close()"
   ]
  },
  {
   "cell_type": "code",
   "execution_count": 246,
   "metadata": {},
   "outputs": [
    {
     "name": "stdout",
     "output_type": "stream",
     "text": [
      "The highest score was: \n",
      "9.12\n"
     ]
    }
   ],
   "source": [
    "## 코드2\n",
    "best_score = 0 \n",
    "result_f = open(\"result.txt\")\n",
    "\n",
    "for line in result_f:\n",
    "    if float(line) > best_score:\n",
    "        best_score = float(line)\n",
    "result_f.close()\n",
    "\n",
    "print(\"The highest score was: \")\n",
    "print(best_score)"
   ]
  },
  {
   "cell_type": "code",
   "execution_count": 325,
   "metadata": {},
   "outputs": [],
   "source": [
    "!rm -rf \"result.txt\""
   ]
  },
  {
   "cell_type": "markdown",
   "metadata": {},
   "source": [
    "## <font color = 'skyblue'> 6. 함수 </font>\n",
    "------------\n",
    "1) def 키워드\n",
    "\n",
    "2) 함수의 정의와 호출\n",
    "- 정의 (define)\n",
    "- 호출 (call)\n",
    "\n",
    "3) 함수의 입력과 출력 \n",
    "\n",
    "- 입력: 인자(Argument), 파라미터(parameter)\n",
    "- 출력: return의 유무\n",
    "\n",
    "4) 인자\n",
    "- keyword Argument\n",
    "- positional Argument"
   ]
  },
  {
   "cell_type": "code",
   "execution_count": 327,
   "metadata": {},
   "outputs": [
    {
     "name": "stdout",
     "output_type": "stream",
     "text": [
      "hello\n",
      "hi\n",
      "goodmorning\n"
     ]
    }
   ],
   "source": [
    "def greeting():\n",
    "    print(\"hello\")\n",
    "    print(\"hi\")\n",
    "    print(\"goodmorning\")\n",
    "    \n",
    "greeting()"
   ]
  },
  {
   "cell_type": "code",
   "execution_count": null,
   "metadata": {},
   "outputs": [],
   "source": []
  },
  {
   "cell_type": "markdown",
   "metadata": {},
   "source": [
    "### 함수, def, 정의와 호출\n",
    "\n",
    "- 함수: 코드의 재사용(reuse)\n",
    "\n",
    "\n",
    "- 선언하기\n",
    "\n",
    "`\n",
    "def 함수이름():\n",
    "  <코드>\n",
    "`\n",
    "\n",
    "- 호출하기\n",
    "\n",
    "`함수이름()`\n",
    "\n",
    "\n",
    "- 선언(정의)하기 (define)\n",
    "- 호출하기 (call) : 실제로 사용할때"
   ]
  },
  {
   "cell_type": "code",
   "execution_count": 372,
   "metadata": {},
   "outputs": [
    {
     "name": "stdout",
     "output_type": "stream",
     "text": [
      "hello\n",
      "hi\n",
      "good morning\n"
     ]
    }
   ],
   "source": [
    "def greeting():\n",
    "    print(\"hello\")\n",
    "    print(\"hi\")\n",
    "    print(\"good morning\")\n",
    "\n",
    "greeting()"
   ]
  },
  {
   "cell_type": "code",
   "execution_count": 373,
   "metadata": {},
   "outputs": [],
   "source": [
    "def upper_case(string):\n",
    "    result = string[0].upper() + string[1:]\n",
    "    return result "
   ]
  },
  {
   "cell_type": "code",
   "execution_count": null,
   "metadata": {},
   "outputs": [],
   "source": []
  },
  {
   "cell_type": "markdown",
   "metadata": {},
   "source": [
    "### <font color='orange'> Q9. 간이 프로그램 만들어 보기 프로그램명: 적금 계산 </font>\n",
    "\n",
    "- 입력\n",
    "    - 원금\n",
    "    - 연간 이자율: 소수점으로 나타낸 1년동안의 비율\n",
    "\n",
    "- 출력\n",
    "10년 후 금액 "
   ]
  },
  {
   "cell_type": "code",
   "execution_count": 376,
   "metadata": {},
   "outputs": [],
   "source": [
    "def main():\n",
    "    # 안내 메시지를 출력한다. \n",
    "    # 원금 액수를 입력 받는다.\n",
    "    # 연간 이자율을 입력 받는다\n",
    "    # 10년이므로, 10회 반복한다. \n",
    "    # 반복한 값을 출력한다. \n",
    "    pass"
   ]
  },
  {
   "cell_type": "code",
   "execution_count": 386,
   "metadata": {},
   "outputs": [],
   "source": [
    "def main():\n",
    "    print(\"예금 가입을 축하 드립니다.\")\n",
    "    principal = int(input(\"원금 액수를 입력하세요: \"))\n",
    "    rate = 0.04\n",
    "    year = int(input(\"예금 가입 기간을 입력하세요: \"))\n",
    "    balance = 0\n",
    "    for i in range(year):\n",
    "        balance += principal * (1+rate)\n",
    "    print(\"이자율은 {} 입니다.\".format(rate))\n",
    "    print(\"10년 후의 금액은 {} 원 입니다.\".format(balance))"
   ]
  },
  {
   "cell_type": "code",
   "execution_count": 387,
   "metadata": {},
   "outputs": [
    {
     "name": "stdout",
     "output_type": "stream",
     "text": [
      "예금 가입을 축하 드립니다.\n",
      "원금 액수를 입력하세요: 1000\n",
      "예금 가입 기간을 입력하세요: 2\n",
      "이자율은 0.04 입니다.\n",
      "10년 후의 금액은 2080.0 원 입니다.\n"
     ]
    }
   ],
   "source": [
    "if __name__ == \"__main__\":\n",
    "    main()"
   ]
  },
  {
   "cell_type": "code",
   "execution_count": 384,
   "metadata": {},
   "outputs": [
    {
     "name": "stdout",
     "output_type": "stream",
     "text": [
      "예금 가입을 축하 드립니다.\n",
      "원금 액수를 입력하세요: 10000\n",
      "예금 가입 기간을 입력하세요: 10\n",
      "10년 후의 금액은 104000.0 원 입니다.\n"
     ]
    }
   ],
   "source": [
    "main()"
   ]
  },
  {
   "cell_type": "code",
   "execution_count": null,
   "metadata": {},
   "outputs": [],
   "source": []
  },
  {
   "cell_type": "code",
   "execution_count": null,
   "metadata": {},
   "outputs": [],
   "source": []
  },
  {
   "cell_type": "code",
   "execution_count": null,
   "metadata": {},
   "outputs": [],
   "source": []
  },
  {
   "cell_type": "code",
   "execution_count": 379,
   "metadata": {},
   "outputs": [],
   "source": [
    "def main():\n",
    "    print(\"예금 가입을 축하 드립니다.\")\n",
    "    principal = int(input(\"원금 액수를 입력하세요: \"))\n",
    "    rate = float(input(\"이자율을 입력하세요: \"))\n",
    "    balance = 0\n",
    "    for i in range(10):\n",
    "        balance += principal * (1+rate)\n",
    "    print(\"10년 후의 금액은 {} 원 입니다.\".format(balance))"
   ]
  },
  {
   "cell_type": "code",
   "execution_count": 380,
   "metadata": {},
   "outputs": [
    {
     "name": "stdout",
     "output_type": "stream",
     "text": [
      "예금 가입을 축하 드립니다.\n",
      "원금 액수를 입력하세요: 1000\n",
      "이자율을 입력하세요: 0.2\n",
      "10년 후의 금액은 12000.0 원 입니다.\n"
     ]
    }
   ],
   "source": [
    "main()"
   ]
  },
  {
   "cell_type": "code",
   "execution_count": null,
   "metadata": {},
   "outputs": [],
   "source": []
  },
  {
   "cell_type": "markdown",
   "metadata": {},
   "source": [
    "### 함수와 프로그램"
   ]
  },
  {
   "cell_type": "markdown",
   "metadata": {},
   "source": [
    "- 컴퓨터가 프로그램을 실행할 때 main()함수에서 시작한다.\n",
    "\n",
    "- 이 함수의 이름은 매우 매우 중요하다.!! \n",
    "- main()이라는 이름을 갖고 있는 함수가 없으면 우리의 프로그램은 시작되지 않는다. \n",
    "\n",
    "<C 언어>\n",
    "\n",
    "`\n",
    "int main()\n",
    "{\n",
    "    return 0;\n",
    "}\n",
    "`"
   ]
  },
  {
   "cell_type": "code",
   "execution_count": 14,
   "metadata": {},
   "outputs": [],
   "source": [
    "def main():\n",
    "    pass\n",
    "\n",
    "main()"
   ]
  },
  {
   "cell_type": "code",
   "execution_count": 15,
   "metadata": {},
   "outputs": [],
   "source": [
    "def main():\n",
    "    pass\n",
    "\n",
    "if __name__ == \"__main__\":\n",
    "    main()"
   ]
  },
  {
   "cell_type": "code",
   "execution_count": null,
   "metadata": {},
   "outputs": [],
   "source": []
  },
  {
   "cell_type": "code",
   "execution_count": null,
   "metadata": {},
   "outputs": [],
   "source": []
  },
  {
   "cell_type": "markdown",
   "metadata": {},
   "source": [
    "### 입력과 출력의 형태"
   ]
  },
  {
   "cell_type": "markdown",
   "metadata": {},
   "source": [
    "<img src='./fig/img1.jpg'>\n",
    "\n",
    "*매개변수(parameter)는 함수 입력으로 들어갈 변수를 지정해 주는 것이고, 실제로 입력에 값을 대입할때는 인자(argument)라고 한다.\n",
    "\n",
    "`\n",
    "def func(a,b):\n",
    "    return a+b\n",
    "`\n",
    "\n",
    "`\n",
    "func(1,2)\n",
    "`\n",
    "\n",
    "- 매개변수는 a,b // 인자는 1,2"
   ]
  },
  {
   "cell_type": "code",
   "execution_count": 328,
   "metadata": {},
   "outputs": [],
   "source": [
    "#입력 : 반지름\n",
    "#출력 : 원의 면적\n",
    "    \n",
    "def cir(r):\n",
    "    area = 3.14*r*r\n",
    "    return area"
   ]
  },
  {
   "cell_type": "code",
   "execution_count": 330,
   "metadata": {},
   "outputs": [
    {
     "ename": "TypeError",
     "evalue": "cir() missing 1 required positional argument: 'r'",
     "output_type": "error",
     "traceback": [
      "\u001b[0;31m---------------------------------------------------------------------------\u001b[0m",
      "\u001b[0;31mTypeError\u001b[0m                                 Traceback (most recent call last)",
      "\u001b[0;32m<ipython-input-330-78e5467ba54e>\u001b[0m in \u001b[0;36m<module>\u001b[0;34m\u001b[0m\n\u001b[0;32m----> 1\u001b[0;31m \u001b[0mcir\u001b[0m\u001b[0;34m(\u001b[0m\u001b[0;34m)\u001b[0m\u001b[0;34m\u001b[0m\u001b[0;34m\u001b[0m\u001b[0m\n\u001b[0m",
      "\u001b[0;31mTypeError\u001b[0m: cir() missing 1 required positional argument: 'r'"
     ]
    }
   ],
   "source": [
    "cir()"
   ]
  },
  {
   "cell_type": "code",
   "execution_count": null,
   "metadata": {},
   "outputs": [],
   "source": []
  },
  {
   "cell_type": "code",
   "execution_count": null,
   "metadata": {},
   "outputs": [],
   "source": []
  },
  {
   "cell_type": "markdown",
   "metadata": {},
   "source": [
    "### 함수의 입력과 출력"
   ]
  },
  {
   "cell_type": "markdown",
   "metadata": {},
   "source": [
    "#### 입력값이 없는 함수, 결과 값이 없는 함수"
   ]
  },
  {
   "cell_type": "code",
   "execution_count": 339,
   "metadata": {},
   "outputs": [],
   "source": [
    "def greeting():\n",
    "    print(\"hello\")"
   ]
  },
  {
   "cell_type": "code",
   "execution_count": 340,
   "metadata": {},
   "outputs": [
    {
     "name": "stdout",
     "output_type": "stream",
     "text": [
      "hello\n"
     ]
    }
   ],
   "source": [
    "a = greeting()"
   ]
  },
  {
   "cell_type": "code",
   "execution_count": 341,
   "metadata": {},
   "outputs": [
    {
     "name": "stdout",
     "output_type": "stream",
     "text": [
      "None\n"
     ]
    }
   ],
   "source": [
    "print(a)"
   ]
  },
  {
   "cell_type": "code",
   "execution_count": null,
   "metadata": {},
   "outputs": [],
   "source": []
  },
  {
   "cell_type": "markdown",
   "metadata": {},
   "source": [
    "#### 입력값이 없는 함수, 결과값이 있는 함수"
   ]
  },
  {
   "cell_type": "code",
   "execution_count": 342,
   "metadata": {},
   "outputs": [],
   "source": [
    "def greeting():\n",
    "    return \"hello\""
   ]
  },
  {
   "cell_type": "code",
   "execution_count": 343,
   "metadata": {},
   "outputs": [],
   "source": [
    "a = greeting()"
   ]
  },
  {
   "cell_type": "code",
   "execution_count": 344,
   "metadata": {},
   "outputs": [
    {
     "name": "stdout",
     "output_type": "stream",
     "text": [
      "hello\n"
     ]
    }
   ],
   "source": [
    "print(a)"
   ]
  },
  {
   "cell_type": "markdown",
   "metadata": {},
   "source": [
    "#### 입력값이 있고 결과값이 있는 함수"
   ]
  },
  {
   "cell_type": "code",
   "execution_count": 345,
   "metadata": {},
   "outputs": [],
   "source": [
    "def cir(r):\n",
    "    area = 3.14*r**2\n",
    "    return area"
   ]
  },
  {
   "cell_type": "code",
   "execution_count": 346,
   "metadata": {},
   "outputs": [
    {
     "name": "stdout",
     "output_type": "stream",
     "text": [
      "28.26\n"
     ]
    }
   ],
   "source": [
    "cir_3 = cir(3)\n",
    "print(cir_3)"
   ]
  },
  {
   "cell_type": "markdown",
   "metadata": {},
   "source": [
    "#### 입력값이 있고 결과값이 없는 함수"
   ]
  },
  {
   "cell_type": "code",
   "execution_count": null,
   "metadata": {},
   "outputs": [],
   "source": []
  },
  {
   "cell_type": "code",
   "execution_count": null,
   "metadata": {},
   "outputs": [],
   "source": []
  },
  {
   "cell_type": "markdown",
   "metadata": {},
   "source": [
    "#### 정리\n",
    "\n",
    "- 매개X결과O : f = func1(), f = None\n",
    "- 매개O결과O : f = func1(a,b)\n",
    "- 매개X결과X : f = func(), f = None\n",
    "- 매개O결과X : f = func(a,b), f = None\n"
   ]
  },
  {
   "cell_type": "code",
   "execution_count": null,
   "metadata": {},
   "outputs": [],
   "source": []
  },
  {
   "cell_type": "code",
   "execution_count": null,
   "metadata": {},
   "outputs": [],
   "source": []
  },
  {
   "cell_type": "code",
   "execution_count": 357,
   "metadata": {},
   "outputs": [],
   "source": [
    "def func(a=3, b=1):\n",
    "    A = a*2\n",
    "    B = b+2\n",
    "    return A, B"
   ]
  },
  {
   "cell_type": "code",
   "execution_count": 359,
   "metadata": {},
   "outputs": [
    {
     "data": {
      "text/plain": [
       "(20, 4)"
      ]
     },
     "execution_count": 359,
     "metadata": {},
     "output_type": "execute_result"
    }
   ],
   "source": [
    "func(10, 2)"
   ]
  },
  {
   "cell_type": "code",
   "execution_count": 351,
   "metadata": {},
   "outputs": [
    {
     "name": "stdout",
     "output_type": "stream",
     "text": [
      "(6, 5)\n"
     ]
    }
   ],
   "source": [
    "print(func(3,3))"
   ]
  },
  {
   "cell_type": "code",
   "execution_count": 352,
   "metadata": {},
   "outputs": [
    {
     "data": {
      "text/plain": [
       "(14, 10)"
      ]
     },
     "execution_count": 352,
     "metadata": {},
     "output_type": "execute_result"
    }
   ],
   "source": [
    "func(7,8)"
   ]
  },
  {
   "cell_type": "code",
   "execution_count": 354,
   "metadata": {},
   "outputs": [
    {
     "data": {
      "text/plain": [
       "(16, 9)"
      ]
     },
     "execution_count": 354,
     "metadata": {},
     "output_type": "execute_result"
    }
   ],
   "source": [
    "func(b=7, a=8)"
   ]
  },
  {
   "cell_type": "code",
   "execution_count": null,
   "metadata": {},
   "outputs": [],
   "source": []
  },
  {
   "cell_type": "code",
   "execution_count": null,
   "metadata": {},
   "outputs": [],
   "source": []
  },
  {
   "cell_type": "code",
   "execution_count": null,
   "metadata": {},
   "outputs": [],
   "source": []
  },
  {
   "cell_type": "markdown",
   "metadata": {},
   "source": [
    "#### 지역변수와 전역변수\n",
    "\n",
    "키워드 global\n",
    "\n",
    "`\n",
    "a = 1\n",
    "`\n",
    "\n",
    "`\n",
    "def func():\n",
    "    global a\n",
    "    a = a+1\n",
    "`\n",
    "\n",
    "`\n",
    "func()\n",
    "print(a)\n",
    "`"
   ]
  },
  {
   "cell_type": "code",
   "execution_count": 369,
   "metadata": {},
   "outputs": [],
   "source": [
    "a = 1\n",
    "\n",
    "def func():\n",
    "    global a\n",
    "    a += 1"
   ]
  },
  {
   "cell_type": "code",
   "execution_count": 370,
   "metadata": {},
   "outputs": [
    {
     "ename": "UnboundLocalError",
     "evalue": "local variable 'a' referenced before assignment",
     "output_type": "error",
     "traceback": [
      "\u001b[0;31m---------------------------------------------------------------------------\u001b[0m",
      "\u001b[0;31mUnboundLocalError\u001b[0m                         Traceback (most recent call last)",
      "\u001b[0;32m<ipython-input-370-bd1982955a12>\u001b[0m in \u001b[0;36m<module>\u001b[0;34m\u001b[0m\n\u001b[0;32m----> 1\u001b[0;31m \u001b[0mfunc\u001b[0m\u001b[0;34m(\u001b[0m\u001b[0;34m)\u001b[0m\u001b[0;34m\u001b[0m\u001b[0;34m\u001b[0m\u001b[0m\n\u001b[0m",
      "\u001b[0;32m<ipython-input-369-00b1b166f374>\u001b[0m in \u001b[0;36mfunc\u001b[0;34m()\u001b[0m\n\u001b[1;32m      2\u001b[0m \u001b[0;34m\u001b[0m\u001b[0m\n\u001b[1;32m      3\u001b[0m \u001b[0;32mdef\u001b[0m \u001b[0mfunc\u001b[0m\u001b[0;34m(\u001b[0m\u001b[0;34m)\u001b[0m\u001b[0;34m:\u001b[0m\u001b[0;34m\u001b[0m\u001b[0;34m\u001b[0m\u001b[0m\n\u001b[0;32m----> 4\u001b[0;31m     \u001b[0ma\u001b[0m \u001b[0;34m+=\u001b[0m \u001b[0;36m1\u001b[0m\u001b[0;34m\u001b[0m\u001b[0;34m\u001b[0m\u001b[0m\n\u001b[0m",
      "\u001b[0;31mUnboundLocalError\u001b[0m: local variable 'a' referenced before assignment"
     ]
    }
   ],
   "source": [
    "func()"
   ]
  },
  {
   "cell_type": "code",
   "execution_count": 371,
   "metadata": {},
   "outputs": [
    {
     "name": "stdout",
     "output_type": "stream",
     "text": [
      "1\n"
     ]
    }
   ],
   "source": [
    "print(a)"
   ]
  },
  {
   "cell_type": "code",
   "execution_count": null,
   "metadata": {},
   "outputs": [],
   "source": []
  },
  {
   "cell_type": "markdown",
   "metadata": {},
   "source": [
    "## <font color = 'skyblue'> 7. 변수와 객체 그리고 클래스 Intro </font>\n",
    "-------------------------\n",
    "1) 파이썬에서 모든 것은 객체로 이루어져 있다. \n",
    "\n",
    "2) 변수의 의미\n",
    "\n",
    "3) 얕은 복사, 깊은복사\n",
    "- id()\n",
    "\n",
    "4) 클래스문법\n",
    "- 클래스 선언\n",
    "- 클래스 사용\n",
    "- 클래스의 상태와 동작은 속성과 메소드\n",
    "    - self\n",
    "- 생성자 `__init__`\n",
    "- 멤버변수와 인스턴스 변수\n",
    "- 상속\n",
    "    - 메소드 재정의\n",
    "    - 메소드 오버라이드\n",
    "    - 부모클래스 호출: super()\n"
   ]
  },
  {
   "cell_type": "markdown",
   "metadata": {},
   "source": [
    "### 파이썬에서는 모든것이 객체다. \n",
    "\n"
   ]
  },
  {
   "cell_type": "markdown",
   "metadata": {},
   "source": [
    "\"Everything in Python is an object, and almost everything has attributes and methods\"\n",
    "\n",
    "- 파이썬에서 모든것은 객체(Object)이다. 그리고 대부분의 객체는 속성(attributes)과 메소드(methods)를 갖는다. 라는 말은 파이썬에서 매우 중요한 말입니다. \n",
    "\n",
    "- 이 말은...파이썬에서는 부울, 정수, 실수, 문자열, list, dictionary, 함수, 모듈, 프로그램...등 모든 것이 객체로 이루어져 있다는 뜻입니다. \n",
    "\n",
    "아래 링크에 전체 내용이 나와있으니 한번 읽어 보세요. \n",
    "https://linux.die.net/diveintopython/html/getting_to_know_python/everything_is_an_object.html"
   ]
  },
  {
   "cell_type": "code",
   "execution_count": null,
   "metadata": {},
   "outputs": [],
   "source": []
  },
  {
   "cell_type": "markdown",
   "metadata": {},
   "source": [
    "### 변수, 객체 참조"
   ]
  },
  {
   "cell_type": "markdown",
   "metadata": {},
   "source": [
    "변수란 객체의 이름일 뿐이다. 즉, 객체를 참조하는 것이다."
   ]
  },
  {
   "cell_type": "code",
   "execution_count": null,
   "metadata": {},
   "outputs": [],
   "source": []
  },
  {
   "cell_type": "code",
   "execution_count": null,
   "metadata": {},
   "outputs": [],
   "source": []
  },
  {
   "cell_type": "code",
   "execution_count": null,
   "metadata": {},
   "outputs": [],
   "source": []
  },
  {
   "cell_type": "markdown",
   "metadata": {},
   "source": [
    "### 얕은복사, 깊은 복사"
   ]
  },
  {
   "cell_type": "markdown",
   "metadata": {},
   "source": [
    "<img src='./fig/img2.jpg'>"
   ]
  },
  {
   "cell_type": "code",
   "execution_count": null,
   "metadata": {},
   "outputs": [],
   "source": []
  },
  {
   "cell_type": "markdown",
   "metadata": {},
   "source": [
    "<img src='./fig/img3.jpg'>"
   ]
  },
  {
   "cell_type": "code",
   "execution_count": null,
   "metadata": {},
   "outputs": [],
   "source": []
  },
  {
   "cell_type": "markdown",
   "metadata": {},
   "source": [
    "## <font color = 'skyblue'> 8. 클래스와 객체지향 프로그래밍 </font>\n",
    "--------------------------\n",
    "#### <클래스 문법>\n",
    "\n",
    "1) 클래스 선언\n",
    "\n",
    "2) 클래스 사용\n",
    "\n",
    "3) 클래스의 상태와 동작은 속성과 메소드\n",
    "- self\n",
    "\n",
    "4) 생성자 `__init__`\n",
    "\n",
    "5) 멤버변수와 인스턴스 변수\n",
    "\n",
    "6) 상속\n",
    "\n",
    "- 메소드 재정의\n",
    "- 메소드 오버라이드\n",
    "- 부모클래스 호출: super()\n",
    "\n",
    "\n",
    "#### <객체를 사용하는 이유>\n"
   ]
  },
  {
   "cell_type": "code",
   "execution_count": null,
   "metadata": {},
   "outputs": [],
   "source": []
  },
  {
   "cell_type": "code",
   "execution_count": null,
   "metadata": {},
   "outputs": [],
   "source": []
  },
  {
   "cell_type": "code",
   "execution_count": null,
   "metadata": {},
   "outputs": [],
   "source": []
  },
  {
   "cell_type": "code",
   "execution_count": null,
   "metadata": {},
   "outputs": [],
   "source": []
  },
  {
   "cell_type": "code",
   "execution_count": null,
   "metadata": {},
   "outputs": [],
   "source": []
  },
  {
   "cell_type": "code",
   "execution_count": null,
   "metadata": {},
   "outputs": [],
   "source": []
  },
  {
   "cell_type": "code",
   "execution_count": null,
   "metadata": {},
   "outputs": [],
   "source": []
  },
  {
   "cell_type": "code",
   "execution_count": null,
   "metadata": {},
   "outputs": [],
   "source": []
  },
  {
   "cell_type": "code",
   "execution_count": null,
   "metadata": {},
   "outputs": [],
   "source": []
  },
  {
   "cell_type": "code",
   "execution_count": null,
   "metadata": {},
   "outputs": [],
   "source": []
  },
  {
   "cell_type": "markdown",
   "metadata": {},
   "source": [
    "## <font color = 'skyblue'> (collections) </font>\n",
    "\n",
    "https://docs.python.org/3.7/library/collections.html"
   ]
  },
  {
   "cell_type": "markdown",
   "metadata": {},
   "source": [
    "\n",
    "## <font color = 'skyblue'> 9. 중간 점검 </font>\n",
    "\n",
    "------------------\n",
    "1) 예외처리와 조건문, 딕셔너리 응용문제 \n",
    "\n",
    "2) 클래스를 이용한 데이터 처리  응용문제"
   ]
  },
  {
   "cell_type": "markdown",
   "metadata": {},
   "source": [
    "## <font color = 'skyblue'> 10. 파일과 경로 </font>\n",
    "\n",
    "-------------------------------\n",
    "1) 파일 다루기 - csv파일\n",
    "\n",
    "2) path 관련 함수\n",
    "\n",
    "3) os, sys 관련 함수"
   ]
  },
  {
   "cell_type": "code",
   "execution_count": null,
   "metadata": {},
   "outputs": [],
   "source": []
  },
  {
   "cell_type": "code",
   "execution_count": null,
   "metadata": {},
   "outputs": [],
   "source": []
  },
  {
   "cell_type": "code",
   "execution_count": null,
   "metadata": {},
   "outputs": [],
   "source": []
  },
  {
   "cell_type": "code",
   "execution_count": null,
   "metadata": {},
   "outputs": [],
   "source": []
  },
  {
   "cell_type": "code",
   "execution_count": null,
   "metadata": {},
   "outputs": [],
   "source": []
  },
  {
   "cell_type": "code",
   "execution_count": null,
   "metadata": {},
   "outputs": [],
   "source": []
  },
  {
   "cell_type": "code",
   "execution_count": null,
   "metadata": {},
   "outputs": [],
   "source": []
  },
  {
   "cell_type": "code",
   "execution_count": null,
   "metadata": {},
   "outputs": [],
   "source": []
  },
  {
   "cell_type": "markdown",
   "metadata": {},
   "source": [
    "## <font color = 'skyblue'> 11. NumPy </font>\n",
    "------------------------\n",
    "1) array 만들기\n",
    "\n",
    "- arrange()\n",
    "- array([])\n",
    "\n",
    "2) 크기 (size, shape, dim)\n",
    "\n",
    "- np.size\n",
    "- np.shape\n",
    "- np.dim\n",
    "\n",
    "3) type\n",
    "\n",
    "- a.dtype\n",
    "- type(a)\n",
    "\n",
    "4) 빈번한 에러\n",
    "\n",
    "5)  특수 행렬 : 0행렬, 1행렬, 단위 행렬\n",
    "\n",
    "- np.zeros([])\n",
    "- np.ones([])\n",
    "- np.eye()\n",
    "\n",
    "6) random\n",
    "\n",
    "- np.random.randint\n",
    "- np.random.choice\n",
    "- np.random.permutation\n",
    "\n",
    "7) reshape, flatten\n",
    "\n",
    "- np.reshape()\n",
    "- np.flatten()\n",
    "\n",
    "8) slicing\n",
    "\n",
    "9) 주요 연산\n",
    "\n",
    "- 행렬연산과 브로드 캐스팅\n",
    "- np.dot()\n",
    "- np.transpose()\n",
    "- np.sum()\n",
    "- np.sqrt()"
   ]
  },
  {
   "cell_type": "markdown",
   "metadata": {},
   "source": [
    "## <font color = 'skyblue'> 12. Pandas </font>\n",
    "-------------------------\n",
    "1) series와 dataframe\n",
    "\n",
    "2) 파일 읽기와 저장\n",
    "\n",
    "3) EDA 연습!"
   ]
  },
  {
   "cell_type": "code",
   "execution_count": null,
   "metadata": {},
   "outputs": [],
   "source": []
  },
  {
   "cell_type": "code",
   "execution_count": null,
   "metadata": {},
   "outputs": [],
   "source": []
  },
  {
   "cell_type": "code",
   "execution_count": null,
   "metadata": {},
   "outputs": [],
   "source": []
  },
  {
   "cell_type": "code",
   "execution_count": null,
   "metadata": {},
   "outputs": [],
   "source": []
  },
  {
   "cell_type": "code",
   "execution_count": null,
   "metadata": {},
   "outputs": [],
   "source": []
  },
  {
   "cell_type": "code",
   "execution_count": null,
   "metadata": {},
   "outputs": [],
   "source": []
  },
  {
   "cell_type": "code",
   "execution_count": null,
   "metadata": {},
   "outputs": [],
   "source": []
  },
  {
   "cell_type": "markdown",
   "metadata": {},
   "source": [
    "## <font color = 'skyblue'> 13. 마무리 </font>\n",
    "------------------------"
   ]
  },
  {
   "cell_type": "code",
   "execution_count": null,
   "metadata": {},
   "outputs": [],
   "source": []
  }
 ],
 "metadata": {
  "kernelspec": {
   "display_name": "Python 3.7.4 64-bit",
   "language": "python",
   "name": "python37464bit2ca5af9ea4dd4c818af2de9ba3f7b37b"
  },
  "language_info": {
   "codemirror_mode": {
    "name": "ipython",
    "version": 3
   },
   "file_extension": ".py",
   "mimetype": "text/x-python",
   "name": "python",
   "nbconvert_exporter": "python",
   "pygments_lexer": "ipython3",
   "version": "3.8.2"
  }
 },
 "nbformat": 4,
 "nbformat_minor": 2
}
