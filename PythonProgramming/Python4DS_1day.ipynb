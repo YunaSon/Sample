{
 "cells": [
  {
   "cell_type": "markdown",
   "metadata": {},
   "source": [
    "# 파이썬 강의\n",
    "--------------------\n",
    "--------------------\n",
    "\n",
    " - 일정: 6월8일 ~ 9일\n",
    " - 시간: 10시 - 18시 \n"
   ]
  },
  {
   "cell_type": "markdown",
   "metadata": {},
   "source": [
    "# 강의 실습 환경\n",
    "-------------------------------\n",
    "-------------------------------\n",
    "- Anaconda Python 3.7 Jupyter Notebook\n",
    "\n",
    "- https://www.anaconda.com/products/individual#download-section\n"
   ]
  },
  {
   "cell_type": "markdown",
   "metadata": {},
   "source": [
    "# 목차\n",
    "\n",
    "-------------------------------\n",
    "-------------------------------\n",
    "## Day1 (6/8)\n",
    "\n",
    "1. Python Introduction \n",
    "\n",
    "2. Jupyter Notebook 명령어, 설치\n",
    "\n",
    "3. 변수와 자료형 (feat 메모리)\n",
    "      \n",
    "4. 파일과 파일처리 (feat 하드디스크)\n",
    "\n",
    "5. 코드구조\n",
    "\n",
    "6. 함수      \n",
    "                      \n",
    "7. 변수와 객체 그리고 클래스 Intro \n",
    "\n",
    "-------------------------------\n",
    "## Day2 (6/9)\n",
    "\n",
    "8. 클래스와 객체 지향 프로그래밍\n",
    "\n",
    "    (collections)\n",
    "\n",
    "9. 중간점검\n",
    "\n",
    "10. 파일과 폴더\n",
    "\n",
    "11. NumPy\n",
    "\n",
    "12. Pandas\n",
    "\n",
    "13. 마무리"
   ]
  },
  {
   "cell_type": "markdown",
   "metadata": {},
   "source": [
    "# 상세 목차\n",
    "\n",
    "--------------------------\n",
    "--------------------------"
   ]
  },
  {
   "cell_type": "markdown",
   "metadata": {},
   "source": [
    "## <font color = 'blue'> 1. Python Introduction </font> \n",
    "---------------------\n",
    "\n",
    "https://github.com/YunaSon/Sample/blob/master/PythonProgramming/Python_Introduction.pdf"
   ]
  },
  {
   "cell_type": "markdown",
   "metadata": {},
   "source": [
    "## <font color = 'blue'> 2. Jupyter Notebook 명령어 </font>\n",
    "--------------------------\n",
    "\n",
    "- 쉘\n",
    "    - 편집모드    \n",
    "    - 실행모드\n",
    "\n",
    "- 명령모드(esc, 파란색)\n",
    "    - a (쉘위에 신규 쉘 생성)\n",
    "    - b (쉘 아래에 신규 쉘 생성)\n",
    "    - dd (쉘 삭제)\n",
    "\n",
    "- 편집모드(enter, 녹색)\n",
    "    - 코드: esc + y\n",
    "    - 코드(라인): esc + l \n",
    "    - 마크다운(md): esc + m\n",
    " \n",
    "- 실행: Shift + enter"
   ]
  },
  {
   "cell_type": "markdown",
   "metadata": {},
   "source": [
    "## <font color = 'blue'> 3. 변수와 자료형 (feat 메모리) </font>\n",
    "----------------------\n",
    "\n",
    "1) 파이썬 변수 할당\n",
    "\n",
    "- =(할당 연산자)\n",
    "- 변수명, 값\n",
    "- 메모리 이용, 동적 타이핑, 리터럴이라는 용어\n",
    "\n",
    "2) 자료형\n",
    "- Number: int, float\n",
    "- Boolean\n",
    "- String\n",
    "- list, dict, tuple, set\n",
    "    - collection, container, 자료구조 라는 용어로 엄밀히 한다. \n",
    "- list, tuple, string은 sequential한 자료라고 하기도 한다. \n",
    "\n",
    "3) (산술) 연산자\n",
    "\n",
    "4) 슬라이싱, 인덱싱, (대괄호 연산자)\n",
    "\n",
    "5) 자료형 관련 메소드\n",
    "\n",
    "6) 파이썬 내장 함수\n",
    "\n",
    "https://docs.python.org/3/library/functions.html\n",
    "\n",
    "    - type()\n",
    "    - len()\n",
    "    - 형변환 함수: int(), float(), str(), list(), dict(), set(), tuple()\n",
    "    - min(), max(), sum(), pow()"
   ]
  },
  {
   "cell_type": "markdown",
   "metadata": {},
   "source": [
    "### 변수 할당\n",
    "\n",
    "- 할당연산자 = \n",
    "- 변수이름, 할당연산자 =을 사용해 값을 대입한다. \n",
    "- 할당의 의미!"
   ]
  },
  {
   "cell_type": "code",
   "execution_count": 425,
   "metadata": {},
   "outputs": [],
   "source": [
    "a = \"3\" "
   ]
  },
  {
   "cell_type": "code",
   "execution_count": 426,
   "metadata": {},
   "outputs": [
    {
     "data": {
      "text/plain": [
       "str"
      ]
     },
     "execution_count": 426,
     "metadata": {},
     "output_type": "execute_result"
    }
   ],
   "source": [
    "type(a)"
   ]
  },
  {
   "cell_type": "code",
   "execution_count": 427,
   "metadata": {},
   "outputs": [],
   "source": [
    "b = 3"
   ]
  },
  {
   "cell_type": "code",
   "execution_count": 428,
   "metadata": {},
   "outputs": [
    {
     "data": {
      "text/plain": [
       "int"
      ]
     },
     "execution_count": 428,
     "metadata": {},
     "output_type": "execute_result"
    }
   ],
   "source": [
    "type(b)"
   ]
  },
  {
   "cell_type": "code",
   "execution_count": 429,
   "metadata": {},
   "outputs": [
    {
     "name": "stdout",
     "output_type": "stream",
     "text": [
      "100\n"
     ]
    }
   ],
   "source": [
    "c = 3\n",
    "c = 10\n",
    "c = 100\n",
    "print(c)"
   ]
  },
  {
   "cell_type": "code",
   "execution_count": null,
   "metadata": {},
   "outputs": [],
   "source": []
  },
  {
   "cell_type": "markdown",
   "metadata": {},
   "source": [
    "### Number\n",
    "\n",
    "- 리터럴(literal)"
   ]
  },
  {
   "cell_type": "code",
   "execution_count": 433,
   "metadata": {},
   "outputs": [],
   "source": [
    "nums1 = 30"
   ]
  },
  {
   "cell_type": "code",
   "execution_count": 434,
   "metadata": {},
   "outputs": [],
   "source": [
    "nums2 = 30."
   ]
  },
  {
   "cell_type": "code",
   "execution_count": 435,
   "metadata": {},
   "outputs": [
    {
     "data": {
      "text/plain": [
       "int"
      ]
     },
     "execution_count": 435,
     "metadata": {},
     "output_type": "execute_result"
    }
   ],
   "source": [
    "type(nums1)"
   ]
  },
  {
   "cell_type": "code",
   "execution_count": 436,
   "metadata": {},
   "outputs": [
    {
     "data": {
      "text/plain": [
       "float"
      ]
     },
     "execution_count": 436,
     "metadata": {},
     "output_type": "execute_result"
    }
   ],
   "source": [
    "type(nums2)"
   ]
  },
  {
   "cell_type": "markdown",
   "metadata": {},
   "source": [
    "### 산술 연산자\n",
    "\n",
    "+, -, *, / , // , %, **"
   ]
  },
  {
   "cell_type": "code",
   "execution_count": 440,
   "metadata": {},
   "outputs": [],
   "source": [
    "n1 = 10\n",
    "n2 = 3"
   ]
  },
  {
   "cell_type": "code",
   "execution_count": 441,
   "metadata": {},
   "outputs": [
    {
     "data": {
      "text/plain": [
       "13"
      ]
     },
     "execution_count": 441,
     "metadata": {},
     "output_type": "execute_result"
    }
   ],
   "source": [
    "n1 + n2"
   ]
  },
  {
   "cell_type": "code",
   "execution_count": 442,
   "metadata": {},
   "outputs": [
    {
     "data": {
      "text/plain": [
       "7"
      ]
     },
     "execution_count": 442,
     "metadata": {},
     "output_type": "execute_result"
    }
   ],
   "source": [
    "n1 - n2"
   ]
  },
  {
   "cell_type": "code",
   "execution_count": 443,
   "metadata": {},
   "outputs": [
    {
     "data": {
      "text/plain": [
       "30"
      ]
     },
     "execution_count": 443,
     "metadata": {},
     "output_type": "execute_result"
    }
   ],
   "source": [
    "n1 * n2 "
   ]
  },
  {
   "cell_type": "code",
   "execution_count": 444,
   "metadata": {},
   "outputs": [
    {
     "data": {
      "text/plain": [
       "3.3333333333333335"
      ]
     },
     "execution_count": 444,
     "metadata": {},
     "output_type": "execute_result"
    }
   ],
   "source": [
    "n1 / n2"
   ]
  },
  {
   "cell_type": "code",
   "execution_count": 445,
   "metadata": {},
   "outputs": [
    {
     "data": {
      "text/plain": [
       "1"
      ]
     },
     "execution_count": 445,
     "metadata": {},
     "output_type": "execute_result"
    }
   ],
   "source": [
    "n1 % n2"
   ]
  },
  {
   "cell_type": "code",
   "execution_count": 446,
   "metadata": {},
   "outputs": [
    {
     "data": {
      "text/plain": [
       "3"
      ]
     },
     "execution_count": 446,
     "metadata": {},
     "output_type": "execute_result"
    }
   ],
   "source": [
    "n1 // n2"
   ]
  },
  {
   "cell_type": "markdown",
   "metadata": {},
   "source": [
    "### String\n",
    "\n",
    "- .join()\n",
    "- .split()\n",
    "- .upper(): 대문자로 변환하는 함수.\n",
    "- .lower(): 소문자로 변환하는 함수.\n",
    "- .replace('바꿀 문자열', '바뀔문자열'): 문자열 치환.\n",
    "- .strip(): 공백제거하는 함수.\n",
    "- .find('문자열'): 특정 문자열의 위치를 찾는 함수. "
   ]
  },
  {
   "cell_type": "code",
   "execution_count": 415,
   "metadata": {},
   "outputs": [],
   "source": [
    "myword = 'abcdef'"
   ]
  },
  {
   "cell_type": "code",
   "execution_count": 422,
   "metadata": {},
   "outputs": [
    {
     "data": {
      "text/plain": [
       "'ABCDEF'"
      ]
     },
     "execution_count": 422,
     "metadata": {},
     "output_type": "execute_result"
    }
   ],
   "source": [
    "myword.upper()"
   ]
  },
  {
   "cell_type": "code",
   "execution_count": 417,
   "metadata": {},
   "outputs": [
    {
     "data": {
      "text/plain": [
       "'abcdef'"
      ]
     },
     "execution_count": 417,
     "metadata": {},
     "output_type": "execute_result"
    }
   ],
   "source": [
    "myword.upper().lower()"
   ]
  },
  {
   "cell_type": "code",
   "execution_count": 418,
   "metadata": {},
   "outputs": [
    {
     "data": {
      "text/plain": [
       "'zbcdef'"
      ]
     },
     "execution_count": 418,
     "metadata": {},
     "output_type": "execute_result"
    }
   ],
   "source": [
    "myword.replace('a','z')"
   ]
  },
  {
   "cell_type": "code",
   "execution_count": 419,
   "metadata": {},
   "outputs": [],
   "source": [
    "myword2 = '   I love python'"
   ]
  },
  {
   "cell_type": "code",
   "execution_count": 420,
   "metadata": {},
   "outputs": [
    {
     "data": {
      "text/plain": [
       "'I love python'"
      ]
     },
     "execution_count": 420,
     "metadata": {},
     "output_type": "execute_result"
    }
   ],
   "source": [
    "myword2.strip()"
   ]
  },
  {
   "cell_type": "code",
   "execution_count": 423,
   "metadata": {},
   "outputs": [
    {
     "data": {
      "text/plain": [
       "'good morning'"
      ]
     },
     "execution_count": 423,
     "metadata": {},
     "output_type": "execute_result"
    }
   ],
   "source": [
    "'           good morning         '.strip()"
   ]
  },
  {
   "cell_type": "code",
   "execution_count": 421,
   "metadata": {},
   "outputs": [
    {
     "data": {
      "text/plain": [
       "6"
      ]
     },
     "execution_count": 421,
     "metadata": {},
     "output_type": "execute_result"
    }
   ],
   "source": [
    "#find 메소드: 찾는 문자열의 첫번째 index를 반환한다.  \n",
    "myword2.find('o')"
   ]
  },
  {
   "cell_type": "markdown",
   "metadata": {},
   "source": [
    "### 산술 연산자 (string)\n",
    "\n",
    "- +, *(정수곱)"
   ]
  },
  {
   "cell_type": "code",
   "execution_count": 447,
   "metadata": {},
   "outputs": [],
   "source": [
    "mystr = 'HaHa'"
   ]
  },
  {
   "cell_type": "code",
   "execution_count": 448,
   "metadata": {},
   "outputs": [
    {
     "data": {
      "text/plain": [
       "'HaHaHaHa'"
      ]
     },
     "execution_count": 448,
     "metadata": {},
     "output_type": "execute_result"
    }
   ],
   "source": [
    "mystr + mystr"
   ]
  },
  {
   "cell_type": "code",
   "execution_count": 449,
   "metadata": {},
   "outputs": [
    {
     "data": {
      "text/plain": [
       "'HaHa HaHa'"
      ]
     },
     "execution_count": 449,
     "metadata": {},
     "output_type": "execute_result"
    }
   ],
   "source": [
    "mystr + \" \" + mystr"
   ]
  },
  {
   "cell_type": "code",
   "execution_count": 450,
   "metadata": {},
   "outputs": [
    {
     "data": {
      "text/plain": [
       "'HaHaHaHaHaHa'"
      ]
     },
     "execution_count": 450,
     "metadata": {},
     "output_type": "execute_result"
    }
   ],
   "source": [
    "mystr * 3"
   ]
  },
  {
   "cell_type": "markdown",
   "metadata": {},
   "source": [
    "### [ ] 슬라이스, 인덱싱\n",
    "\n",
    "- 문자열, 리스트, 튜플\n",
    "- []\n",
    "- 특정 위치의 데이터를 선택하는 방법\n",
    "- [index]: 특정 위치 하나의 데이터를 선택\n",
    "- [start:end]: 시작과 끝 구간의 데이터를 선택\n",
    "- [start:end:stride]: 시작과 끝을 범위로 구간별로 선택"
   ]
  },
  {
   "cell_type": "code",
   "execution_count": 460,
   "metadata": {},
   "outputs": [],
   "source": [
    "a = 'i love python'"
   ]
  },
  {
   "cell_type": "code",
   "execution_count": 461,
   "metadata": {},
   "outputs": [
    {
     "data": {
      "text/plain": [
       "13"
      ]
     },
     "execution_count": 461,
     "metadata": {},
     "output_type": "execute_result"
    }
   ],
   "source": [
    "len(a)"
   ]
  },
  {
   "cell_type": "code",
   "execution_count": 462,
   "metadata": {},
   "outputs": [
    {
     "data": {
      "text/plain": [
       "'i'"
      ]
     },
     "execution_count": 462,
     "metadata": {},
     "output_type": "execute_result"
    }
   ],
   "source": [
    "a[0]"
   ]
  },
  {
   "cell_type": "code",
   "execution_count": 463,
   "metadata": {},
   "outputs": [
    {
     "data": {
      "text/plain": [
       "'n'"
      ]
     },
     "execution_count": 463,
     "metadata": {},
     "output_type": "execute_result"
    }
   ],
   "source": [
    "a[-1]"
   ]
  },
  {
   "cell_type": "code",
   "execution_count": 464,
   "metadata": {},
   "outputs": [
    {
     "data": {
      "text/plain": [
       "'ilv yhn'"
      ]
     },
     "execution_count": 464,
     "metadata": {},
     "output_type": "execute_result"
    }
   ],
   "source": [
    "a[::2]"
   ]
  },
  {
   "cell_type": "code",
   "execution_count": 465,
   "metadata": {},
   "outputs": [
    {
     "data": {
      "text/plain": [
       "'nohtyp evol i'"
      ]
     },
     "execution_count": 465,
     "metadata": {},
     "output_type": "execute_result"
    }
   ],
   "source": [
    "a[::-1]"
   ]
  },
  {
   "cell_type": "code",
   "execution_count": 466,
   "metadata": {},
   "outputs": [
    {
     "data": {
      "text/plain": [
       "'love'"
      ]
     },
     "execution_count": 466,
     "metadata": {},
     "output_type": "execute_result"
    }
   ],
   "source": [
    "a[2:6]"
   ]
  },
  {
   "cell_type": "markdown",
   "metadata": {},
   "source": [
    "### <font color=orange> Q1. 0~9까지의 문자열 데이터를 짝수만 거꾸로 출력하는 코드 작성하기. </font>\n",
    "\n",
    "\n",
    "입출력 예시\n",
    "\n",
    "`\n",
    "input_data = '0123456789'\n",
    "print(output_data)\n",
    "8642\n",
    "`"
   ]
  },
  {
   "cell_type": "code",
   "execution_count": 5,
   "metadata": {},
   "outputs": [
    {
     "name": "stdout",
     "output_type": "stream",
     "text": [
      "86420\n"
     ]
    }
   ],
   "source": [
    "# A1. code your answer\n",
    "\n",
    "input_data = '0123456789'\n",
    "output_data = input_data[::2]\n",
    "print(output_data[::-1])"
   ]
  },
  {
   "cell_type": "markdown",
   "metadata": {},
   "source": [
    "### <font color=orange> Q2. 다음 문장의 단어 앞글자만 대문자로 바꾸세요. \n",
    "\n",
    "입출력 예시\n",
    "\n",
    "`\n",
    "input_data = 'hello world'\n",
    "print(output_data)\n",
    "Hello World\n",
    "`"
   ]
  },
  {
   "cell_type": "code",
   "execution_count": 12,
   "metadata": {},
   "outputs": [
    {
     "name": "stdout",
     "output_type": "stream",
     "text": [
      "Hello World\n"
     ]
    }
   ],
   "source": [
    "# A2. code our answer\n",
    "## 힌트: .upper(), +, 슬라이스 연산\n",
    "\n",
    "input_data = 'hello world'\n",
    "W1 = input_data[:5] #hello\n",
    "W2 = input_data[6:] #world\n",
    "\n",
    "output_data = W1[0].upper() + W1[1:] + \" \" + W2[0].upper() + W2[1:]\n",
    "\n",
    "print(output_data)"
   ]
  },
  {
   "cell_type": "code",
   "execution_count": null,
   "metadata": {},
   "outputs": [],
   "source": []
  },
  {
   "cell_type": "markdown",
   "metadata": {},
   "source": [
    "### tuple \n",
    "\n",
    "- 불변\n",
    "- Sequential"
   ]
  },
  {
   "cell_type": "code",
   "execution_count": 470,
   "metadata": {},
   "outputs": [],
   "source": [
    "mytuple = (1, 2, 3)"
   ]
  },
  {
   "cell_type": "code",
   "execution_count": 471,
   "metadata": {},
   "outputs": [
    {
     "data": {
      "text/plain": [
       "1"
      ]
     },
     "execution_count": 471,
     "metadata": {},
     "output_type": "execute_result"
    }
   ],
   "source": [
    "mytuple[0]"
   ]
  },
  {
   "cell_type": "code",
   "execution_count": 472,
   "metadata": {},
   "outputs": [
    {
     "data": {
      "text/plain": [
       "3"
      ]
     },
     "execution_count": 472,
     "metadata": {},
     "output_type": "execute_result"
    }
   ],
   "source": [
    "mytuple[-1]"
   ]
  },
  {
   "cell_type": "code",
   "execution_count": 474,
   "metadata": {},
   "outputs": [
    {
     "ename": "TypeError",
     "evalue": "'tuple' object does not support item assignment",
     "output_type": "error",
     "traceback": [
      "\u001b[0;31m---------------------------------------------------------------------------\u001b[0m",
      "\u001b[0;31mTypeError\u001b[0m                                 Traceback (most recent call last)",
      "\u001b[0;32m<ipython-input-474-147356906720>\u001b[0m in \u001b[0;36m<module>\u001b[0;34m\u001b[0m\n\u001b[1;32m      1\u001b[0m \u001b[0;31m# 불변(immutable): 튜플의 원소 값은 바꿀 수 없다. , 에러 발생\u001b[0m\u001b[0;34m\u001b[0m\u001b[0;34m\u001b[0m\u001b[0;34m\u001b[0m\u001b[0m\n\u001b[1;32m      2\u001b[0m \u001b[0;34m\u001b[0m\u001b[0m\n\u001b[0;32m----> 3\u001b[0;31m \u001b[0mmytuple\u001b[0m\u001b[0;34m[\u001b[0m\u001b[0;36m0\u001b[0m\u001b[0;34m]\u001b[0m \u001b[0;34m=\u001b[0m \u001b[0;36m3\u001b[0m\u001b[0;34m\u001b[0m\u001b[0;34m\u001b[0m\u001b[0m\n\u001b[0m",
      "\u001b[0;31mTypeError\u001b[0m: 'tuple' object does not support item assignment"
     ]
    }
   ],
   "source": [
    "# 불변(immutable): 튜플의 원소 값은 바꿀 수 없다. , 에러 발생\n",
    "\n",
    "mytuple[0] = 3"
   ]
  },
  {
   "cell_type": "markdown",
   "metadata": {},
   "source": [
    "### unpacking / packing\n",
    "\n",
    "Packing: 파이썬에서는 기본적으로 tuple형태로 패킹 된다. \n",
    "\n",
    "• 패킹(packing): 한 변수에 여러 개의 데이터를 할당하는 것.\n",
    "\n",
    "• 언패킹(unpacking): 한 변수의 데이터를 각각의 변수로 반환하는 것.\n"
   ]
  },
  {
   "cell_type": "code",
   "execution_count": 403,
   "metadata": {},
   "outputs": [],
   "source": [
    "a = 1,2,3"
   ]
  },
  {
   "cell_type": "code",
   "execution_count": 404,
   "metadata": {},
   "outputs": [
    {
     "data": {
      "text/plain": [
       "(1, 2, 3)"
      ]
     },
     "execution_count": 404,
     "metadata": {},
     "output_type": "execute_result"
    }
   ],
   "source": [
    "a "
   ]
  },
  {
   "cell_type": "code",
   "execution_count": 405,
   "metadata": {},
   "outputs": [],
   "source": [
    "a, b = 1, 2"
   ]
  },
  {
   "cell_type": "code",
   "execution_count": 406,
   "metadata": {},
   "outputs": [
    {
     "name": "stdout",
     "output_type": "stream",
     "text": [
      "1\n",
      "2\n"
     ]
    }
   ],
   "source": [
    "print(a)\n",
    "print(b)"
   ]
  },
  {
   "cell_type": "code",
   "execution_count": 414,
   "metadata": {},
   "outputs": [
    {
     "ename": "ValueError",
     "evalue": "too many values to unpack (expected 2)",
     "output_type": "error",
     "traceback": [
      "\u001b[0;31m---------------------------------------------------------------------------\u001b[0m",
      "\u001b[0;31mValueError\u001b[0m                                Traceback (most recent call last)",
      "\u001b[0;32m<ipython-input-414-6cb259d43fcb>\u001b[0m in \u001b[0;36m<module>\u001b[0;34m\u001b[0m\n\u001b[1;32m      1\u001b[0m \u001b[0;31m# 변수와 데이터가 갯수가 맞지 않으면 에러가 발생한다.\u001b[0m\u001b[0;34m\u001b[0m\u001b[0;34m\u001b[0m\u001b[0;34m\u001b[0m\u001b[0m\n\u001b[0;32m----> 2\u001b[0;31m \u001b[0ma\u001b[0m\u001b[0;34m,\u001b[0m \u001b[0mb\u001b[0m \u001b[0;34m=\u001b[0m \u001b[0;36m1\u001b[0m\u001b[0;34m,\u001b[0m \u001b[0;36m2\u001b[0m\u001b[0;34m,\u001b[0m \u001b[0;36m3\u001b[0m\u001b[0;34m\u001b[0m\u001b[0;34m\u001b[0m\u001b[0m\n\u001b[0m",
      "\u001b[0;31mValueError\u001b[0m: too many values to unpack (expected 2)"
     ]
    }
   ],
   "source": [
    "# 변수와 데이터가 갯수가 맞지 않으면 에러가 발생한다. \n",
    "a, b = 1, 2, 3"
   ]
  },
  {
   "cell_type": "code",
   "execution_count": 412,
   "metadata": {},
   "outputs": [],
   "source": [
    "# *, 애스터리스크를 사용한다.\n",
    "a, *b = 1, 2, 3"
   ]
  },
  {
   "cell_type": "code",
   "execution_count": 413,
   "metadata": {},
   "outputs": [
    {
     "name": "stdout",
     "output_type": "stream",
     "text": [
      "1\n",
      "[2, 3]\n"
     ]
    }
   ],
   "source": [
    "print(a)\n",
    "print(b)"
   ]
  },
  {
   "cell_type": "code",
   "execution_count": null,
   "metadata": {},
   "outputs": [],
   "source": []
  },
  {
   "cell_type": "markdown",
   "metadata": {},
   "source": [
    "### list\n",
    "\n",
    "- 리스트: 시퀀셜한 배열 (순서가있고, 집합)\n",
    "- 리스트는 인덱싱이 가능하다. \n",
    "\n",
    "- .append()\n",
    "- .extend()\n",
    "- .insert()\n",
    "- .pop()\n",
    "- .remove()\n",
    "- .sort()\n",
    "- .reverse()"
   ]
  },
  {
   "cell_type": "markdown",
   "metadata": {},
   "source": [
    "#### 요소 추가 메소드: append(), extend(), insert()"
   ]
  },
  {
   "cell_type": "code",
   "execution_count": 506,
   "metadata": {},
   "outputs": [],
   "source": [
    "color = ['red', 'white', 'yellow']"
   ]
  },
  {
   "cell_type": "code",
   "execution_count": 507,
   "metadata": {},
   "outputs": [
    {
     "data": {
      "text/plain": [
       "['red', 'white', 'yellow', 'black']"
      ]
     },
     "execution_count": 507,
     "metadata": {},
     "output_type": "execute_result"
    }
   ],
   "source": [
    "# append: 리스트의 마지막 인덱스에 원소를 추가한다. \n",
    "color.append('black')\n",
    "color"
   ]
  },
  {
   "cell_type": "code",
   "execution_count": 508,
   "metadata": {},
   "outputs": [
    {
     "data": {
      "text/plain": [
       "['red', 'white', 'yellow', 'black', 'blue']"
      ]
     },
     "execution_count": 508,
     "metadata": {},
     "output_type": "execute_result"
    }
   ],
   "source": [
    "color.append('blue')\n",
    "color"
   ]
  },
  {
   "cell_type": "code",
   "execution_count": 516,
   "metadata": {},
   "outputs": [],
   "source": [
    "# extend: 리스트를 확장. \n",
    "\n",
    "color_name = ['red', 'white', 'yellow']\n",
    "color_rgb = ['#FF0000', '#FFFFFF', '#FFFF00']"
   ]
  },
  {
   "cell_type": "code",
   "execution_count": 517,
   "metadata": {},
   "outputs": [],
   "source": [
    "color_name.extend(color_rgb)"
   ]
  },
  {
   "cell_type": "code",
   "execution_count": 518,
   "metadata": {},
   "outputs": [
    {
     "data": {
      "text/plain": [
       "['red', 'white', 'yellow', '#FF0000', '#FFFFFF', '#FFFF00']"
      ]
     },
     "execution_count": 518,
     "metadata": {},
     "output_type": "execute_result"
    }
   ],
   "source": [
    "color_name"
   ]
  },
  {
   "cell_type": "code",
   "execution_count": 519,
   "metadata": {},
   "outputs": [
    {
     "data": {
      "text/plain": [
       "6"
      ]
     },
     "execution_count": 519,
     "metadata": {},
     "output_type": "execute_result"
    }
   ],
   "source": [
    "len(color_name)"
   ]
  },
  {
   "cell_type": "code",
   "execution_count": 520,
   "metadata": {},
   "outputs": [],
   "source": [
    "# 만약 append를 사용하면?\n",
    "\n",
    "color_name = ['red', 'white', 'yellow']\n",
    "color_rgb = ['#FF0000', '#FFFFFF', '#FFFF00']"
   ]
  },
  {
   "cell_type": "code",
   "execution_count": 521,
   "metadata": {},
   "outputs": [],
   "source": [
    "color_name.append(color_rgb)"
   ]
  },
  {
   "cell_type": "code",
   "execution_count": 522,
   "metadata": {},
   "outputs": [
    {
     "data": {
      "text/plain": [
       "['red', 'white', 'yellow', ['#FF0000', '#FFFFFF', '#FFFF00']]"
      ]
     },
     "execution_count": 522,
     "metadata": {},
     "output_type": "execute_result"
    }
   ],
   "source": [
    "color_name"
   ]
  },
  {
   "cell_type": "code",
   "execution_count": 523,
   "metadata": {},
   "outputs": [
    {
     "data": {
      "text/plain": [
       "4"
      ]
     },
     "execution_count": 523,
     "metadata": {},
     "output_type": "execute_result"
    }
   ],
   "source": [
    "len(color_name)"
   ]
  },
  {
   "cell_type": "markdown",
   "metadata": {},
   "source": [
    "extend는 list를 확장하여 원소를 추가하고 append는 원소를 추가한다. "
   ]
  },
  {
   "cell_type": "code",
   "execution_count": 525,
   "metadata": {},
   "outputs": [],
   "source": [
    "# extend의 인자가 list가 아닌 경우 확인해보기!\n",
    "\n",
    "color.extend('skyblue')"
   ]
  },
  {
   "cell_type": "code",
   "execution_count": 526,
   "metadata": {},
   "outputs": [
    {
     "data": {
      "text/plain": [
       "['red', 'white', 'yellow', 'black', 'blue', 's', 'k', 'y', 'b', 'l', 'u', 'e']"
      ]
     },
     "execution_count": 526,
     "metadata": {},
     "output_type": "execute_result"
    }
   ],
   "source": [
    "color"
   ]
  },
  {
   "cell_type": "code",
   "execution_count": 528,
   "metadata": {},
   "outputs": [],
   "source": [
    "# insert: 해당 인덱스에 원소를 추가한다.  \n",
    "\n",
    "color = ['red', 'white', 'yellow']"
   ]
  },
  {
   "cell_type": "code",
   "execution_count": 529,
   "metadata": {},
   "outputs": [],
   "source": [
    "color.insert(0,'black')"
   ]
  },
  {
   "cell_type": "code",
   "execution_count": 530,
   "metadata": {},
   "outputs": [
    {
     "data": {
      "text/plain": [
       "['black', 'red', 'white', 'yellow']"
      ]
     },
     "execution_count": 530,
     "metadata": {},
     "output_type": "execute_result"
    }
   ],
   "source": [
    "color"
   ]
  },
  {
   "cell_type": "code",
   "execution_count": 531,
   "metadata": {},
   "outputs": [
    {
     "data": {
      "text/plain": [
       "['black', 'skyblue', 'red', 'white', 'yellow']"
      ]
     },
     "execution_count": 531,
     "metadata": {},
     "output_type": "execute_result"
    }
   ],
   "source": [
    "color.insert(1, 'skyblue')\n",
    "color"
   ]
  },
  {
   "cell_type": "markdown",
   "metadata": {},
   "source": [
    "append는 항상 마지막에 요소를 추가하는데 비해 insert를 사용하면 원하는 위치에 요소를 추가할 수 있다. "
   ]
  },
  {
   "cell_type": "markdown",
   "metadata": {},
   "source": [
    "#### 요소 제거 메소드: pop(), remove()"
   ]
  },
  {
   "cell_type": "code",
   "execution_count": 535,
   "metadata": {},
   "outputs": [
    {
     "data": {
      "text/plain": [
       "'yellow'"
      ]
     },
     "execution_count": 535,
     "metadata": {},
     "output_type": "execute_result"
    }
   ],
   "source": [
    "# pop()\n",
    "color = ['black', 'skyblue', 'red', 'white', 'yellow']\n",
    "color.pop()"
   ]
  },
  {
   "cell_type": "code",
   "execution_count": 536,
   "metadata": {},
   "outputs": [
    {
     "data": {
      "text/plain": [
       "['black', 'skyblue', 'red', 'white']"
      ]
     },
     "execution_count": 536,
     "metadata": {},
     "output_type": "execute_result"
    }
   ],
   "source": [
    "color"
   ]
  },
  {
   "cell_type": "markdown",
   "metadata": {},
   "source": [
    "pop은 기본적으로 리스트 마지막 인덱스의 요소를 제거한다. "
   ]
  },
  {
   "cell_type": "code",
   "execution_count": 537,
   "metadata": {},
   "outputs": [
    {
     "data": {
      "text/plain": [
       "'skyblue'"
      ]
     },
     "execution_count": 537,
     "metadata": {},
     "output_type": "execute_result"
    }
   ],
   "source": [
    "color.pop(1)"
   ]
  },
  {
   "cell_type": "code",
   "execution_count": 538,
   "metadata": {},
   "outputs": [
    {
     "data": {
      "text/plain": [
       "['black', 'red', 'white']"
      ]
     },
     "execution_count": 538,
     "metadata": {},
     "output_type": "execute_result"
    }
   ],
   "source": [
    "color"
   ]
  },
  {
   "cell_type": "markdown",
   "metadata": {},
   "source": [
    "pop은 인자에 인덱스를 추가해 해당 인덱스의 요소를 제거할 수 있다. "
   ]
  },
  {
   "cell_type": "code",
   "execution_count": 539,
   "metadata": {},
   "outputs": [],
   "source": [
    "# remove()\n",
    "color = ['black', 'skyblue', 'red', 'white', 'yellow']\n",
    "color.remove('red')"
   ]
  },
  {
   "cell_type": "code",
   "execution_count": 540,
   "metadata": {},
   "outputs": [
    {
     "data": {
      "text/plain": [
       "['black', 'skyblue', 'white', 'yellow']"
      ]
     },
     "execution_count": 540,
     "metadata": {},
     "output_type": "execute_result"
    }
   ],
   "source": [
    "color"
   ]
  },
  {
   "cell_type": "markdown",
   "metadata": {},
   "source": [
    "remove는 인자에 값을 넣어 해당 원소의 값을 제거할 수 있다. "
   ]
  },
  {
   "cell_type": "code",
   "execution_count": 541,
   "metadata": {},
   "outputs": [
    {
     "ename": "ValueError",
     "evalue": "list.remove(x): x not in list",
     "output_type": "error",
     "traceback": [
      "\u001b[0;31m---------------------------------------------------------------------------\u001b[0m",
      "\u001b[0;31mValueError\u001b[0m                                Traceback (most recent call last)",
      "\u001b[0;32m<ipython-input-541-d34c223dada2>\u001b[0m in \u001b[0;36m<module>\u001b[0;34m\u001b[0m\n\u001b[0;32m----> 1\u001b[0;31m \u001b[0mcolor\u001b[0m\u001b[0;34m.\u001b[0m\u001b[0mremove\u001b[0m\u001b[0;34m(\u001b[0m\u001b[0;36m1\u001b[0m\u001b[0;34m)\u001b[0m\u001b[0;34m\u001b[0m\u001b[0;34m\u001b[0m\u001b[0m\n\u001b[0m",
      "\u001b[0;31mValueError\u001b[0m: list.remove(x): x not in list"
     ]
    }
   ],
   "source": [
    "# 없는 값을 넣거나, index로 값을 제거하려고 하면 에러가 발생한다. \n",
    "\n",
    "color.remove(1)"
   ]
  },
  {
   "cell_type": "markdown",
   "metadata": {},
   "source": [
    "pop()과 remove()의 차이점을 잘 기억하자!"
   ]
  },
  {
   "cell_type": "markdown",
   "metadata": {},
   "source": [
    "#### 정렬: sort(), reverse()"
   ]
  },
  {
   "cell_type": "code",
   "execution_count": 547,
   "metadata": {},
   "outputs": [
    {
     "data": {
      "text/plain": [
       "['yellow', 'white', 'skyblue', 'black']"
      ]
     },
     "execution_count": 547,
     "metadata": {},
     "output_type": "execute_result"
    }
   ],
   "source": [
    "color.reverse()\n",
    "color"
   ]
  },
  {
   "cell_type": "code",
   "execution_count": 548,
   "metadata": {},
   "outputs": [
    {
     "data": {
      "text/plain": [
       "['black', 'skyblue', 'white', 'yellow']"
      ]
     },
     "execution_count": 548,
     "metadata": {},
     "output_type": "execute_result"
    }
   ],
   "source": [
    "color.sort()\n",
    "color"
   ]
  },
  {
   "cell_type": "code",
   "execution_count": 551,
   "metadata": {},
   "outputs": [
    {
     "data": {
      "text/plain": [
       "[-1, 2, 3, 4, 10, 21, 33, 38, 64, 100]"
      ]
     },
     "execution_count": 551,
     "metadata": {},
     "output_type": "execute_result"
    }
   ],
   "source": [
    "nums = [10,2,-1,3,100,33,21,64,38,4]\n",
    "nums.sort()\n",
    "nums"
   ]
  },
  {
   "cell_type": "code",
   "execution_count": 553,
   "metadata": {},
   "outputs": [
    {
     "data": {
      "text/plain": [
       "[100, 64, 38, 33, 21, 10, 4, 3, 2, -1]"
      ]
     },
     "execution_count": 553,
     "metadata": {},
     "output_type": "execute_result"
    }
   ],
   "source": [
    "nums.sort(reverse=True)\n",
    "nums"
   ]
  },
  {
   "cell_type": "code",
   "execution_count": 555,
   "metadata": {},
   "outputs": [
    {
     "data": {
      "text/plain": [
       "[100, 64, 38, 33, 21, 10, 4, 3, 2, -1]"
      ]
     },
     "execution_count": 555,
     "metadata": {},
     "output_type": "execute_result"
    }
   ],
   "source": [
    "nums.reverse()\n",
    "nums"
   ]
  },
  {
   "cell_type": "markdown",
   "metadata": {},
   "source": [
    "### <font color='red'> 파이썬 내장함수 sorted() </font>\n",
    "\n",
    "https://docs.python.org/3/howto/sorting.html\n",
    "https://docs.python.org/3/library/functions.html#sorted\n",
    "\n",
    "- sort()는 리스트의 메소드 이다. 즉 자료형이 리스트인 경우에만 사용할 수 있다. \n",
    "- sorted()는 파이썬 내장함수로 인자로 iterable한 객체를 받는다. `sorted(iterable)`\n",
    "    - sorted()의 반환값은 list이다."
   ]
  },
  {
   "cell_type": "code",
   "execution_count": 559,
   "metadata": {},
   "outputs": [
    {
     "data": {
      "text/plain": [
       "[-4, 0, 1, 1, 2, 3, 4, 4, 5, 6, 20, 33]"
      ]
     },
     "execution_count": 559,
     "metadata": {},
     "output_type": "execute_result"
    }
   ],
   "source": [
    "# list에서 sorted와 sort의 차이점.\n",
    "a = [3,4,1,2,5,6,4,20,33,1,-4,0]\n",
    "a.sort()\n",
    "a"
   ]
  },
  {
   "cell_type": "code",
   "execution_count": 561,
   "metadata": {},
   "outputs": [
    {
     "data": {
      "text/plain": [
       "[-4, 0, 1, 1, 2, 3, 4, 4, 5, 6, 20, 33]"
      ]
     },
     "execution_count": 561,
     "metadata": {},
     "output_type": "execute_result"
    }
   ],
   "source": [
    "a = [3,4,1,2,5,6,4,20,33,1,-4,0]\n",
    "sorted(a)"
   ]
  },
  {
   "cell_type": "code",
   "execution_count": 562,
   "metadata": {},
   "outputs": [
    {
     "data": {
      "text/plain": [
       "['a', 'b', 'c', 'y', 'z']"
      ]
     },
     "execution_count": 562,
     "metadata": {},
     "output_type": "execute_result"
    }
   ],
   "source": [
    "# sort()는 리스트 자료형에서만 사용할 수 있는 반면에 sorted함수는 기타 다른 iterable한 객체에도 사용할 수 있다. \n",
    "\n",
    "# sorted()의 인자로 dict를 사용하면,\n",
    "sorted({'a':30, 'c':100, 'b':1, 'z':1000, 'y':0})"
   ]
  },
  {
   "cell_type": "markdown",
   "metadata": {},
   "source": [
    "키값을 정렬하여 list로 반환한다. "
   ]
  },
  {
   "cell_type": "code",
   "execution_count": 564,
   "metadata": {},
   "outputs": [
    {
     "data": {
      "text/plain": [
       "[' ', ' ', ' ', 'e', 'f', 'h', 'i', 'i', 'i', 'l', 'm', 's', 's', 't', 'y']"
      ]
     },
     "execution_count": 564,
     "metadata": {},
     "output_type": "execute_result"
    }
   ],
   "source": [
    "# sorted()의 인자로 문자열을 사용하면, \n",
    "sorted('this is my life')"
   ]
  },
  {
   "cell_type": "markdown",
   "metadata": {},
   "source": [
    "알파벳 순으로 정렬하여 list로 반환한다. (단, 공백은 가장 우선순위가 높다.)"
   ]
  },
  {
   "cell_type": "markdown",
   "metadata": {},
   "source": [
    "#### list의 메소드 sort()와 파이썬 내장함수 sorted()를 헷갈리지 말자!\n",
    "    - sorted()의 반환값이 list이기 때문에 헷갈리기 쉽다. "
   ]
  },
  {
   "cell_type": "code",
   "execution_count": null,
   "metadata": {},
   "outputs": [],
   "source": []
  },
  {
   "cell_type": "code",
   "execution_count": null,
   "metadata": {},
   "outputs": [],
   "source": []
  },
  {
   "cell_type": "markdown",
   "metadata": {},
   "source": [
    "### String메소드 다시..\n",
    "\n",
    "- split() : string.split(구분자(seperator)), 리스트 형태. \n",
    "- join()"
   ]
  },
  {
   "cell_type": "code",
   "execution_count": 565,
   "metadata": {},
   "outputs": [
    {
     "data": {
      "text/plain": [
       "'hello python and programming'"
      ]
     },
     "execution_count": 565,
     "metadata": {},
     "output_type": "execute_result"
    }
   ],
   "source": [
    "word = \"hello python and programming\"\n",
    "word"
   ]
  },
  {
   "cell_type": "code",
   "execution_count": 566,
   "metadata": {},
   "outputs": [],
   "source": [
    "word_list = word.split()"
   ]
  },
  {
   "cell_type": "code",
   "execution_count": 567,
   "metadata": {},
   "outputs": [
    {
     "data": {
      "text/plain": [
       "['hello', 'python', 'and', 'programming']"
      ]
     },
     "execution_count": 567,
     "metadata": {},
     "output_type": "execute_result"
    }
   ],
   "source": [
    "word_list"
   ]
  },
  {
   "cell_type": "code",
   "execution_count": 568,
   "metadata": {},
   "outputs": [
    {
     "data": {
      "text/plain": [
       "'hello python and programming'"
      ]
     },
     "execution_count": 568,
     "metadata": {},
     "output_type": "execute_result"
    }
   ],
   "source": [
    "\" \".join(word_list)"
   ]
  },
  {
   "cell_type": "markdown",
   "metadata": {},
   "source": [
    "### <font color='orange'> Q3. 다음 data 문자열을 result의 문자열로 변환 하세요. </font>\n",
    "\n",
    "입출력 예시\n",
    "\n",
    "`\n",
    "input_data = 'Beatiful-is-better-than-agly.' \n",
    "output = 'Beatiful Is Better Than Agly.'\n",
    "`"
   ]
  },
  {
   "cell_type": "code",
   "execution_count": 105,
   "metadata": {},
   "outputs": [
    {
     "data": {
      "text/plain": [
       "['Beatiful', 'is', 'better', 'than', 'agly.']"
      ]
     },
     "execution_count": 105,
     "metadata": {},
     "output_type": "execute_result"
    }
   ],
   "source": [
    "input_data = \"Beatiful-is-better-than-agly.\"\n",
    "\n",
    "input_data.split(\"-\")\n"
   ]
  },
  {
   "cell_type": "code",
   "execution_count": 573,
   "metadata": {},
   "outputs": [
    {
     "data": {
      "text/plain": [
       "'Beatiful Is Better Than Agly. '"
      ]
     },
     "execution_count": 573,
     "metadata": {},
     "output_type": "execute_result"
    }
   ],
   "source": [
    "mylist = input_data.split(\"-\")\n",
    "\n",
    "k = mylist[0][0].upper() + mylist[0][1:] + \" \" + mylist[1][0].upper()+mylist[1][1:] + \" \" + mylist[2][0].upper()+mylist[2][1:] + \" \" + mylist[3][0].upper()+mylist[3][1:] + \" \" + mylist[4][0].upper()+mylist[4][1:] + \" \"\n",
    "\n",
    "k"
   ]
  },
  {
   "cell_type": "markdown",
   "metadata": {},
   "source": [
    "### <font color = 'red'> Q3 다른 풀이 </font>"
   ]
  },
  {
   "cell_type": "code",
   "execution_count": 581,
   "metadata": {},
   "outputs": [
    {
     "data": {
      "text/plain": [
       "'Beatiful Is Better Than Agly.'"
      ]
     },
     "execution_count": 581,
     "metadata": {},
     "output_type": "execute_result"
    }
   ],
   "source": [
    "result = input_data.title()\n",
    "\" \".join(result.split('-'))"
   ]
  },
  {
   "cell_type": "code",
   "execution_count": null,
   "metadata": {},
   "outputs": [],
   "source": []
  },
  {
   "cell_type": "markdown",
   "metadata": {},
   "source": [
    "### Dictionary\n",
    "\n",
    "- 키와 밸류 {키:밸류, 키:밸류}\n",
    "- 순서가 없다. 구조적인 데이터를 저장할때 사용된다. \n",
    "- keys(), values(), items()\n",
    "- 대괄호 [] : 순서가 있는 자료형인 string, list, tuple은 대괄호에 index를 넣어 값에 접근하는 반면에 dictionary는 대괄호에 키값을 넣어 값에 접근한다. "
   ]
  },
  {
   "cell_type": "code",
   "execution_count": 591,
   "metadata": {},
   "outputs": [],
   "source": [
    "mydict = {'america':1, 'korea':82, 'japan': 81}"
   ]
  },
  {
   "cell_type": "code",
   "execution_count": 592,
   "metadata": {},
   "outputs": [
    {
     "data": {
      "text/plain": [
       "{'america': 1, 'korea': 82, 'japan': 81}"
      ]
     },
     "execution_count": 592,
     "metadata": {},
     "output_type": "execute_result"
    }
   ],
   "source": [
    "mydict"
   ]
  },
  {
   "cell_type": "code",
   "execution_count": 593,
   "metadata": {},
   "outputs": [
    {
     "data": {
      "text/plain": [
       "1"
      ]
     },
     "execution_count": 593,
     "metadata": {},
     "output_type": "execute_result"
    }
   ],
   "source": [
    "# 키값으로 데이터에 접근\n",
    "mydict['america']"
   ]
  },
  {
   "cell_type": "code",
   "execution_count": 594,
   "metadata": {},
   "outputs": [],
   "source": [
    "# 해당 키에 데이터를 할당. \n",
    "mydict['america'] = 'LA'"
   ]
  },
  {
   "cell_type": "code",
   "execution_count": 595,
   "metadata": {},
   "outputs": [
    {
     "data": {
      "text/plain": [
       "{'america': 'LA', 'korea': 82, 'japan': 81}"
      ]
     },
     "execution_count": 595,
     "metadata": {},
     "output_type": "execute_result"
    }
   ],
   "source": [
    "mydict"
   ]
  },
  {
   "cell_type": "markdown",
   "metadata": {},
   "source": [
    "#### <font color='red'> 새로운 데이터 추가! </font>"
   ]
  },
  {
   "cell_type": "code",
   "execution_count": 598,
   "metadata": {},
   "outputs": [],
   "source": [
    "# 새로운 데이터 추가.\n",
    "mydict['italy'] = 'rome'"
   ]
  },
  {
   "cell_type": "code",
   "execution_count": 599,
   "metadata": {},
   "outputs": [
    {
     "data": {
      "text/plain": [
       "{'america': 'LA', 'korea': 82, 'japan': 81, 'italy': 'rome'}"
      ]
     },
     "execution_count": 599,
     "metadata": {},
     "output_type": "execute_result"
    }
   ],
   "source": [
    "mydict"
   ]
  },
  {
   "cell_type": "markdown",
   "metadata": {},
   "source": [
    "#### dict관련 메소드 연습"
   ]
  },
  {
   "cell_type": "code",
   "execution_count": 601,
   "metadata": {},
   "outputs": [
    {
     "data": {
      "text/plain": [
       "dict_keys(['america', 'korea', 'japan', 'italy'])"
      ]
     },
     "execution_count": 601,
     "metadata": {},
     "output_type": "execute_result"
    }
   ],
   "source": [
    "mydict.keys()"
   ]
  },
  {
   "cell_type": "code",
   "execution_count": 602,
   "metadata": {},
   "outputs": [
    {
     "data": {
      "text/plain": [
       "dict_values(['LA', 82, 81, 'rome'])"
      ]
     },
     "execution_count": 602,
     "metadata": {},
     "output_type": "execute_result"
    }
   ],
   "source": [
    "mydict.values()"
   ]
  },
  {
   "cell_type": "code",
   "execution_count": 603,
   "metadata": {},
   "outputs": [
    {
     "data": {
      "text/plain": [
       "dict_items([('america', 'LA'), ('korea', 82), ('japan', 81), ('italy', 'rome')])"
      ]
     },
     "execution_count": 603,
     "metadata": {},
     "output_type": "execute_result"
    }
   ],
   "source": [
    "mydict.items()"
   ]
  },
  {
   "cell_type": "markdown",
   "metadata": {},
   "source": [
    "#### <font color='red'> len()함수를 통해 자료의 크기를 반환하면, 키 - 밸류 쌍의 갯수가 반환 된다. </font>"
   ]
  },
  {
   "cell_type": "code",
   "execution_count": 612,
   "metadata": {},
   "outputs": [
    {
     "data": {
      "text/plain": [
       "4"
      ]
     },
     "execution_count": 612,
     "metadata": {},
     "output_type": "execute_result"
    }
   ],
   "source": [
    "len(mydict)"
   ]
  },
  {
   "cell_type": "markdown",
   "metadata": {},
   "source": [
    "### set\n",
    "\n",
    "- dictionary의 키값만 있는 형태\n",
    "- 중복을 허용하지 않는다. \n",
    "- 집합과 유사\n",
    "\n",
    "- s.add(), s.update() 차이\n",
    "\n",
    "- s.intersection()\n",
    "- s.union()\n",
    "- s.difference()"
   ]
  },
  {
   "cell_type": "code",
   "execution_count": 606,
   "metadata": {},
   "outputs": [
    {
     "data": {
      "text/plain": [
       "{'a', 'b', 'c', 'd'}"
      ]
     },
     "execution_count": 606,
     "metadata": {},
     "output_type": "execute_result"
    }
   ],
   "source": [
    "# set: dictionary처럼 중괄호를 이용해 선언하며, key값만 존재한다. \n",
    "\n",
    "myset = {'a','b','c','d'}\n",
    "myset"
   ]
  },
  {
   "cell_type": "code",
   "execution_count": 607,
   "metadata": {},
   "outputs": [
    {
     "data": {
      "text/plain": [
       "[1, 2, 3, 4, 4, 4, 4]"
      ]
     },
     "execution_count": 607,
     "metadata": {},
     "output_type": "execute_result"
    }
   ],
   "source": [
    "# 중복을 허용하지 않는다. \n",
    "\n",
    "numbers = [1,2,3,4,4,4,4,]\n",
    "numbers"
   ]
  },
  {
   "cell_type": "code",
   "execution_count": 608,
   "metadata": {},
   "outputs": [
    {
     "data": {
      "text/plain": [
       "{1, 2, 3, 4}"
      ]
     },
     "execution_count": 608,
     "metadata": {},
     "output_type": "execute_result"
    }
   ],
   "source": [
    "number_set = set(numbers)\n",
    "number_set"
   ]
  },
  {
   "cell_type": "code",
   "execution_count": 609,
   "metadata": {},
   "outputs": [
    {
     "data": {
      "text/plain": [
       "7"
      ]
     },
     "execution_count": 609,
     "metadata": {},
     "output_type": "execute_result"
    }
   ],
   "source": [
    "len(numbers)"
   ]
  },
  {
   "cell_type": "markdown",
   "metadata": {},
   "source": [
    "#### <font color = 'red'> 순서가 있으며, []에 index값으로 해당 위치의 값에 접근이 가능하다. </font>"
   ]
  },
  {
   "cell_type": "code",
   "execution_count": 614,
   "metadata": {},
   "outputs": [
    {
     "data": {
      "text/plain": [
       "1"
      ]
     },
     "execution_count": 614,
     "metadata": {},
     "output_type": "execute_result"
    }
   ],
   "source": [
    "numbers[0]"
   ]
  },
  {
   "cell_type": "code",
   "execution_count": 615,
   "metadata": {},
   "outputs": [
    {
     "data": {
      "text/plain": [
       "3"
      ]
     },
     "execution_count": 615,
     "metadata": {},
     "output_type": "execute_result"
    }
   ],
   "source": [
    "numbers[2]"
   ]
  },
  {
   "cell_type": "markdown",
   "metadata": {},
   "source": [
    "## <font color = 'blue'> 4. 파일과 파일처리 (feat 하드 디스크) </font>\n",
    "-----------------\n",
    "\n",
    "\"하드 디스크에 데이터를 저장한다는 개념.\"\n",
    "\n",
    "1) 파이썬에서 파일을 접근하는 법\n",
    "\n",
    "- \"파일 객체를 만들어 준다\"\n",
    "- \"만드는 방법 open함수 이용\":  `open()`\n",
    "- https://docs.python.org/3/library/functions.html#open\n",
    "\n",
    "(Q1. 파일 객체와 파일은 다른가? 네)\n",
    "\n",
    "\n",
    "2) 파일 관련 메소드\n",
    "\n",
    "- f.read() \n",
    "- f.write()\n",
    "- f.close()\n",
    "\n",
    "\n",
    "- 파일 관련 작업이 끝나면 .close()메소드를 이용하여 파일 객체를 닫아준다. "
   ]
  },
  {
   "cell_type": "markdown",
   "metadata": {},
   "source": [
    "#### <font color='red'> 파일쓰기 예제 </font>"
   ]
  },
  {
   "cell_type": "markdown",
   "metadata": {},
   "source": [
    "1) 파일이 없음을 확인합니다."
   ]
  },
  {
   "cell_type": "code",
   "execution_count": 633,
   "metadata": {},
   "outputs": [
    {
     "name": "stdout",
     "output_type": "stream",
     "text": [
      "Concents.md             Python_Introduction.pdf \u001b[34mfig\u001b[m\u001b[m\r\n",
      "\u001b[34mGUI\u001b[m\u001b[m                     \u001b[34mbasic_5day\u001b[m\u001b[m              result_NEW.txt\r\n",
      "Python4DS.ipynb         \u001b[34mcontents\u001b[m\u001b[m\r\n"
     ]
    }
   ],
   "source": [
    "!ls"
   ]
  },
  {
   "cell_type": "markdown",
   "metadata": {},
   "source": [
    "2) 쓰기모드로 파일 객체를 생성합니다.  "
   ]
  },
  {
   "cell_type": "code",
   "execution_count": 655,
   "metadata": {},
   "outputs": [],
   "source": [
    "f = open(\"hello.txt\",\"w\")"
   ]
  },
  {
   "cell_type": "code",
   "execution_count": 656,
   "metadata": {},
   "outputs": [
    {
     "data": {
      "text/plain": [
       "<_io.TextIOWrapper name='hello.txt' mode='w' encoding='UTF-8'>"
      ]
     },
     "execution_count": 656,
     "metadata": {},
     "output_type": "execute_result"
    }
   ],
   "source": [
    "f"
   ]
  },
  {
   "cell_type": "markdown",
   "metadata": {},
   "source": [
    "텍스트 파일은 io.TextIOWrapper라는 클래스 객체(인스턴스 객체)가 생됩니다. io.IOBase라는 클래스에서 상속받습니다"
   ]
  },
  {
   "cell_type": "code",
   "execution_count": 657,
   "metadata": {},
   "outputs": [
    {
     "data": {
      "text/plain": [
       "5"
      ]
     },
     "execution_count": 657,
     "metadata": {},
     "output_type": "execute_result"
    }
   ],
   "source": [
    "f.write('hello')"
   ]
  },
  {
   "cell_type": "markdown",
   "metadata": {},
   "source": [
    "<font color='red'> 심화 보충 내용 </font>\n",
    "\n",
    "- 파이썬에서 파일의 write()메소드를 사용하면 문자열의 길이를 출력한다고 합니다. \n",
    "- 이는 파이썬 인터프리터에서 동작하는 것이라고 합니다. 원문의 링크를 송부 드립니다. \n",
    "https://stackoverflow.com/questions/40318127/why-does-write-method-returns-the-length-of-string-in-ipython-jupyter-notebook\n"
   ]
  },
  {
   "cell_type": "code",
   "execution_count": 658,
   "metadata": {},
   "outputs": [
    {
     "data": {
      "text/plain": [
       "6"
      ]
     },
     "execution_count": 658,
     "metadata": {},
     "output_type": "execute_result"
    }
   ],
   "source": [
    "f.write('python')"
   ]
  },
  {
   "cell_type": "code",
   "execution_count": 659,
   "metadata": {},
   "outputs": [],
   "source": [
    "f.close()"
   ]
  },
  {
   "cell_type": "code",
   "execution_count": 660,
   "metadata": {},
   "outputs": [
    {
     "name": "stdout",
     "output_type": "stream",
     "text": [
      "hellopython\n"
     ]
    }
   ],
   "source": [
    "f = open(\"hello.txt\")\n",
    "\n",
    "for i in f:\n",
    "    print(i)"
   ]
  },
  {
   "cell_type": "markdown",
   "metadata": {},
   "source": [
    "#### 파일을 지우는 것은 어떻게 하나요? \n",
    "    - 파이썬 표준 모듈 중에 파일을 지우는 메소드는 없습니다. \n",
    "    - 파일을 열때 한줄 씩 읽고 그 안에 덮어쓰기를 해야 합니다. "
   ]
  },
  {
   "cell_type": "markdown",
   "metadata": {},
   "source": [
    "## <font color = 'skyblue'> 5. 코드 구조 </font>\n",
    "----------------\n",
    "\n",
    "코드 구조: \"코드를 어떻게 구조화 하는지\" - 코드를 여러줄 작성하는것\n",
    "\n",
    "1) 들여쓰기 (indentation)\n",
    "\n",
    "2) 변수 할당문 이라고 하기도 한다. \n",
    "\n",
    "3) 반복문 (for문, while문)\n",
    "\n",
    "- iterable, 순회가능하다는 것의 의미\n",
    "- 논리 연산자\n",
    "\n",
    "4) 조건문 (if, elif, else)\n",
    "\n",
    "- 논리 연산자\n",
    "\n",
    "5) 예외 처리문 (try, except, else, finally)\n",
    "\n",
    "- 가타... raise"
   ]
  },
  {
   "cell_type": "markdown",
   "metadata": {},
   "source": [
    "### 들여쓰기, indentation\n",
    "\n",
    "\n",
    "\n",
    "- 스페이스 4번, 탭 1번 (*간혹 스페이스 2번)\n",
    "\n",
    "- 다른 언어들은 코드를 구조화 할 때 중활호({}), 세미콜론과 같은 문장으로 구분한다.\n",
    "\n",
    "<code>\n",
    "var a; \n",
    "a = 7; \n",
    "console.log(a);\n",
    "\n",
    "while (count < 3) {\n",
    "   console.log(count);\n",
    "   count++;} </code>\n",
    "\n",
    "\n",
    "- 주석: #\n",
    "\n",
    "- 여러줄 주석: command + /\n",
    "\n",
    "- 독스트링: ''' ''', \"\"\" \"\"\""
   ]
  },
  {
   "cell_type": "code",
   "execution_count": 663,
   "metadata": {},
   "outputs": [
    {
     "name": "stdout",
     "output_type": "stream",
     "text": [
      "hello\n",
      "hello\n"
     ]
    }
   ],
   "source": [
    "# 2개의 print문의 차이!\n",
    "\n",
    "if True:\n",
    "    print(\"hello\")\n",
    "\n",
    "print(\"hello\")"
   ]
  },
  {
   "cell_type": "markdown",
   "metadata": {},
   "source": [
    "### 산술연산자\n",
    "- +, -, *, , * *, /, //, %,\n",
    "\n",
    "### 비교 연산자\n",
    "\n",
    "- ==, !=, <, <=, >, >=, in\n",
    "\n",
    "### 논리 연산자\n",
    "- and, &\n",
    "- or, |\n",
    "\n",
    "\n",
    "### False값\n",
    "None, 0, 0.0, '', [], (), {}, set{}"
   ]
  },
  {
   "cell_type": "code",
   "execution_count": 665,
   "metadata": {},
   "outputs": [],
   "source": [
    "#### 비교연산자 연습 - 값을 비교한 뒤 그 값이 참인지 거짓인지를 판별한다. \n",
    "\n",
    "a = 10\n",
    "b = 20"
   ]
  },
  {
   "cell_type": "code",
   "execution_count": 666,
   "metadata": {},
   "outputs": [
    {
     "data": {
      "text/plain": [
       "True"
      ]
     },
     "execution_count": 666,
     "metadata": {},
     "output_type": "execute_result"
    }
   ],
   "source": [
    "a < b #a는 b보다 작다"
   ]
  },
  {
   "cell_type": "code",
   "execution_count": 667,
   "metadata": {},
   "outputs": [
    {
     "data": {
      "text/plain": [
       "False"
      ]
     },
     "execution_count": 667,
     "metadata": {},
     "output_type": "execute_result"
    }
   ],
   "source": [
    "a > b #a는 b보다 크다"
   ]
  },
  {
   "cell_type": "code",
   "execution_count": 668,
   "metadata": {},
   "outputs": [
    {
     "data": {
      "text/plain": [
       "False"
      ]
     },
     "execution_count": 668,
     "metadata": {},
     "output_type": "execute_result"
    }
   ],
   "source": [
    "a >= b #a는 b보다 크거나 같다"
   ]
  },
  {
   "cell_type": "code",
   "execution_count": 670,
   "metadata": {},
   "outputs": [
    {
     "data": {
      "text/plain": [
       "False"
      ]
     },
     "execution_count": 670,
     "metadata": {},
     "output_type": "execute_result"
    }
   ],
   "source": [
    "a == b #a와 b는 같다"
   ]
  },
  {
   "cell_type": "code",
   "execution_count": 672,
   "metadata": {},
   "outputs": [
    {
     "data": {
      "text/plain": [
       "True"
      ]
     },
     "execution_count": 672,
     "metadata": {},
     "output_type": "execute_result"
    }
   ],
   "source": [
    "a != b #a와 b는 다르다"
   ]
  },
  {
   "cell_type": "markdown",
   "metadata": {},
   "source": [
    "#### 멤버연산자"
   ]
  },
  {
   "cell_type": "code",
   "execution_count": 673,
   "metadata": {},
   "outputs": [
    {
     "data": {
      "text/plain": [
       "False"
      ]
     },
     "execution_count": 673,
     "metadata": {},
     "output_type": "execute_result"
    }
   ],
   "source": [
    "mycollections = [1,2,3,4]\n",
    "\n",
    "10 in mycollections # 10은 mycollections안의 요소(멤버)이다. "
   ]
  },
  {
   "cell_type": "code",
   "execution_count": 674,
   "metadata": {},
   "outputs": [
    {
     "data": {
      "text/plain": [
       "True"
      ]
     },
     "execution_count": 674,
     "metadata": {},
     "output_type": "execute_result"
    }
   ],
   "source": [
    "1 in mycollections # 1은 mycollections안의 요소(멤버)이다."
   ]
  },
  {
   "cell_type": "code",
   "execution_count": 676,
   "metadata": {},
   "outputs": [
    {
     "data": {
      "text/plain": [
       "True"
      ]
     },
     "execution_count": 676,
     "metadata": {},
     "output_type": "execute_result"
    }
   ],
   "source": [
    "10 not in mycollections # 10은 mycollections안의 요소(멤버)가 아니다."
   ]
  },
  {
   "cell_type": "code",
   "execution_count": 677,
   "metadata": {},
   "outputs": [
    {
     "data": {
      "text/plain": [
       "True"
      ]
     },
     "execution_count": 677,
     "metadata": {},
     "output_type": "execute_result"
    }
   ],
   "source": [
    "# set도 사용할 수 있을까? - 네\n",
    "\n",
    "'a' not in {1,2,3,4}"
   ]
  },
  {
   "cell_type": "code",
   "execution_count": 679,
   "metadata": {},
   "outputs": [
    {
     "data": {
      "text/plain": [
       "False"
      ]
     },
     "execution_count": 679,
     "metadata": {},
     "output_type": "execute_result"
    }
   ],
   "source": [
    "# dict도 사용할 수 있을까? - 네 (키값을 비교한다.)\n",
    "\n",
    "'k' in {'a':3, 'b':8, 'c':'k'}"
   ]
  },
  {
   "cell_type": "code",
   "execution_count": 680,
   "metadata": {},
   "outputs": [
    {
     "data": {
      "text/plain": [
       "True"
      ]
     },
     "execution_count": 680,
     "metadata": {},
     "output_type": "execute_result"
    }
   ],
   "source": [
    "# tuple도 사용할 수 있을까? - 네\n",
    "\n",
    "'c' in (1,2,3,'c')"
   ]
  },
  {
   "cell_type": "code",
   "execution_count": 683,
   "metadata": {},
   "outputs": [
    {
     "data": {
      "text/plain": [
       "True"
      ]
     },
     "execution_count": 683,
     "metadata": {},
     "output_type": "execute_result"
    }
   ],
   "source": [
    "# string도 사용할 수 있을까? - 네\n",
    "\n",
    "'h' in 'hello'"
   ]
  },
  {
   "cell_type": "code",
   "execution_count": 684,
   "metadata": {},
   "outputs": [
    {
     "data": {
      "text/plain": [
       "False"
      ]
     },
     "execution_count": 684,
     "metadata": {},
     "output_type": "execute_result"
    }
   ],
   "source": [
    "'ho' in 'hello'"
   ]
  },
  {
   "cell_type": "code",
   "execution_count": 685,
   "metadata": {},
   "outputs": [
    {
     "ename": "TypeError",
     "evalue": "argument of type 'int' is not iterable",
     "output_type": "error",
     "traceback": [
      "\u001b[0;31m---------------------------------------------------------------------------\u001b[0m",
      "\u001b[0;31mTypeError\u001b[0m                                 Traceback (most recent call last)",
      "\u001b[0;32m<ipython-input-685-eb4bf04ff3b0>\u001b[0m in \u001b[0;36m<module>\u001b[0;34m\u001b[0m\n\u001b[1;32m      1\u001b[0m \u001b[0;31m# number에도 사용할 수 있을까? - 아니요\u001b[0m\u001b[0;34m\u001b[0m\u001b[0;34m\u001b[0m\u001b[0;34m\u001b[0m\u001b[0m\n\u001b[1;32m      2\u001b[0m \u001b[0;34m\u001b[0m\u001b[0m\n\u001b[0;32m----> 3\u001b[0;31m \u001b[0;36m3\u001b[0m \u001b[0;32min\u001b[0m \u001b[0;36m100\u001b[0m\u001b[0;34m\u001b[0m\u001b[0;34m\u001b[0m\u001b[0m\n\u001b[0m",
      "\u001b[0;31mTypeError\u001b[0m: argument of type 'int' is not iterable"
     ]
    }
   ],
   "source": [
    "# number에도 사용할 수 있을까? - 아니요 \n",
    "\n",
    "3 in 100"
   ]
  },
  {
   "cell_type": "markdown",
   "metadata": {},
   "source": [
    "#### <font color='red'> 멤버연산자는 iterable한 객체에만 사용할 수 있습니다. iterable의 의미 다시한번 생각해 보세요. </font>"
   ]
  },
  {
   "cell_type": "markdown",
   "metadata": {},
   "source": [
    "#### 논리 연산자"
   ]
  },
  {
   "cell_type": "code",
   "execution_count": 686,
   "metadata": {},
   "outputs": [
    {
     "data": {
      "text/plain": [
       "True"
      ]
     },
     "execution_count": 686,
     "metadata": {},
     "output_type": "execute_result"
    }
   ],
   "source": [
    "True or False"
   ]
  },
  {
   "cell_type": "code",
   "execution_count": 687,
   "metadata": {},
   "outputs": [
    {
     "data": {
      "text/plain": [
       "False"
      ]
     },
     "execution_count": 687,
     "metadata": {},
     "output_type": "execute_result"
    }
   ],
   "source": [
    "True and False"
   ]
  },
  {
   "cell_type": "markdown",
   "metadata": {},
   "source": [
    "#### boolean으로 형변환 시 False값으로 취급되는 값들\n",
    "\n",
    "None, 0, 0.0, '', [], (), {}, set{}"
   ]
  },
  {
   "cell_type": "code",
   "execution_count": 701,
   "metadata": {},
   "outputs": [
    {
     "data": {
      "text/plain": [
       "False"
      ]
     },
     "execution_count": 701,
     "metadata": {},
     "output_type": "execute_result"
    }
   ],
   "source": [
    "bool([])"
   ]
  },
  {
   "cell_type": "code",
   "execution_count": 702,
   "metadata": {},
   "outputs": [
    {
     "data": {
      "text/plain": [
       "False"
      ]
     },
     "execution_count": 702,
     "metadata": {},
     "output_type": "execute_result"
    }
   ],
   "source": [
    "bool(None)"
   ]
  },
  {
   "cell_type": "code",
   "execution_count": null,
   "metadata": {},
   "outputs": [],
   "source": []
  },
  {
   "cell_type": "markdown",
   "metadata": {},
   "source": [
    "### for문\n",
    "\n",
    "- for문: \"순회하다\"\n",
    "\n",
    "- iterable한 객체를 하나씩 꺼내어 value에 대입시킵니다.(iterable한 객체를 iterate(순회하고) 순회가 종료되면 for문이 종료 됩니다. \n",
    "\n",
    "문법\n",
    "\n",
    "`\n",
    "for <value> in <iterable> :\n",
    "    <code>\n",
    "`\n",
    "\n",
    "\n",
    "- 순회하다(iterable):\n",
    "    - iterable 의 의미는 member를 하나씩 차례로 반환 가능한 object를 말합니다.\n",
    "    - iterable 의 예로는 sequence type인 list, str, tuple과 sequence type은 아니지만 set, dictionary가 있습니다.\n",
    "\n",
    "\n",
    "- 숫자(int, float)는 순회할까? No\n",
    "- boolean은 순회 할까? No"
   ]
  },
  {
   "cell_type": "code",
   "execution_count": 706,
   "metadata": {},
   "outputs": [
    {
     "name": "stdout",
     "output_type": "stream",
     "text": [
      "1\n",
      "2\n",
      "3\n",
      "4\n",
      "5\n"
     ]
    }
   ],
   "source": [
    "# list for문 : list의 요소를 순회한 뒤, 순회가 종료하면 for문도 종료 되었습니다. \n",
    "for i in [1,2,3,4,5]:\n",
    "    print(i)"
   ]
  },
  {
   "cell_type": "code",
   "execution_count": 708,
   "metadata": {},
   "outputs": [
    {
     "name": "stdout",
     "output_type": "stream",
     "text": [
      "h\n",
      "e\n",
      "l\n",
      "l\n",
      "o\n"
     ]
    }
   ],
   "source": [
    "# string for문 : string의 값을 순회한 뒤, 순회가 종료하면 for문도 종료 되었습니다. \n",
    "for i in 'hello':\n",
    "    print(i)"
   ]
  },
  {
   "cell_type": "code",
   "execution_count": 710,
   "metadata": {},
   "outputs": [
    {
     "ename": "TypeError",
     "evalue": "'int' object is not iterable",
     "output_type": "error",
     "traceback": [
      "\u001b[0;31m---------------------------------------------------------------------------\u001b[0m",
      "\u001b[0;31mTypeError\u001b[0m                                 Traceback (most recent call last)",
      "\u001b[0;32m<ipython-input-710-0c053f26282f>\u001b[0m in \u001b[0;36m<module>\u001b[0;34m\u001b[0m\n\u001b[1;32m      1\u001b[0m \u001b[0;31m# int for문 : iterable한 객체가 아니므로(순회할 수 없으므로) 에러를 발생 시킵니다.\u001b[0m\u001b[0;34m\u001b[0m\u001b[0;34m\u001b[0m\u001b[0;34m\u001b[0m\u001b[0m\n\u001b[1;32m      2\u001b[0m \u001b[0;34m\u001b[0m\u001b[0m\n\u001b[0;32m----> 3\u001b[0;31m \u001b[0;32mfor\u001b[0m \u001b[0mi\u001b[0m \u001b[0;32min\u001b[0m \u001b[0;36m10\u001b[0m\u001b[0;34m:\u001b[0m\u001b[0;34m\u001b[0m\u001b[0;34m\u001b[0m\u001b[0m\n\u001b[0m\u001b[1;32m      4\u001b[0m     \u001b[0mprint\u001b[0m\u001b[0;34m(\u001b[0m\u001b[0mi\u001b[0m\u001b[0;34m)\u001b[0m\u001b[0;34m\u001b[0m\u001b[0;34m\u001b[0m\u001b[0m\n",
      "\u001b[0;31mTypeError\u001b[0m: 'int' object is not iterable"
     ]
    }
   ],
   "source": [
    "# int for문 : iterable한 객체가 아니므로(순회할 수 없으므로) 에러를 발생 시킵니다. \n",
    "\n",
    "for i in 10:\n",
    "    print(i)"
   ]
  },
  {
   "cell_type": "code",
   "execution_count": 711,
   "metadata": {},
   "outputs": [
    {
     "name": "stdout",
     "output_type": "stream",
     "text": [
      "science\n",
      "korea\n",
      "english\n"
     ]
    }
   ],
   "source": [
    "# dict의 for문: 기본적으로 dictionary의 key값을 순회한 뒤 역시 순회가 종료되면 for문을 종료합니다. \n",
    "\n",
    "grades = {'science':90, 'korea':70, 'english':55}\n",
    "\n",
    "for i in grades:\n",
    "    print(i)"
   ]
  },
  {
   "cell_type": "code",
   "execution_count": 712,
   "metadata": {},
   "outputs": [
    {
     "name": "stdout",
     "output_type": "stream",
     "text": [
      "h\n",
      "e\n",
      "l\n",
      "l\n",
      "o\n",
      "o\n"
     ]
    }
   ],
   "source": [
    "# indentation과 for 문의 변수(통상 i라는 변수명을 사용함)의 의미.\n",
    "\n",
    "for i in 'hello':\n",
    "    print(i)\n",
    "print(i)"
   ]
  },
  {
   "cell_type": "markdown",
   "metadata": {},
   "source": [
    "### <font color='orange'> Q4. grades데이터의 평균을 계산해 보세요. </font>\n",
    "\n",
    "grades = {'science':90, 'korea':70, 'english':55}"
   ]
  },
  {
   "cell_type": "code",
   "execution_count": 196,
   "metadata": {},
   "outputs": [
    {
     "name": "stdout",
     "output_type": "stream",
     "text": [
      "71.66666666666667\n"
     ]
    }
   ],
   "source": [
    "# A4 Enter your code\n",
    "grades = {'science':90, 'korea':70, 'english':55}\n",
    "\n",
    "total = 0\n",
    "size = len(grades.values())\n",
    "\n",
    "for i in grades.values():\n",
    "    total += i\n",
    "\n",
    "avg = total / size\n",
    "print(avg)"
   ]
  },
  {
   "cell_type": "markdown",
   "metadata": {},
   "source": [
    "### while 문\n",
    "\n",
    "\n",
    "- condition이 True이면 while 안쪽의 code가 실행 후 다시 condition을 확인하여 True이면 code를 실행을 반복합니다. \n",
    "- condition이 False가 될때까지 code가 반복적으로 실행됩니다.\n",
    "\n",
    "`\n",
    "while <condition>:\n",
    "  <code>\n",
    "`\n",
    "\n",
    "while 은 잘못사용하면 무한루프에 빠지기 때문에 주의해서 사용해야 합니다.\n"
   ]
  },
  {
   "cell_type": "code",
   "execution_count": 211,
   "metadata": {},
   "outputs": [
    {
     "name": "stdout",
     "output_type": "stream",
     "text": [
      "0\n",
      "1\n",
      "2\n",
      "3\n",
      "4\n",
      "5\n",
      "6\n",
      "7\n",
      "8\n",
      "9\n"
     ]
    }
   ],
   "source": [
    "c = 0\n",
    "\n",
    "while c < 10:\n",
    "    print(c)\n",
    "    c += 1 "
   ]
  },
  {
   "cell_type": "markdown",
   "metadata": {},
   "source": [
    "### 조건문\n",
    "\n",
    "- if\n",
    "- else\n",
    "- elif\n",
    "\n",
    "\n",
    "#### if\n",
    "\n",
    "condition이 True이면 code_1이 실행 됩니다.\n",
    "\n",
    "`\n",
    "if <condition>:\n",
    "  <code>\n",
    "`\n",
    "\n",
    "\n",
    "#### else\n",
    "\n",
    "condition이 False이면 code_2 가 실행됩니다.\n",
    "\n",
    "`\n",
    "if <condition>:\n",
    "    <code_1>\n",
    "else:\n",
    "    <code_2>\n",
    "`\n",
    "\n",
    "#### elif\n",
    "\n",
    "condition_2가 True이면 code_2 가 실행됩니다.\n",
    "\n",
    "`\n",
    "if <condition_1>:\n",
    "    <code_1>\n",
    "elif <condition_2>:\n",
    "    <code_2>\n",
    "else:\n",
    "    <code_3>\n",
    "`"
   ]
  },
  {
   "cell_type": "code",
   "execution_count": 218,
   "metadata": {},
   "outputs": [],
   "source": [
    "c = 100"
   ]
  },
  {
   "cell_type": "code",
   "execution_count": 216,
   "metadata": {},
   "outputs": [
    {
     "name": "stdout",
     "output_type": "stream",
     "text": [
      "hi\n"
     ]
    }
   ],
   "source": [
    "if c == 10:\n",
    "    print(\"hello\")\n",
    "else:\n",
    "    print('hi')"
   ]
  },
  {
   "cell_type": "code",
   "execution_count": 219,
   "metadata": {},
   "outputs": [
    {
     "name": "stdout",
     "output_type": "stream",
     "text": [
      "good morning\n"
     ]
    }
   ],
   "source": [
    "if c == 10:\n",
    "    print(\"hello\")\n",
    "elif c == 100:\n",
    "    print('good morning')\n",
    "else:\n",
    "    print('hi')"
   ]
  },
  {
   "cell_type": "markdown",
   "metadata": {},
   "source": [
    "#### input() 함수\n",
    "\n",
    "https://docs.python.org/3/library/functions.html#input\n",
    "\n",
    "- 파이썬 내장함수\n",
    "- 사용자의 입력값을 받을 때 사용하며 반환되는 자료형은 string입니다.  \n",
    "- 즉 사용자가 숫자 10을 입력해도 input함수를 통해 반환된 값은 '10'이 됩니다.  \n",
    "    - 형변환 함수를 이용하여 자료형을 바꿔줍니다."
   ]
  },
  {
   "cell_type": "code",
   "execution_count": 236,
   "metadata": {},
   "outputs": [
    {
     "name": "stdout",
     "output_type": "stream",
     "text": [
      "숫자를 입력하세요100\n"
     ]
    }
   ],
   "source": [
    "k = int(input(\"숫자를 입력하세요\"))"
   ]
  },
  {
   "cell_type": "code",
   "execution_count": 237,
   "metadata": {},
   "outputs": [
    {
     "data": {
      "text/plain": [
       "int"
      ]
     },
     "execution_count": 237,
     "metadata": {},
     "output_type": "execute_result"
    }
   ],
   "source": [
    "type(k)"
   ]
  },
  {
   "cell_type": "markdown",
   "metadata": {},
   "source": [
    "### <font color = 'orange'> Q5 숫자를 입력받아 짝수이면 even, 홀수이면 odd를 출력하는 코드를 작성하세요. </font>\n",
    "\n",
    "- input() 함수 사용"
   ]
  },
  {
   "cell_type": "code",
   "execution_count": 268,
   "metadata": {},
   "outputs": [
    {
     "name": "stdout",
     "output_type": "stream",
     "text": [
      "숫자를 입력해 주세요: 10\n",
      "even\n"
     ]
    }
   ],
   "source": [
    "number = int(input(\"숫자를 입력해 주세요: \"))\n",
    "\n",
    "if number % 2 == 0 :\n",
    "    print(\"even\")\n",
    "else:\n",
    "    print(\"odd\")"
   ]
  },
  {
   "cell_type": "markdown",
   "metadata": {},
   "source": [
    "### break, continue\n",
    "\n",
    "- break: 코드를 중단하고 싶을때, break를 쓴다. \n",
    "- continue: 코드를 건너 띄고 싶을 때, continue를 쓴다. "
   ]
  },
  {
   "cell_type": "code",
   "execution_count": 277,
   "metadata": {},
   "outputs": [
    {
     "name": "stdout",
     "output_type": "stream",
     "text": [
      "0\n",
      "1\n",
      "2\n"
     ]
    }
   ],
   "source": [
    "# break문: 중단! (3에서 for문이 종료되었습니다)\n",
    "for i in range(10):\n",
    "    if i == 3:\n",
    "        break\n",
    "    print(i) "
   ]
  },
  {
   "cell_type": "code",
   "execution_count": 714,
   "metadata": {},
   "outputs": [
    {
     "name": "stdout",
     "output_type": "stream",
     "text": [
      "0\n",
      "1\n",
      "2\n",
      "4\n",
      "5\n",
      "6\n",
      "7\n",
      "8\n",
      "9\n"
     ]
    }
   ],
   "source": [
    "# continue문: skip! (3에서 for문을 완전히 수행하지 않은 채 다시 for문의 시작으로 갑니다.)\n",
    "for i in range(10):\n",
    "    if i == 3:\n",
    "        continue\n",
    "    print(i)"
   ]
  },
  {
   "cell_type": "code",
   "execution_count": 715,
   "metadata": {},
   "outputs": [
    {
     "name": "stdout",
     "output_type": "stream",
     "text": [
      "hi\n"
     ]
    }
   ],
   "source": [
    "a = 3\n",
    "\n",
    "while a == 3:\n",
    "    print(\"hi\")\n",
    "    break"
   ]
  },
  {
   "cell_type": "code",
   "execution_count": null,
   "metadata": {},
   "outputs": [],
   "source": []
  },
  {
   "cell_type": "markdown",
   "metadata": {},
   "source": [
    "### <font color = orange> Q6 한도가 50000인 카드를 금액을 초과할 때 까지 사용할 수 있는 코드를 작성. 만약 금액을 초과하면 사용이 불가해야 한다. </font>\n",
    "\n",
    "힌트\n",
    "\n",
    "- card = 50000 \n",
    "- cost = 0 \n",
    "- balance = card - cost\n",
    "\n",
    "\n",
    "- while문 동작\n",
    "- 조건: 카드의 잔액이 0보다 클때.\n",
    "- 카드 한도 초과시 c"
   ]
  },
  {
   "cell_type": "code",
   "execution_count": 283,
   "metadata": {},
   "outputs": [
    {
     "name": "stdout",
     "output_type": "stream",
     "text": [
      "사용 금액을 입력하세요: 60000\n",
      "한도를 초과했습니다.\n"
     ]
    }
   ],
   "source": [
    "card = 50000\n",
    "cost = 0\n",
    "balance = card - cost\n",
    "\n",
    "while cost < 50000:\n",
    "    c = int(input(\"사용 금액을 입력하세요: \"))\n",
    "\n",
    "    if c > balance:\n",
    "        print(\"한도를 초과했습니다.\")\n",
    "        break\n",
    "    \n",
    "    cost += c\n",
    "    balance = card - cost\n",
    "    #print(\"현재 잔액은{} 원 입니다.\".format(blanace))\n",
    "    print(\"현재 잔액은\", balance, \"원 입니다.\")"
   ]
  },
  {
   "cell_type": "code",
   "execution_count": null,
   "metadata": {},
   "outputs": [],
   "source": []
  },
  {
   "cell_type": "markdown",
   "metadata": {},
   "source": [
    "### <font color='orange'> Q7 로또 번호 랜덤 추출 1~45까지의 숫자중 6자리를 랜덤으로 출력합니다. </font>\n",
    "\n",
    "- 중복이 있으면 안됩니다.\n",
    "- 결과 예시\n",
    "\n",
    "result = [1,3,44,2,25,10]"
   ]
  },
  {
   "cell_type": "code",
   "execution_count": 307,
   "metadata": {},
   "outputs": [],
   "source": [
    "import random\n",
    "\n",
    "result = []\n",
    "\n",
    "while len(result) < 6:\n",
    "    n = random.randint(1, 45)\n",
    "    if n not in result:\n",
    "        result.append(n)"
   ]
  },
  {
   "cell_type": "code",
   "execution_count": 308,
   "metadata": {},
   "outputs": [
    {
     "data": {
      "text/plain": [
       "[8, 22, 37, 4, 6, 27]"
      ]
     },
     "execution_count": 308,
     "metadata": {},
     "output_type": "execute_result"
    }
   ],
   "source": [
    "result"
   ]
  },
  {
   "cell_type": "markdown",
   "metadata": {},
   "source": [
    "### <font color='orange'> Q8. weekend와 weekday 변수를 아래와 같이 선언한 뒤, input함수로 받은 요일에 대해 주말과 주중을 판단하는 코드를 작성하세요</font>\n",
    "\n",
    "- weekend = [\"토\", \"일\"]\n",
    "- weekday = [\"월\", \"화\", \"수\", \"목\", \"금\"]\n",
    "\n",
    "- question = input(\"요일 입력: \")\n",
    "\n",
    "결과예시) 입력:월 출력:주중  // 입력:일, 출력: 주말"
   ]
  },
  {
   "cell_type": "code",
   "execution_count": 313,
   "metadata": {},
   "outputs": [
    {
     "name": "stdout",
     "output_type": "stream",
     "text": [
      "요일을 입력하세요: 일요일\n",
      "잘못 입력하셨습니다. 요일을 한글자만 입력하세요, 예시: 월,화,수,목,금,토,일\n"
     ]
    }
   ],
   "source": [
    "weekend = [\"토\", \"일\"]\n",
    "weekday = [\"월\", \"화\", \"수\", \"목\", \"금\"]\n",
    "\n",
    "question = input(\"요일을 입력하세요: \")\n",
    "\n",
    "if question in weekend:\n",
    "    print(\"주말\")\n",
    "elif question in weekday:\n",
    "    print(\"주중\")\n",
    "else:\n",
    "    print(\"잘못 입력하셨습니다. 요일을 한글자만 입력하세요, 예시: 월,화,수,목,금,토,일\")"
   ]
  },
  {
   "cell_type": "markdown",
   "metadata": {},
   "source": [
    "### 4. 파일 처리 Remind\n",
    "\n",
    "- 다음과 같이 점수의 배열이 grade 변수명에 저장되어 있다.\n",
    "    - grade = ['8.65', '9.12', '8.45', '7.81', '8.05', '7.21', '8.31']\n",
    "\n",
    "\n",
    "\n",
    "- 코드1. result.txt 파일로 저장한다.\n",
    "- 코드2. 파일을 읽어 가장 높은 점수를 출력하는 코드를 만든다."
   ]
  },
  {
   "cell_type": "code",
   "execution_count": 716,
   "metadata": {},
   "outputs": [],
   "source": [
    "## 코드1\n",
    "grade = ['8.65', '9.12', '8.45', '7.81', '8.05', '7.21', '8.31']"
   ]
  },
  {
   "cell_type": "code",
   "execution_count": 720,
   "metadata": {},
   "outputs": [
    {
     "name": "stdout",
     "output_type": "stream",
     "text": [
      "Concents.md             Python_Introduction.pdf \u001b[34mfig\u001b[m\u001b[m\r\n",
      "\u001b[34mGUI\u001b[m\u001b[m                     \u001b[34mbasic_5day\u001b[m\u001b[m              hello.txt\r\n",
      "Python4DS.ipynb         \u001b[34mcontents\u001b[m\u001b[m\r\n"
     ]
    }
   ],
   "source": [
    "!ls"
   ]
  },
  {
   "cell_type": "code",
   "execution_count": 721,
   "metadata": {},
   "outputs": [],
   "source": [
    "## 코드1 - 파일 쓰기\n",
    "grade = ['8.65', '9.12', '8.45', '7.81', '8.05', '7.21', '8.31']\n",
    "file = open(\"result.txt\", \"w\")\n",
    "\n",
    "for i in grade:\n",
    "    data = \"{}\\n\".format(i)\n",
    "    file.write(data)\n",
    "\n",
    "file.close()\n"
   ]
  },
  {
   "cell_type": "code",
   "execution_count": 723,
   "metadata": {},
   "outputs": [
    {
     "name": "stdout",
     "output_type": "stream",
     "text": [
      "8.65\n",
      "\n",
      "9.12\n",
      "\n",
      "8.45\n",
      "\n",
      "7.81\n",
      "\n",
      "8.05\n",
      "\n",
      "7.21\n",
      "\n",
      "8.31\n",
      "\n"
     ]
    }
   ],
   "source": [
    "## 코드2 - 파일 읽기\n",
    "result_f = open(\"result.txt\")\n",
    "\n",
    "for i in result_f:\n",
    "    print(i)"
   ]
  },
  {
   "cell_type": "code",
   "execution_count": 724,
   "metadata": {},
   "outputs": [],
   "source": [
    "result_f.close()"
   ]
  },
  {
   "cell_type": "code",
   "execution_count": 725,
   "metadata": {},
   "outputs": [
    {
     "name": "stdout",
     "output_type": "stream",
     "text": [
      "The highest score was: \n",
      "9.12\n"
     ]
    }
   ],
   "source": [
    "## 코드2\n",
    "best_score = 0 \n",
    "result_f = open(\"result.txt\")\n",
    "\n",
    "for line in result_f:\n",
    "    if float(line) > best_score:\n",
    "        best_score = float(line)\n",
    "result_f.close()\n",
    "\n",
    "print(\"The highest score was: \")\n",
    "print(best_score)"
   ]
  },
  {
   "cell_type": "markdown",
   "metadata": {},
   "source": [
    "## <font color = 'skyblue'> 6. 함수 </font>\n",
    "------------\n",
    "1) def 키워드\n",
    "\n",
    "2) 함수의 정의와 호출\n",
    "- 정의 (define)\n",
    "- 호출 (call)\n",
    "\n",
    "3) 함수의 입력과 출력 \n",
    "\n",
    "- 입력: 인자(Argument), 파라미터(parameter)\n",
    "- 출력: return의 유무\n",
    "\n",
    "4) 인자\n",
    "- keyword Argument\n",
    "- positional Argument"
   ]
  },
  {
   "cell_type": "code",
   "execution_count": 327,
   "metadata": {},
   "outputs": [
    {
     "name": "stdout",
     "output_type": "stream",
     "text": [
      "hello\n",
      "hi\n",
      "goodmorning\n"
     ]
    }
   ],
   "source": [
    "def greeting():\n",
    "    print(\"hello\")\n",
    "    print(\"hi\")\n",
    "    print(\"goodmorning\")\n",
    "    \n",
    "greeting()"
   ]
  },
  {
   "cell_type": "code",
   "execution_count": null,
   "metadata": {},
   "outputs": [],
   "source": []
  },
  {
   "cell_type": "markdown",
   "metadata": {},
   "source": [
    "### 함수, def, 정의와 호출\n",
    "\n",
    "- 함수: 코드의 재사용(reuse)\n",
    "\n",
    "\n",
    "- 선언하기\n",
    "\n",
    "`\n",
    "def 함수이름():\n",
    "  <코드>\n",
    "`\n",
    "\n",
    "- 호출하기\n",
    "\n",
    "`함수이름()`\n",
    "\n",
    "\n",
    "- 선언(정의)하기 (define)\n",
    "- 호출하기 (call) : 실제로 사용할때"
   ]
  },
  {
   "cell_type": "code",
   "execution_count": 726,
   "metadata": {},
   "outputs": [
    {
     "name": "stdout",
     "output_type": "stream",
     "text": [
      "hello\n",
      "hi\n",
      "good morning\n"
     ]
    }
   ],
   "source": [
    "def greeting():\n",
    "    print(\"hello\")\n",
    "    print(\"hi\")\n",
    "    print(\"good morning\")\n",
    "\n",
    "greeting()"
   ]
  },
  {
   "cell_type": "markdown",
   "metadata": {},
   "source": [
    "### <font color='orange'> Q9. 간이 프로그램 만들어 보기 프로그램명: 적금 계산 </font>\n",
    "\n",
    "- 입력\n",
    "    - 원금\n",
    "    - 연간 이자율: 소수점으로 나타낸 1년동안의 비율\n",
    "\n",
    "- 출력\n",
    "10년 후 금액 "
   ]
  },
  {
   "cell_type": "code",
   "execution_count": 376,
   "metadata": {},
   "outputs": [],
   "source": [
    "def main():\n",
    "    # 안내 메시지를 출력한다. \n",
    "    # 원금 액수를 입력 받는다.\n",
    "    # 연간 이자율을 입력 받는다\n",
    "    # 10년이므로, 10회 반복한다. \n",
    "    # 반복한 값을 출력한다. \n",
    "    pass"
   ]
  },
  {
   "cell_type": "code",
   "execution_count": 386,
   "metadata": {},
   "outputs": [],
   "source": [
    "def main():\n",
    "    print(\"예금 가입을 축하 드립니다.\")\n",
    "    principal = int(input(\"원금 액수를 입력하세요: \"))\n",
    "    rate = 0.04\n",
    "    year = int(input(\"예금 가입 기간을 입력하세요: \"))\n",
    "    balance = 0\n",
    "    for i in range(year):\n",
    "        balance += principal * (1+rate)\n",
    "    print(\"이자율은 {} 입니다.\".format(rate))\n",
    "    print(\"10년 후의 금액은 {} 원 입니다.\".format(balance))"
   ]
  },
  {
   "cell_type": "code",
   "execution_count": 387,
   "metadata": {},
   "outputs": [
    {
     "name": "stdout",
     "output_type": "stream",
     "text": [
      "예금 가입을 축하 드립니다.\n",
      "원금 액수를 입력하세요: 1000\n",
      "예금 가입 기간을 입력하세요: 2\n",
      "이자율은 0.04 입니다.\n",
      "10년 후의 금액은 2080.0 원 입니다.\n"
     ]
    }
   ],
   "source": [
    "if __name__ == \"__main__\":\n",
    "    main()"
   ]
  },
  {
   "cell_type": "code",
   "execution_count": 384,
   "metadata": {},
   "outputs": [
    {
     "name": "stdout",
     "output_type": "stream",
     "text": [
      "예금 가입을 축하 드립니다.\n",
      "원금 액수를 입력하세요: 10000\n",
      "예금 가입 기간을 입력하세요: 10\n",
      "10년 후의 금액은 104000.0 원 입니다.\n"
     ]
    }
   ],
   "source": [
    "main()"
   ]
  },
  {
   "cell_type": "markdown",
   "metadata": {},
   "source": [
    "### 함수와 프로그램"
   ]
  },
  {
   "cell_type": "markdown",
   "metadata": {},
   "source": [
    "- 컴퓨터가 프로그램을 실행할 때 main()함수에서 시작한다.\n",
    "\n",
    "- 이 함수의 이름은 매우 매우 중요하다.!! \n",
    "- main()이라는 이름을 갖고 있는 함수가 없으면 우리의 프로그램은 시작되지 않는다. \n",
    "\n",
    "<C 언어>\n",
    "\n",
    "`\n",
    "int main()\n",
    "{\n",
    "    return 0;\n",
    "}\n",
    "`"
   ]
  },
  {
   "cell_type": "code",
   "execution_count": 727,
   "metadata": {},
   "outputs": [],
   "source": [
    "def main():\n",
    "    pass\n",
    "\n",
    "main()"
   ]
  },
  {
   "cell_type": "code",
   "execution_count": 728,
   "metadata": {},
   "outputs": [],
   "source": [
    "def main():\n",
    "    pass\n",
    "\n",
    "if __name__ == \"__main__\":\n",
    "    main()"
   ]
  },
  {
   "cell_type": "markdown",
   "metadata": {},
   "source": [
    "### 입력과 출력의 형태"
   ]
  },
  {
   "cell_type": "markdown",
   "metadata": {},
   "source": [
    "<img src='./fig/img1.jpg'>\n",
    "\n",
    "*매개변수(parameter)는 함수 입력으로 들어갈 변수를 지정해 주는 것이고, 실제로 입력에 값을 대입할때는 인자(argument)라고 한다.\n",
    "\n",
    "`\n",
    "def func(a,b):\n",
    "    return a+b\n",
    "`\n",
    "\n",
    "`\n",
    "func(1,2)\n",
    "`\n",
    "\n",
    "- 매개변수는 a,b // 인자는 1,2"
   ]
  },
  {
   "cell_type": "code",
   "execution_count": 729,
   "metadata": {},
   "outputs": [],
   "source": [
    "#입력 : 반지름\n",
    "#출력 : 원의 면적\n",
    "    \n",
    "def cir(r):\n",
    "    area = 3.14*r*r\n",
    "    return area"
   ]
  },
  {
   "cell_type": "code",
   "execution_count": 731,
   "metadata": {},
   "outputs": [
    {
     "data": {
      "text/plain": [
       "28.259999999999998"
      ]
     },
     "execution_count": 731,
     "metadata": {},
     "output_type": "execute_result"
    }
   ],
   "source": [
    "cir(3)"
   ]
  },
  {
   "cell_type": "markdown",
   "metadata": {},
   "source": [
    "### 함수의 입력과 출력"
   ]
  },
  {
   "cell_type": "markdown",
   "metadata": {},
   "source": [
    "#### 입력값이 없는 함수, 결과 값이 없는 함수"
   ]
  },
  {
   "cell_type": "code",
   "execution_count": 732,
   "metadata": {},
   "outputs": [],
   "source": [
    "def greeting():\n",
    "    print(\"hello\")"
   ]
  },
  {
   "cell_type": "code",
   "execution_count": 733,
   "metadata": {},
   "outputs": [
    {
     "name": "stdout",
     "output_type": "stream",
     "text": [
      "hello\n"
     ]
    }
   ],
   "source": [
    "a = greeting()"
   ]
  },
  {
   "cell_type": "code",
   "execution_count": 734,
   "metadata": {},
   "outputs": [
    {
     "name": "stdout",
     "output_type": "stream",
     "text": [
      "None\n"
     ]
    }
   ],
   "source": [
    "print(a)"
   ]
  },
  {
   "cell_type": "code",
   "execution_count": null,
   "metadata": {},
   "outputs": [],
   "source": []
  },
  {
   "cell_type": "markdown",
   "metadata": {},
   "source": [
    "#### 입력값이 없는 함수, 결과값이 있는 함수"
   ]
  },
  {
   "cell_type": "code",
   "execution_count": 735,
   "metadata": {},
   "outputs": [],
   "source": [
    "def greeting():\n",
    "    return \"hello\""
   ]
  },
  {
   "cell_type": "code",
   "execution_count": 736,
   "metadata": {},
   "outputs": [],
   "source": [
    "a = greeting()"
   ]
  },
  {
   "cell_type": "code",
   "execution_count": 344,
   "metadata": {},
   "outputs": [
    {
     "name": "stdout",
     "output_type": "stream",
     "text": [
      "hello\n"
     ]
    }
   ],
   "source": [
    "print(a)"
   ]
  },
  {
   "cell_type": "markdown",
   "metadata": {},
   "source": [
    "#### 입력값이 있고 결과값이 있는 함수"
   ]
  },
  {
   "cell_type": "code",
   "execution_count": 345,
   "metadata": {},
   "outputs": [],
   "source": [
    "def cir(r):\n",
    "    area = 3.14*r**2\n",
    "    return area"
   ]
  },
  {
   "cell_type": "code",
   "execution_count": 346,
   "metadata": {},
   "outputs": [
    {
     "name": "stdout",
     "output_type": "stream",
     "text": [
      "28.26\n"
     ]
    }
   ],
   "source": [
    "cir_3 = cir(3)\n",
    "print(cir_3)"
   ]
  },
  {
   "cell_type": "markdown",
   "metadata": {},
   "source": [
    "#### 입력값이 있고 결과값이 없는 함수"
   ]
  },
  {
   "cell_type": "markdown",
   "metadata": {},
   "source": [
    "#### 정리\n",
    "\n",
    "- 매개X결과O : f = func1(), f = None\n",
    "- 매개O결과O : f = func1(a,b)\n",
    "- 매개X결과X : f = func(), f = None\n",
    "- 매개O결과X : f = func(a,b), f = None\n"
   ]
  },
  {
   "cell_type": "code",
   "execution_count": null,
   "metadata": {},
   "outputs": [],
   "source": []
  },
  {
   "cell_type": "markdown",
   "metadata": {},
   "source": [
    "### 위치인자, 키워드 인자 (매개변수의 초기값)"
   ]
  },
  {
   "cell_type": "code",
   "execution_count": 357,
   "metadata": {},
   "outputs": [],
   "source": [
    "def func(a=3, b=1):\n",
    "    A = a*2\n",
    "    B = b+2\n",
    "    return A, B"
   ]
  },
  {
   "cell_type": "code",
   "execution_count": 359,
   "metadata": {},
   "outputs": [
    {
     "data": {
      "text/plain": [
       "(20, 4)"
      ]
     },
     "execution_count": 359,
     "metadata": {},
     "output_type": "execute_result"
    }
   ],
   "source": [
    "func(10, 2)"
   ]
  },
  {
   "cell_type": "code",
   "execution_count": 351,
   "metadata": {},
   "outputs": [
    {
     "name": "stdout",
     "output_type": "stream",
     "text": [
      "(6, 5)\n"
     ]
    }
   ],
   "source": [
    "print(func(3,3))"
   ]
  },
  {
   "cell_type": "code",
   "execution_count": 352,
   "metadata": {},
   "outputs": [
    {
     "data": {
      "text/plain": [
       "(14, 10)"
      ]
     },
     "execution_count": 352,
     "metadata": {},
     "output_type": "execute_result"
    }
   ],
   "source": [
    "func(7,8)"
   ]
  },
  {
   "cell_type": "code",
   "execution_count": 354,
   "metadata": {},
   "outputs": [
    {
     "data": {
      "text/plain": [
       "(16, 9)"
      ]
     },
     "execution_count": 354,
     "metadata": {},
     "output_type": "execute_result"
    }
   ],
   "source": [
    "func(b=7, a=8)"
   ]
  },
  {
   "cell_type": "markdown",
   "metadata": {},
   "source": [
    "#### 지역변수와 전역변수\n",
    "\n",
    "키워드 global\n",
    "\n",
    "`\n",
    "a = 1\n",
    "`\n",
    "\n",
    "`\n",
    "def func():\n",
    "    global a\n",
    "    a = a+1\n",
    "`\n",
    "\n",
    "`\n",
    "func()\n",
    "print(a)\n",
    "`"
   ]
  },
  {
   "cell_type": "code",
   "execution_count": 737,
   "metadata": {},
   "outputs": [],
   "source": [
    "a = 1\n",
    "\n",
    "def func():\n",
    "    global a\n",
    "    a += 1"
   ]
  },
  {
   "cell_type": "code",
   "execution_count": 738,
   "metadata": {},
   "outputs": [],
   "source": [
    "func()"
   ]
  },
  {
   "cell_type": "code",
   "execution_count": 739,
   "metadata": {},
   "outputs": [
    {
     "name": "stdout",
     "output_type": "stream",
     "text": [
      "2\n"
     ]
    }
   ],
   "source": [
    "print(a)"
   ]
  },
  {
   "cell_type": "markdown",
   "metadata": {},
   "source": [
    "## <font color = 'skyblue'> 7. 변수와 객체 그리고 클래스 Intro </font>\n",
    "-------------------------\n",
    "1) 파이썬에서 모든 것은 객체로 이루어져 있다. \n",
    "\n",
    "2) 변수의 의미\n",
    "\n",
    "3) 얕은 복사, 깊은복사\n",
    "- id()"
   ]
  },
  {
   "cell_type": "markdown",
   "metadata": {},
   "source": [
    "### 파이썬에서는 모든것이 객체다. \n",
    "\n"
   ]
  },
  {
   "cell_type": "markdown",
   "metadata": {},
   "source": [
    "\"Everything in Python is an object, and almost everything has attributes and methods\"\n",
    "\n",
    "- 파이썬에서 모든것은 객체(Object)이다. 그리고 대부분의 객체는 속성(attributes)과 메소드(methods)를 갖는다. 라는 말은 파이썬에서 매우 중요한 말입니다. \n",
    "\n",
    "- 이 말은...파이썬에서는 부울, 정수, 실수, 문자열, list, dictionary, 함수, 모듈, 프로그램...등 모든 것이 객체로 이루어져 있다는 뜻입니다. \n",
    "\n",
    "아래 링크에 전체 내용이 나와있으니 한번 읽어 보세요. \n",
    "https://linux.die.net/diveintopython/html/getting_to_know_python/everything_is_an_object.html"
   ]
  },
  {
   "cell_type": "code",
   "execution_count": null,
   "metadata": {},
   "outputs": [],
   "source": []
  },
  {
   "cell_type": "markdown",
   "metadata": {},
   "source": [
    "### 변수, 객체 참조"
   ]
  },
  {
   "cell_type": "markdown",
   "metadata": {},
   "source": [
    "변수란 객체의 이름일 뿐이다. 즉, 객체를 참조하는 것이다."
   ]
  },
  {
   "cell_type": "code",
   "execution_count": null,
   "metadata": {},
   "outputs": [],
   "source": []
  },
  {
   "cell_type": "code",
   "execution_count": null,
   "metadata": {},
   "outputs": [],
   "source": []
  },
  {
   "cell_type": "code",
   "execution_count": null,
   "metadata": {},
   "outputs": [],
   "source": []
  },
  {
   "cell_type": "markdown",
   "metadata": {},
   "source": [
    "### 얕은복사, 깊은 복사"
   ]
  },
  {
   "cell_type": "markdown",
   "metadata": {},
   "source": [
    "<img src='./fig/img2.jpg'>"
   ]
  },
  {
   "cell_type": "code",
   "execution_count": null,
   "metadata": {},
   "outputs": [],
   "source": []
  },
  {
   "cell_type": "markdown",
   "metadata": {},
   "source": [
    "<img src='./fig/img3.jpg'>"
   ]
  },
  {
   "cell_type": "code",
   "execution_count": null,
   "metadata": {},
   "outputs": [],
   "source": []
  },
  {
   "cell_type": "markdown",
   "metadata": {},
   "source": [
    "## <font color = 'skyblue'> 8. 클래스와 객체지향 프로그래밍 </font>\n",
    "--------------------------\n",
    "\n",
    "#### 클래스: 파이썬 클래스를 이용해 사용자가 객체를 설계하고 \n",
    "\n",
    "\n",
    "#### <클래스 문법>\n",
    "\n",
    "1) 클래스 선언\n",
    "\n",
    "2) 클래스 사용\n",
    "\n",
    "3) 클래스의 상태와 동작은 속성과 메소드\n",
    "- self\n",
    "\n",
    "4) 생성자 `__init__`\n",
    "\n",
    "5) 멤버변수와 인스턴스 변수\n",
    "\n",
    "6) 상속\n",
    "\n",
    "- 메소드 재정의\n",
    "- 메소드 오버라이드\n",
    "- 부모클래스 호출: super()\n",
    "\n",
    "\n",
    "#### <객체를 사용하는 이유>\n"
   ]
  },
  {
   "cell_type": "code",
   "execution_count": null,
   "metadata": {},
   "outputs": [],
   "source": []
  },
  {
   "cell_type": "code",
   "execution_count": null,
   "metadata": {},
   "outputs": [],
   "source": []
  },
  {
   "cell_type": "code",
   "execution_count": null,
   "metadata": {},
   "outputs": [],
   "source": []
  },
  {
   "cell_type": "code",
   "execution_count": null,
   "metadata": {},
   "outputs": [],
   "source": []
  },
  {
   "cell_type": "code",
   "execution_count": null,
   "metadata": {},
   "outputs": [],
   "source": []
  },
  {
   "cell_type": "code",
   "execution_count": null,
   "metadata": {},
   "outputs": [],
   "source": []
  },
  {
   "cell_type": "code",
   "execution_count": null,
   "metadata": {},
   "outputs": [],
   "source": []
  },
  {
   "cell_type": "code",
   "execution_count": null,
   "metadata": {},
   "outputs": [],
   "source": []
  },
  {
   "cell_type": "code",
   "execution_count": null,
   "metadata": {},
   "outputs": [],
   "source": []
  },
  {
   "cell_type": "code",
   "execution_count": null,
   "metadata": {},
   "outputs": [],
   "source": []
  },
  {
   "cell_type": "markdown",
   "metadata": {},
   "source": [
    "## <font color = 'skyblue'> (collections) </font>\n",
    "\n",
    "https://docs.python.org/3.7/library/collections.html"
   ]
  },
  {
   "cell_type": "markdown",
   "metadata": {},
   "source": [
    "\n",
    "## <font color = 'skyblue'> 9. 중간 점검 </font>\n",
    "\n",
    "------------------\n",
    "1) 예외처리와 조건문, 딕셔너리 응용문제 \n",
    "\n",
    "2) 클래스를 이용한 데이터 처리  응용문제"
   ]
  },
  {
   "cell_type": "markdown",
   "metadata": {},
   "source": [
    "## <font color = 'skyblue'> 10. 파일과 경로 </font>\n",
    "\n",
    "-------------------------------\n"
   ]
  },
  {
   "cell_type": "code",
   "execution_count": null,
   "metadata": {},
   "outputs": [],
   "source": []
  },
  {
   "cell_type": "code",
   "execution_count": null,
   "metadata": {},
   "outputs": [],
   "source": []
  },
  {
   "cell_type": "code",
   "execution_count": null,
   "metadata": {},
   "outputs": [],
   "source": []
  },
  {
   "cell_type": "code",
   "execution_count": null,
   "metadata": {},
   "outputs": [],
   "source": []
  },
  {
   "cell_type": "code",
   "execution_count": 388,
   "metadata": {},
   "outputs": [
    {
     "data": {
      "text/plain": [
       "array([1, 2, 3])"
      ]
     },
     "execution_count": 388,
     "metadata": {},
     "output_type": "execute_result"
    }
   ],
   "source": [
    "import numpy as np\n",
    "\n",
    "a = np.array([1,2,3])\n",
    "a"
   ]
  },
  {
   "cell_type": "code",
   "execution_count": 393,
   "metadata": {},
   "outputs": [
    {
     "data": {
      "text/plain": [
       "(3,)"
      ]
     },
     "execution_count": 393,
     "metadata": {},
     "output_type": "execute_result"
    }
   ],
   "source": [
    "a.shape"
   ]
  },
  {
   "cell_type": "code",
   "execution_count": 394,
   "metadata": {},
   "outputs": [],
   "source": [
    "a = np.array([[0,1,2],[3,4,5]])"
   ]
  },
  {
   "cell_type": "code",
   "execution_count": 395,
   "metadata": {},
   "outputs": [
    {
     "data": {
      "text/plain": [
       "(2, 3)"
      ]
     },
     "execution_count": 395,
     "metadata": {},
     "output_type": "execute_result"
    }
   ],
   "source": [
    "a.shape"
   ]
  },
  {
   "cell_type": "code",
   "execution_count": 396,
   "metadata": {},
   "outputs": [],
   "source": [
    "import numpy as np\n",
    "\n",
    "arr = np.zeros((10,10))"
   ]
  },
  {
   "cell_type": "code",
   "execution_count": 397,
   "metadata": {},
   "outputs": [
    {
     "data": {
      "text/plain": [
       "array([[0., 0., 0., 0., 0., 0., 0., 0., 0., 0., 0., 0., 0., 0., 0., 0.,\n",
       "        0., 0., 0., 0., 0., 0., 0., 0., 0., 0., 0., 0., 0., 0., 0., 0.,\n",
       "        0., 0., 0., 0., 0., 0., 0., 0., 0., 0., 0., 0., 0., 0., 0., 0.,\n",
       "        0., 0.],\n",
       "       [0., 0., 0., 0., 0., 0., 0., 0., 0., 0., 0., 0., 0., 0., 0., 0.,\n",
       "        0., 0., 0., 0., 0., 0., 0., 0., 0., 0., 0., 0., 0., 0., 0., 0.,\n",
       "        0., 0., 0., 0., 0., 0., 0., 0., 0., 0., 0., 0., 0., 0., 0., 0.,\n",
       "        0., 0.]])"
      ]
     },
     "execution_count": 397,
     "metadata": {},
     "output_type": "execute_result"
    }
   ],
   "source": [
    "arr.reshape(2,50)"
   ]
  },
  {
   "cell_type": "code",
   "execution_count": 398,
   "metadata": {},
   "outputs": [
    {
     "data": {
      "text/plain": [
       "array([[0.],\n",
       "       [0.],\n",
       "       [0.],\n",
       "       [0.],\n",
       "       [0.],\n",
       "       [0.],\n",
       "       [0.],\n",
       "       [0.],\n",
       "       [0.],\n",
       "       [0.],\n",
       "       [0.],\n",
       "       [0.],\n",
       "       [0.],\n",
       "       [0.],\n",
       "       [0.],\n",
       "       [0.],\n",
       "       [0.],\n",
       "       [0.],\n",
       "       [0.],\n",
       "       [0.],\n",
       "       [0.],\n",
       "       [0.],\n",
       "       [0.],\n",
       "       [0.],\n",
       "       [0.],\n",
       "       [0.],\n",
       "       [0.],\n",
       "       [0.],\n",
       "       [0.],\n",
       "       [0.],\n",
       "       [0.],\n",
       "       [0.],\n",
       "       [0.],\n",
       "       [0.],\n",
       "       [0.],\n",
       "       [0.],\n",
       "       [0.],\n",
       "       [0.],\n",
       "       [0.],\n",
       "       [0.],\n",
       "       [0.],\n",
       "       [0.],\n",
       "       [0.],\n",
       "       [0.],\n",
       "       [0.],\n",
       "       [0.],\n",
       "       [0.],\n",
       "       [0.],\n",
       "       [0.],\n",
       "       [0.],\n",
       "       [0.],\n",
       "       [0.],\n",
       "       [0.],\n",
       "       [0.],\n",
       "       [0.],\n",
       "       [0.],\n",
       "       [0.],\n",
       "       [0.],\n",
       "       [0.],\n",
       "       [0.],\n",
       "       [0.],\n",
       "       [0.],\n",
       "       [0.],\n",
       "       [0.],\n",
       "       [0.],\n",
       "       [0.],\n",
       "       [0.],\n",
       "       [0.],\n",
       "       [0.],\n",
       "       [0.],\n",
       "       [0.],\n",
       "       [0.],\n",
       "       [0.],\n",
       "       [0.],\n",
       "       [0.],\n",
       "       [0.],\n",
       "       [0.],\n",
       "       [0.],\n",
       "       [0.],\n",
       "       [0.],\n",
       "       [0.],\n",
       "       [0.],\n",
       "       [0.],\n",
       "       [0.],\n",
       "       [0.],\n",
       "       [0.],\n",
       "       [0.],\n",
       "       [0.],\n",
       "       [0.],\n",
       "       [0.],\n",
       "       [0.],\n",
       "       [0.],\n",
       "       [0.],\n",
       "       [0.],\n",
       "       [0.],\n",
       "       [0.],\n",
       "       [0.],\n",
       "       [0.],\n",
       "       [0.],\n",
       "       [0.]])"
      ]
     },
     "execution_count": 398,
     "metadata": {},
     "output_type": "execute_result"
    }
   ],
   "source": [
    "arr.reshape(-1,1)"
   ]
  },
  {
   "cell_type": "code",
   "execution_count": 399,
   "metadata": {},
   "outputs": [
    {
     "data": {
      "text/plain": [
       "array([[0., 0., 0., 0., 0., 0., 0., 0., 0., 0., 0., 0., 0., 0., 0., 0.,\n",
       "        0., 0., 0., 0., 0., 0., 0., 0., 0., 0., 0., 0., 0., 0., 0., 0.,\n",
       "        0., 0., 0., 0., 0., 0., 0., 0., 0., 0., 0., 0., 0., 0., 0., 0.,\n",
       "        0., 0., 0., 0., 0., 0., 0., 0., 0., 0., 0., 0., 0., 0., 0., 0.,\n",
       "        0., 0., 0., 0., 0., 0., 0., 0., 0., 0., 0., 0., 0., 0., 0., 0.,\n",
       "        0., 0., 0., 0., 0., 0., 0., 0., 0., 0., 0., 0., 0., 0., 0., 0.,\n",
       "        0., 0., 0., 0.]])"
      ]
     },
     "execution_count": 399,
     "metadata": {},
     "output_type": "execute_result"
    }
   ],
   "source": [
    "arr.reshape(1,-1)"
   ]
  },
  {
   "cell_type": "code",
   "execution_count": 401,
   "metadata": {},
   "outputs": [
    {
     "ename": "ValueError",
     "evalue": "cannot reshape array of size 100 into shape (2,1)",
     "output_type": "error",
     "traceback": [
      "\u001b[0;31m---------------------------------------------------------------------------\u001b[0m",
      "\u001b[0;31mValueError\u001b[0m                                Traceback (most recent call last)",
      "\u001b[0;32m<ipython-input-401-830e0910d47c>\u001b[0m in \u001b[0;36m<module>\u001b[0;34m\u001b[0m\n\u001b[0;32m----> 1\u001b[0;31m \u001b[0marr\u001b[0m\u001b[0;34m.\u001b[0m\u001b[0mreshape\u001b[0m\u001b[0;34m(\u001b[0m\u001b[0;36m2\u001b[0m\u001b[0;34m,\u001b[0m\u001b[0;36m1\u001b[0m\u001b[0;34m)\u001b[0m\u001b[0;34m\u001b[0m\u001b[0;34m\u001b[0m\u001b[0m\n\u001b[0m",
      "\u001b[0;31mValueError\u001b[0m: cannot reshape array of size 100 into shape (2,1)"
     ]
    }
   ],
   "source": [
    "arr.reshape(2,1)"
   ]
  },
  {
   "cell_type": "code",
   "execution_count": null,
   "metadata": {},
   "outputs": [],
   "source": []
  },
  {
   "cell_type": "code",
   "execution_count": null,
   "metadata": {},
   "outputs": [],
   "source": []
  },
  {
   "cell_type": "code",
   "execution_count": null,
   "metadata": {},
   "outputs": [],
   "source": []
  },
  {
   "cell_type": "markdown",
   "metadata": {},
   "source": [
    "## <font color = 'skyblue'> 11. NumPy </font>\n",
    "------------------------\n",
    "1) array 만들기\n",
    "\n",
    "- arrange()\n",
    "- array([])\n",
    "\n",
    "2) 크기 (size, shape, dim)\n",
    "\n",
    "- np.size\n",
    "- np.shape\n",
    "- np.dim\n",
    "\n",
    "3) type\n",
    "\n",
    "- a.dtype\n",
    "- type(a)\n",
    "\n",
    "4) 빈번한 에러\n",
    "\n",
    "5)  특수 행렬 : 0행렬, 1행렬, 단위 행렬\n",
    "\n",
    "- np.zeros([])\n",
    "- np.ones([])\n",
    "- np.eye()\n",
    "\n",
    "6) random\n",
    "\n",
    "- np.random.randint\n",
    "- np.random.choice\n",
    "- np.random.permutation\n",
    "\n",
    "7) reshape, flatten\n",
    "\n",
    "- np.reshape()\n",
    "- np.flatten()\n",
    "\n",
    "8) slicing\n",
    "\n",
    "9) 주요 연산\n",
    "\n",
    "- 행렬연산과 브로드 캐스팅\n",
    "- np.dot()\n",
    "- np.transpose()\n",
    "- np.sum()\n",
    "- np.sqrt()"
   ]
  },
  {
   "cell_type": "markdown",
   "metadata": {},
   "source": [
    "## <font color = 'skyblue'> 12. Pandas </font>\n",
    "-------------------------\n",
    "1) series와 dataframe\n",
    "\n",
    "2) 파일 읽기와 저장\n",
    "\n",
    "3) EDA 연습!"
   ]
  },
  {
   "cell_type": "code",
   "execution_count": null,
   "metadata": {},
   "outputs": [],
   "source": []
  },
  {
   "cell_type": "code",
   "execution_count": null,
   "metadata": {},
   "outputs": [],
   "source": []
  },
  {
   "cell_type": "code",
   "execution_count": null,
   "metadata": {},
   "outputs": [],
   "source": []
  },
  {
   "cell_type": "code",
   "execution_count": null,
   "metadata": {},
   "outputs": [],
   "source": []
  },
  {
   "cell_type": "code",
   "execution_count": null,
   "metadata": {},
   "outputs": [],
   "source": []
  },
  {
   "cell_type": "code",
   "execution_count": null,
   "metadata": {},
   "outputs": [],
   "source": []
  },
  {
   "cell_type": "code",
   "execution_count": null,
   "metadata": {},
   "outputs": [],
   "source": []
  },
  {
   "cell_type": "markdown",
   "metadata": {},
   "source": [
    "## <font color = 'skyblue'> 13. 마무리 </font>\n",
    "------------------------"
   ]
  },
  {
   "cell_type": "code",
   "execution_count": null,
   "metadata": {},
   "outputs": [],
   "source": []
  }
 ],
 "metadata": {
  "kernelspec": {
   "display_name": "Python 3.7.4 64-bit",
   "language": "python",
   "name": "python37464bit2ca5af9ea4dd4c818af2de9ba3f7b37b"
  },
  "language_info": {
   "codemirror_mode": {
    "name": "ipython",
    "version": 3
   },
   "file_extension": ".py",
   "mimetype": "text/x-python",
   "name": "python",
   "nbconvert_exporter": "python",
   "pygments_lexer": "ipython3",
   "version": "3.8.2"
  }
 },
 "nbformat": 4,
 "nbformat_minor": 2
}
